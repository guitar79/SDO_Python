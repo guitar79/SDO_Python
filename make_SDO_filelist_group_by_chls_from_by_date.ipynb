{
 "cells": [
  {
   "attachments": {},
   "cell_type": "markdown",
   "metadata": {},
   "source": [
    "# combine master files"
   ]
  },
  {
   "attachments": {},
   "cell_type": "markdown",
   "metadata": {},
   "source": [
    "## 필요한 모듈\n",
    "\n",
    "이 프로젝트를 위해서는 아래의 모듈이 필요하다. \n",
    "\n",
    "> pandas, BeautifulSoup4, version_information"
   ]
  },
  {
   "attachments": {},
   "cell_type": "markdown",
   "metadata": {},
   "source": [
    "### 모듈 설치\n",
    "\n",
    "1. 콘솔 창에서 모듈을 설치할 때는 아래와 같은 형식으로 입력하면 된다.\n",
    "\n",
    ">pip install module_name==version\n",
    "\n",
    ">conda install module_name==version\n",
    "\n",
    "2. 주피터 노트북(코랩 포함)에 설치 할 때는 아래의 셀을 실행해서 실행되지 않은 모듈을 설치할 수 있다. (pip 기준) 만약 아나콘다 환경을 사용한다면 7행을 콘다 설치 명령어에 맞게 수정하면 된다."
   ]
  },
  {
   "cell_type": "code",
   "execution_count": 1,
   "metadata": {},
   "outputs": [
    {
     "name": "stdout",
     "output_type": "stream",
     "text": [
      "******** pandas module is already installed.\n",
      "**** BeautifulSoup4 module is now installed.\n",
      "******** version_information module is already installed.\n",
      "This notebook was generated at 2024-03-19 18:51:50 (대한민국 표준시 = GMT+0900) \n",
      "0 Python     3.9.18 64bit [MSC v.1916 64 bit (AMD64)]\n",
      "1 IPython    8.10.0\n",
      "2 OS         Windows 10 10.0.22631 SP0\n",
      "3 pandas     1.5.3\n",
      "4 BeautifulSoup4 4.11.1\n",
      "5 version_information 1.0.4\n"
     ]
    }
   ],
   "source": [
    "# Install a pip package in the current Jupyter kernel\n",
    "import importlib, sys, subprocess\n",
    "\n",
    "packages = \"pandas, BeautifulSoup4, version_information\" # required modules\n",
    "pkgs = packages.split(\", \")\n",
    "for pkg in pkgs :\n",
    "    if not importlib.util.find_spec(pkg):\n",
    "        subprocess.check_call([sys.executable, '-m', 'pip', 'install', pkg, '-q'])\n",
    "        print(f\"**** {pkg} module is now installed.\")\n",
    "    else: \n",
    "        print(f\"******** {pkg} module is already installed.\")\n",
    "%load_ext version_information\n",
    "import time\n",
    "now = time.strftime(\"%Y-%m-%d %H:%M:%S (%Z = GMT%z)\")\n",
    "print(f\"This notebook was generated at {now} \")\n",
    "\n",
    "vv = %version_information {packages}\n",
    "for i, pkg in enumerate(vv.packages):\n",
    "    print(f\"{i} {pkg[0]:10s} {pkg[1]:s}\")"
   ]
  },
  {
   "attachments": {},
   "cell_type": "markdown",
   "metadata": {},
   "source": [
    "### 모듈 버전 확인\n",
    "\n",
    "아래 셀을 실행하면 이 노트북을 실행한 파이썬 및 관련 모듈의 버전을 확인할 수 있다."
   ]
  },
  {
   "attachments": {},
   "cell_type": "markdown",
   "metadata": {},
   "source": [
    "### import modules"
   ]
  },
  {
   "cell_type": "code",
   "execution_count": 2,
   "metadata": {},
   "outputs": [],
   "source": [
    "from glob import glob\n",
    "from pathlib import Path\n",
    "import os\n",
    "from datetime import datetime\n",
    "import pandas as pd\n",
    "import os\n",
    "import SDO_utilities"
   ]
  },
  {
   "cell_type": "code",
   "execution_count": 3,
   "metadata": {},
   "outputs": [],
   "source": [
    "# some variables for downloading (site, file, perid and time gap, etc.)\n",
    "site = 'https://sdo.gsfc.nasa.gov/assets/img/browse/'\n",
    "\n",
    "#this tpye of image will be added\n",
    "img_sizes = [4096, 3072, 2048, 1024, 512]\n",
    "chls = ['0131', '0171', '0193', '0211',\n",
    "        '0304', '0094', '0335', '1600', '1700', '0211', '4500', \n",
    "        'HMIB', 'HMIBC', 'HMID', 'HMII', 'HMIIC', 'HMIIF']\n",
    "        #'211193171', '211193171n', '211193171rg']"
   ]
  },
  {
   "cell_type": "code",
   "execution_count": 4,
   "metadata": {},
   "outputs": [
    {
     "name": "stdout",
     "output_type": "stream",
     "text": [
      "********************************************************************************\n",
      "SDO_filelists_by_chls/ is already exist.\n"
     ]
    }
   ],
   "source": [
    "targets = []\n",
    "for img_size in img_sizes :\n",
    "    for chl in chls : \n",
    "        targets.append('{0}_{1}'.format(str(img_size), chl))\n",
    "  \n",
    "filelist_dir_name = 'SDO_filelists_by_date/'\n",
    "save_dir_name = 'SDO_filelists_by_chls/'\n",
    "if not os.path.exists(save_dir_name):\n",
    "    os.makedirs(save_dir_name)\n",
    "    print ('*'*80)\n",
    "    print ('{0} is created.'.format(save_dir_name))\n",
    "else : \n",
    "    print ('*'*80)\n",
    "    print ('{0} is already exist.'.format(save_dir_name))"
   ]
  },
  {
   "cell_type": "code",
   "execution_count": 2,
   "metadata": {},
   "outputs": [
    {
     "name": "stdout",
     "output_type": "stream",
     "text": [
      "DOINGDIRs:  [PosixPath('/mnt/Rdata/OBS_data/asteroid/RiLA600_STX-16803_-_1bin/120LACHESIS_LIGHT_-_2023-10-10_-_RiLA600_STX-16803_-_1bin'), PosixPath('/mnt/Rdata/OBS_data/asteroid/RiLA600_STX-16803_-_1bin/120LACHESIS_LIGHT_-_2023-10-11_-_RiLA600_STX-16803_-_1bin'), PosixPath('/mnt/Rdata/OBS_data/asteroid/RiLA600_STX-16803_-_1bin/120LACHESIS_LIGHT_-_2023-10-16_-_RiLA600_STX-16803_-_1bin'), PosixPath('/mnt/Rdata/OBS_data/asteroid/RiLA600_STX-16803_-_1bin/120LACHESIS_LIGHT_-_2023-10-17_-_RiLA600_STX-16803_-_1bin'), PosixPath('/mnt/Rdata/OBS_data/asteroid/RiLA600_STX-16803_-_1bin/135HERTHA_LIGHT_-_2023-10-10_-_RiLA600_STX-16803_-_1bin'), PosixPath('/mnt/Rdata/OBS_data/asteroid/RiLA600_STX-16803_-_1bin/135HERTHA_LIGHT_-_2023-10-11_-_RiLA600_STX-16803_-_1bin'), PosixPath('/mnt/Rdata/OBS_data/asteroid/RiLA600_STX-16803_-_1bin/135HERTHA_LIGHT_-_2023-10-16_-_RiLA600_STX-16803_-_1bin'), PosixPath('/mnt/Rdata/OBS_data/asteroid/RiLA600_STX-16803_-_1bin/1659PUNKAHARJU_LIGHT_-_2023-10-10_-_RiLA600_STX-16803_-_1bin'), PosixPath('/mnt/Rdata/OBS_data/asteroid/RiLA600_STX-16803_-_1bin/1659PUNKAHARJU_LIGHT_-_2023-10-11_-_RiLA600_STX-16803_-_1bin'), PosixPath('/mnt/Rdata/OBS_data/asteroid/RiLA600_STX-16803_-_1bin/1659PUNKAHARJU_LIGHT_-_2023-10-16_-_RiLA600_STX-16803_-_1bin'), PosixPath('/mnt/Rdata/OBS_data/asteroid/RiLA600_STX-16803_-_1bin/1659PUNKAHARJU_LIGHT_-_2023-10-17_-_RiLA600_STX-16803_-_1bin'), PosixPath('/mnt/Rdata/OBS_data/asteroid/RiLA600_STX-16803_-_1bin/182ELSA_LIGHT_-_2023-10-17_-_RiLA600_STX-16803_-_1bin'), PosixPath('/mnt/Rdata/OBS_data/asteroid/RiLA600_STX-16803_-_1bin/182ELSA_LIGHT_-_2023-10-28_-_RiLA600_STX-16803_-_1bin'), PosixPath('/mnt/Rdata/OBS_data/asteroid/RiLA600_STX-16803_-_1bin/182ELSA_LIGHT_-_2023-10-29_-_RiLA600_STX-16803_-_1bin'), PosixPath('/mnt/Rdata/OBS_data/asteroid/RiLA600_STX-16803_-_1bin/182ELSA_LIGHT_-_2023-10-30_-_RiLA600_STX-16803_-_1bin'), PosixPath('/mnt/Rdata/OBS_data/asteroid/RiLA600_STX-16803_-_1bin/21LUTETIA_LIGHT_-_2023-10-11_-_RiLA600_STX-16803_-_1bin'), PosixPath('/mnt/Rdata/OBS_data/asteroid/RiLA600_STX-16803_-_1bin/21LUTETIA_LIGHT_-_2023-10-16_-_RiLA600_STX-16803_-_1bin'), PosixPath('/mnt/Rdata/OBS_data/asteroid/RiLA600_STX-16803_-_1bin/21LUTETIA_LIGHT_-_2023-10-17_-_RiLA600_STX-16803_-_1bin'), PosixPath('/mnt/Rdata/OBS_data/asteroid/RiLA600_STX-16803_-_1bin/241GERMANIA_LIGHT_-_2023-10-28_-_RiLA600_STX-16803_-_1bin'), PosixPath('/mnt/Rdata/OBS_data/asteroid/RiLA600_STX-16803_-_1bin/241GERMANIA_LIGHT_-_2023-10-29_-_RiLA600_STX-16803_-_1bin'), PosixPath('/mnt/Rdata/OBS_data/asteroid/RiLA600_STX-16803_-_1bin/241GERMANIA_LIGHT_-_2023-10-30_-_RiLA600_STX-16803_-_1bin'), PosixPath('/mnt/Rdata/OBS_data/asteroid/RiLA600_STX-16803_-_1bin/345TERCIDINA_LIGHT_-_2023-10-11_-_RiLA600_STX-16803_-_1bin'), PosixPath('/mnt/Rdata/OBS_data/asteroid/RiLA600_STX-16803_-_1bin/345TERCIDINA_LIGHT_-_2023-10-16_-_RiLA600_STX-16803_-_1bin'), PosixPath('/mnt/Rdata/OBS_data/asteroid/RiLA600_STX-16803_-_1bin/345TERCIDINA_LIGHT_-_2023-10-17_-_RiLA600_STX-16803_-_1bin'), PosixPath('/mnt/Rdata/OBS_data/asteroid/RiLA600_STX-16803_-_1bin/345TERCIDINA_LIGHT_-_2023-10-29_-_RiLA600_STX-16803_-_1bin'), PosixPath('/mnt/Rdata/OBS_data/asteroid/RiLA600_STX-16803_-_1bin/409ASPASIA_LIGHT_-_2023-10-17_-_RiLA600_STX-16803_-_1bin'), PosixPath('/mnt/Rdata/OBS_data/asteroid/RiLA600_STX-16803_-_1bin/480HANSA_LIGHT_-_2023-10-28_-_RiLA600_STX-16803_-_1bin'), PosixPath('/mnt/Rdata/OBS_data/asteroid/RiLA600_STX-16803_-_1bin/480HANSA_LIGHT_-_2023-10-29_-_RiLA600_STX-16803_-_1bin'), PosixPath('/mnt/Rdata/OBS_data/asteroid/RiLA600_STX-16803_-_1bin/480HANSA_LIGHT_-_2023-10-30_-_RiLA600_STX-16803_-_1bin'), PosixPath('/mnt/Rdata/OBS_data/asteroid/RiLA600_STX-16803_-_1bin/595POLYXENA_LIGHT_-_2023-10-28_-_RiLA600_STX-16803_-_1bin'), PosixPath('/mnt/Rdata/OBS_data/asteroid/RiLA600_STX-16803_-_1bin/595POLYXENA_LIGHT_-_2023-10-29_-_RiLA600_STX-16803_-_1bin'), PosixPath('/mnt/Rdata/OBS_data/asteroid/RiLA600_STX-16803_-_1bin/595POLYXENA_LIGHT_-_2023-10-30_-_RiLA600_STX-16803_-_1bin'), PosixPath('/mnt/Rdata/OBS_data/asteroid/RiLA600_STX-16803_-_1bin/602MARIANNA_LIGHT_-_2023-10-10_-_RiLA600_STX-16803_-_1bin'), PosixPath('/mnt/Rdata/OBS_data/asteroid/RiLA600_STX-16803_-_1bin/639LATONA_LIGHT_-_2023-10-29_-_RiLA600_STX-16803_-_1bin'), PosixPath('/mnt/Rdata/OBS_data/asteroid/RiLA600_STX-16803_-_1bin/639LATONA_LIGHT_-_2023-10-30_-_RiLA600_STX-16803_-_1bin'), PosixPath('/mnt/Rdata/OBS_data/asteroid/RiLA600_STX-16803_-_1bin/678FREDEGUNDIS_LIGHT_-_2023-10-11_-_RiLA600_STX-16803_-_1bin'), PosixPath('/mnt/Rdata/OBS_data/asteroid/RiLA600_STX-16803_-_1bin/678FREDEGUNDIS_LIGHT_-_2023-10-16_-_RiLA600_STX-16803_-_1bin'), PosixPath('/mnt/Rdata/OBS_data/asteroid/RiLA600_STX-16803_-_1bin/678FREDEGUNDIS_LIGHT_-_2023-10-17_-_RiLA600_STX-16803_-_1bin'), PosixPath('/mnt/Rdata/OBS_data/asteroid/RiLA600_STX-16803_-_1bin/93MINERVA_LIGHT_-_2023-10-28_-_RiLA600_STX-16803_-_1bin'), PosixPath('/mnt/Rdata/OBS_data/asteroid/RiLA600_STX-16803_-_1bin/93MINERVA_LIGHT_-_2023-10-29_-_RiLA600_STX-16803_-_1bin'), PosixPath('/mnt/Rdata/OBS_data/asteroid/RiLA600_STX-16803_-_1bin/93MINERVA_LIGHT_-_2023-10-30_-_RiLA600_STX-16803_-_1bin')]\n",
      "len(DOINGDIRs):  41\n"
     ]
    }
   ],
   "source": [
    "#%%\n",
    "BASEDIR = Path(\"/mnt/Rdata/OBS_data\") \n",
    "DOINGDIR = Path(BASEDIR/ \"asteroid\" / \"RiLA600_STX-16803_-_1bin\")\n",
    "DOINGDIRs = sorted(_Python_utilities.getFullnameListOfsubDirs(DOINGDIR))\n",
    "DOINGDIRs = sorted([x for x in DOINGDIR.iterdir() if x.is_dir()])\n",
    "print (\"DOINGDIRs: \", format(DOINGDIRs))\n",
    "print (\"len(DOINGDIRs): \", format(len(DOINGDIRs)))"
   ]
  },
  {
   "cell_type": "code",
   "execution_count": 8,
   "metadata": {},
   "outputs": [],
   "source": [
    "import shutil\n",
    "mas1 = Path(DOINGDIRs[0]/_astro_utilities.master_dir)"
   ]
  },
  {
   "cell_type": "code",
   "execution_count": 10,
   "metadata": {},
   "outputs": [
    {
     "name": "stdout",
     "output_type": "stream",
     "text": [
      "DOINGDIR /mnt/Rdata/OBS_data/asteroid/RiLA600_STX-16803_-_1bin/120LACHESIS_LIGHT_-_2023-10-11_-_RiLA600_STX-16803_-_1bin\n",
      "len(fits_in_dir) 40\n",
      "Starting: 120LACHESIS_LIGHT_-_2023-10-11_-_RiLA600_STX-16803_-_1bin\n",
      "/mnt/Rdata/OBS_data/asteroid/RiLA600_STX-16803_-_1bin/120LACHESIS_LIGHT_-_2023-10-11_-_RiLA600_STX-16803_-_1bin/reduced is created...\n",
      "All 130 keywords (guessed from /mnt/Rdata/OBS_data/asteroid/RiLA600_STX-16803_-_1bin/120LACHESIS_LIGHT_-_2023-10-11_-_RiLA600_STX-16803_-_1bin/120LACHESIS_LIGHT_R_2023-10-11-15-47-33_120sec_RiLA600_STX-16803_17c_1bin.fits) will be loaded.\n"
     ]
    },
    {
     "name": "stderr",
     "output_type": "stream",
     "text": [
      "/home/guitar79/anaconda3/envs/astro_Python_env/lib/python3.11/site-packages/ysfitsutilpy/filemgmt.py:298: UserWarning: Key A_ORDER not found for /mnt/Rdata/OBS_data/asteroid/RiLA600_STX-16803_-_1bin/120LACHESIS_LIGHT_-_2023-10-11_-_RiLA600_STX-16803_-_1bin/120LACHESIS_LIGHT_R_2023-10-11-15-52-56_120sec_RiLA600_STX-16803_16c_1bin.fits, filling with None.\n",
      "  warn(str_keyerror_fill.format(k, str(item)))\n",
      "/home/guitar79/anaconda3/envs/astro_Python_env/lib/python3.11/site-packages/ysfitsutilpy/filemgmt.py:298: UserWarning: Key A_0_0 not found for /mnt/Rdata/OBS_data/asteroid/RiLA600_STX-16803_-_1bin/120LACHESIS_LIGHT_-_2023-10-11_-_RiLA600_STX-16803_-_1bin/120LACHESIS_LIGHT_R_2023-10-11-15-52-56_120sec_RiLA600_STX-16803_16c_1bin.fits, filling with None.\n",
      "  warn(str_keyerror_fill.format(k, str(item)))\n",
      "/home/guitar79/anaconda3/envs/astro_Python_env/lib/python3.11/site-packages/ysfitsutilpy/filemgmt.py:298: UserWarning: Key A_0_1 not found for /mnt/Rdata/OBS_data/asteroid/RiLA600_STX-16803_-_1bin/120LACHESIS_LIGHT_-_2023-10-11_-_RiLA600_STX-16803_-_1bin/120LACHESIS_LIGHT_R_2023-10-11-15-52-56_120sec_RiLA600_STX-16803_16c_1bin.fits, filling with None.\n",
      "  warn(str_keyerror_fill.format(k, str(item)))\n",
      "/home/guitar79/anaconda3/envs/astro_Python_env/lib/python3.11/site-packages/ysfitsutilpy/filemgmt.py:298: UserWarning: Key A_0_2 not found for /mnt/Rdata/OBS_data/asteroid/RiLA600_STX-16803_-_1bin/120LACHESIS_LIGHT_-_2023-10-11_-_RiLA600_STX-16803_-_1bin/120LACHESIS_LIGHT_R_2023-10-11-15-52-56_120sec_RiLA600_STX-16803_16c_1bin.fits, filling with None.\n",
      "  warn(str_keyerror_fill.format(k, str(item)))\n",
      "/home/guitar79/anaconda3/envs/astro_Python_env/lib/python3.11/site-packages/ysfitsutilpy/filemgmt.py:298: UserWarning: Key A_1_0 not found for /mnt/Rdata/OBS_data/asteroid/RiLA600_STX-16803_-_1bin/120LACHESIS_LIGHT_-_2023-10-11_-_RiLA600_STX-16803_-_1bin/120LACHESIS_LIGHT_R_2023-10-11-15-52-56_120sec_RiLA600_STX-16803_16c_1bin.fits, filling with None.\n",
      "  warn(str_keyerror_fill.format(k, str(item)))\n",
      "/home/guitar79/anaconda3/envs/astro_Python_env/lib/python3.11/site-packages/ysfitsutilpy/filemgmt.py:298: UserWarning: Key A_1_1 not found for /mnt/Rdata/OBS_data/asteroid/RiLA600_STX-16803_-_1bin/120LACHESIS_LIGHT_-_2023-10-11_-_RiLA600_STX-16803_-_1bin/120LACHESIS_LIGHT_R_2023-10-11-15-52-56_120sec_RiLA600_STX-16803_16c_1bin.fits, filling with None.\n",
      "  warn(str_keyerror_fill.format(k, str(item)))\n",
      "/home/guitar79/anaconda3/envs/astro_Python_env/lib/python3.11/site-packages/ysfitsutilpy/filemgmt.py:298: UserWarning: Key A_2_0 not found for /mnt/Rdata/OBS_data/asteroid/RiLA600_STX-16803_-_1bin/120LACHESIS_LIGHT_-_2023-10-11_-_RiLA600_STX-16803_-_1bin/120LACHESIS_LIGHT_R_2023-10-11-15-52-56_120sec_RiLA600_STX-16803_16c_1bin.fits, filling with None.\n",
      "  warn(str_keyerror_fill.format(k, str(item)))\n",
      "/home/guitar79/anaconda3/envs/astro_Python_env/lib/python3.11/site-packages/ysfitsutilpy/filemgmt.py:298: UserWarning: Key B_ORDER not found for /mnt/Rdata/OBS_data/asteroid/RiLA600_STX-16803_-_1bin/120LACHESIS_LIGHT_-_2023-10-11_-_RiLA600_STX-16803_-_1bin/120LACHESIS_LIGHT_R_2023-10-11-15-52-56_120sec_RiLA600_STX-16803_16c_1bin.fits, filling with None.\n",
      "  warn(str_keyerror_fill.format(k, str(item)))\n",
      "/home/guitar79/anaconda3/envs/astro_Python_env/lib/python3.11/site-packages/ysfitsutilpy/filemgmt.py:298: UserWarning: Key B_0_0 not found for /mnt/Rdata/OBS_data/asteroid/RiLA600_STX-16803_-_1bin/120LACHESIS_LIGHT_-_2023-10-11_-_RiLA600_STX-16803_-_1bin/120LACHESIS_LIGHT_R_2023-10-11-15-52-56_120sec_RiLA600_STX-16803_16c_1bin.fits, filling with None.\n",
      "  warn(str_keyerror_fill.format(k, str(item)))\n",
      "/home/guitar79/anaconda3/envs/astro_Python_env/lib/python3.11/site-packages/ysfitsutilpy/filemgmt.py:298: UserWarning: Key B_0_1 not found for /mnt/Rdata/OBS_data/asteroid/RiLA600_STX-16803_-_1bin/120LACHESIS_LIGHT_-_2023-10-11_-_RiLA600_STX-16803_-_1bin/120LACHESIS_LIGHT_R_2023-10-11-15-52-56_120sec_RiLA600_STX-16803_16c_1bin.fits, filling with None.\n",
      "  warn(str_keyerror_fill.format(k, str(item)))\n",
      "/home/guitar79/anaconda3/envs/astro_Python_env/lib/python3.11/site-packages/ysfitsutilpy/filemgmt.py:298: UserWarning: Key B_0_2 not found for /mnt/Rdata/OBS_data/asteroid/RiLA600_STX-16803_-_1bin/120LACHESIS_LIGHT_-_2023-10-11_-_RiLA600_STX-16803_-_1bin/120LACHESIS_LIGHT_R_2023-10-11-15-52-56_120sec_RiLA600_STX-16803_16c_1bin.fits, filling with None.\n",
      "  warn(str_keyerror_fill.format(k, str(item)))\n",
      "/home/guitar79/anaconda3/envs/astro_Python_env/lib/python3.11/site-packages/ysfitsutilpy/filemgmt.py:298: UserWarning: Key B_1_0 not found for /mnt/Rdata/OBS_data/asteroid/RiLA600_STX-16803_-_1bin/120LACHESIS_LIGHT_-_2023-10-11_-_RiLA600_STX-16803_-_1bin/120LACHESIS_LIGHT_R_2023-10-11-15-52-56_120sec_RiLA600_STX-16803_16c_1bin.fits, filling with None.\n",
      "  warn(str_keyerror_fill.format(k, str(item)))\n",
      "/home/guitar79/anaconda3/envs/astro_Python_env/lib/python3.11/site-packages/ysfitsutilpy/filemgmt.py:298: UserWarning: Key B_1_1 not found for /mnt/Rdata/OBS_data/asteroid/RiLA600_STX-16803_-_1bin/120LACHESIS_LIGHT_-_2023-10-11_-_RiLA600_STX-16803_-_1bin/120LACHESIS_LIGHT_R_2023-10-11-15-52-56_120sec_RiLA600_STX-16803_16c_1bin.fits, filling with None.\n",
      "  warn(str_keyerror_fill.format(k, str(item)))\n",
      "/home/guitar79/anaconda3/envs/astro_Python_env/lib/python3.11/site-packages/ysfitsutilpy/filemgmt.py:298: UserWarning: Key B_2_0 not found for /mnt/Rdata/OBS_data/asteroid/RiLA600_STX-16803_-_1bin/120LACHESIS_LIGHT_-_2023-10-11_-_RiLA600_STX-16803_-_1bin/120LACHESIS_LIGHT_R_2023-10-11-15-52-56_120sec_RiLA600_STX-16803_16c_1bin.fits, filling with None.\n",
      "  warn(str_keyerror_fill.format(k, str(item)))\n",
      "/home/guitar79/anaconda3/envs/astro_Python_env/lib/python3.11/site-packages/ysfitsutilpy/filemgmt.py:298: UserWarning: Key AP_ORDER not found for /mnt/Rdata/OBS_data/asteroid/RiLA600_STX-16803_-_1bin/120LACHESIS_LIGHT_-_2023-10-11_-_RiLA600_STX-16803_-_1bin/120LACHESIS_LIGHT_R_2023-10-11-15-52-56_120sec_RiLA600_STX-16803_16c_1bin.fits, filling with None.\n",
      "  warn(str_keyerror_fill.format(k, str(item)))\n",
      "/home/guitar79/anaconda3/envs/astro_Python_env/lib/python3.11/site-packages/ysfitsutilpy/filemgmt.py:298: UserWarning: Key AP_0_0 not found for /mnt/Rdata/OBS_data/asteroid/RiLA600_STX-16803_-_1bin/120LACHESIS_LIGHT_-_2023-10-11_-_RiLA600_STX-16803_-_1bin/120LACHESIS_LIGHT_R_2023-10-11-15-52-56_120sec_RiLA600_STX-16803_16c_1bin.fits, filling with None.\n",
      "  warn(str_keyerror_fill.format(k, str(item)))\n",
      "/home/guitar79/anaconda3/envs/astro_Python_env/lib/python3.11/site-packages/ysfitsutilpy/filemgmt.py:298: UserWarning: Key AP_0_1 not found for /mnt/Rdata/OBS_data/asteroid/RiLA600_STX-16803_-_1bin/120LACHESIS_LIGHT_-_2023-10-11_-_RiLA600_STX-16803_-_1bin/120LACHESIS_LIGHT_R_2023-10-11-15-52-56_120sec_RiLA600_STX-16803_16c_1bin.fits, filling with None.\n",
      "  warn(str_keyerror_fill.format(k, str(item)))\n",
      "/home/guitar79/anaconda3/envs/astro_Python_env/lib/python3.11/site-packages/ysfitsutilpy/filemgmt.py:298: UserWarning: Key AP_0_2 not found for /mnt/Rdata/OBS_data/asteroid/RiLA600_STX-16803_-_1bin/120LACHESIS_LIGHT_-_2023-10-11_-_RiLA600_STX-16803_-_1bin/120LACHESIS_LIGHT_R_2023-10-11-15-52-56_120sec_RiLA600_STX-16803_16c_1bin.fits, filling with None.\n",
      "  warn(str_keyerror_fill.format(k, str(item)))\n",
      "/home/guitar79/anaconda3/envs/astro_Python_env/lib/python3.11/site-packages/ysfitsutilpy/filemgmt.py:298: UserWarning: Key AP_1_0 not found for /mnt/Rdata/OBS_data/asteroid/RiLA600_STX-16803_-_1bin/120LACHESIS_LIGHT_-_2023-10-11_-_RiLA600_STX-16803_-_1bin/120LACHESIS_LIGHT_R_2023-10-11-15-52-56_120sec_RiLA600_STX-16803_16c_1bin.fits, filling with None.\n",
      "  warn(str_keyerror_fill.format(k, str(item)))\n",
      "/home/guitar79/anaconda3/envs/astro_Python_env/lib/python3.11/site-packages/ysfitsutilpy/filemgmt.py:298: UserWarning: Key AP_1_1 not found for /mnt/Rdata/OBS_data/asteroid/RiLA600_STX-16803_-_1bin/120LACHESIS_LIGHT_-_2023-10-11_-_RiLA600_STX-16803_-_1bin/120LACHESIS_LIGHT_R_2023-10-11-15-52-56_120sec_RiLA600_STX-16803_16c_1bin.fits, filling with None.\n",
      "  warn(str_keyerror_fill.format(k, str(item)))\n",
      "/home/guitar79/anaconda3/envs/astro_Python_env/lib/python3.11/site-packages/ysfitsutilpy/filemgmt.py:298: UserWarning: Key AP_2_0 not found for /mnt/Rdata/OBS_data/asteroid/RiLA600_STX-16803_-_1bin/120LACHESIS_LIGHT_-_2023-10-11_-_RiLA600_STX-16803_-_1bin/120LACHESIS_LIGHT_R_2023-10-11-15-52-56_120sec_RiLA600_STX-16803_16c_1bin.fits, filling with None.\n",
      "  warn(str_keyerror_fill.format(k, str(item)))\n",
      "/home/guitar79/anaconda3/envs/astro_Python_env/lib/python3.11/site-packages/ysfitsutilpy/filemgmt.py:298: UserWarning: Key BP_ORDER not found for /mnt/Rdata/OBS_data/asteroid/RiLA600_STX-16803_-_1bin/120LACHESIS_LIGHT_-_2023-10-11_-_RiLA600_STX-16803_-_1bin/120LACHESIS_LIGHT_R_2023-10-11-15-52-56_120sec_RiLA600_STX-16803_16c_1bin.fits, filling with None.\n",
      "  warn(str_keyerror_fill.format(k, str(item)))\n",
      "/home/guitar79/anaconda3/envs/astro_Python_env/lib/python3.11/site-packages/ysfitsutilpy/filemgmt.py:298: UserWarning: Key BP_0_0 not found for /mnt/Rdata/OBS_data/asteroid/RiLA600_STX-16803_-_1bin/120LACHESIS_LIGHT_-_2023-10-11_-_RiLA600_STX-16803_-_1bin/120LACHESIS_LIGHT_R_2023-10-11-15-52-56_120sec_RiLA600_STX-16803_16c_1bin.fits, filling with None.\n",
      "  warn(str_keyerror_fill.format(k, str(item)))\n",
      "/home/guitar79/anaconda3/envs/astro_Python_env/lib/python3.11/site-packages/ysfitsutilpy/filemgmt.py:298: UserWarning: Key BP_0_1 not found for /mnt/Rdata/OBS_data/asteroid/RiLA600_STX-16803_-_1bin/120LACHESIS_LIGHT_-_2023-10-11_-_RiLA600_STX-16803_-_1bin/120LACHESIS_LIGHT_R_2023-10-11-15-52-56_120sec_RiLA600_STX-16803_16c_1bin.fits, filling with None.\n",
      "  warn(str_keyerror_fill.format(k, str(item)))\n",
      "/home/guitar79/anaconda3/envs/astro_Python_env/lib/python3.11/site-packages/ysfitsutilpy/filemgmt.py:298: UserWarning: Key BP_0_2 not found for /mnt/Rdata/OBS_data/asteroid/RiLA600_STX-16803_-_1bin/120LACHESIS_LIGHT_-_2023-10-11_-_RiLA600_STX-16803_-_1bin/120LACHESIS_LIGHT_R_2023-10-11-15-52-56_120sec_RiLA600_STX-16803_16c_1bin.fits, filling with None.\n",
      "  warn(str_keyerror_fill.format(k, str(item)))\n",
      "/home/guitar79/anaconda3/envs/astro_Python_env/lib/python3.11/site-packages/ysfitsutilpy/filemgmt.py:298: UserWarning: Key BP_1_0 not found for /mnt/Rdata/OBS_data/asteroid/RiLA600_STX-16803_-_1bin/120LACHESIS_LIGHT_-_2023-10-11_-_RiLA600_STX-16803_-_1bin/120LACHESIS_LIGHT_R_2023-10-11-15-52-56_120sec_RiLA600_STX-16803_16c_1bin.fits, filling with None.\n",
      "  warn(str_keyerror_fill.format(k, str(item)))\n",
      "/home/guitar79/anaconda3/envs/astro_Python_env/lib/python3.11/site-packages/ysfitsutilpy/filemgmt.py:298: UserWarning: Key BP_1_1 not found for /mnt/Rdata/OBS_data/asteroid/RiLA600_STX-16803_-_1bin/120LACHESIS_LIGHT_-_2023-10-11_-_RiLA600_STX-16803_-_1bin/120LACHESIS_LIGHT_R_2023-10-11-15-52-56_120sec_RiLA600_STX-16803_16c_1bin.fits, filling with None.\n",
      "  warn(str_keyerror_fill.format(k, str(item)))\n",
      "/home/guitar79/anaconda3/envs/astro_Python_env/lib/python3.11/site-packages/ysfitsutilpy/filemgmt.py:298: UserWarning: Key BP_2_0 not found for /mnt/Rdata/OBS_data/asteroid/RiLA600_STX-16803_-_1bin/120LACHESIS_LIGHT_-_2023-10-11_-_RiLA600_STX-16803_-_1bin/120LACHESIS_LIGHT_R_2023-10-11-15-52-56_120sec_RiLA600_STX-16803_16c_1bin.fits, filling with None.\n",
      "  warn(str_keyerror_fill.format(k, str(item)))\n",
      "/home/guitar79/anaconda3/envs/astro_Python_env/lib/python3.11/site-packages/ysfitsutilpy/filemgmt.py:298: UserWarning: Key A_ORDER not found for /mnt/Rdata/OBS_data/asteroid/RiLA600_STX-16803_-_1bin/120LACHESIS_LIGHT_-_2023-10-11_-_RiLA600_STX-16803_-_1bin/120LACHESIS_LIGHT_R_2023-10-11-15-58-20_120sec_RiLA600_STX-16803_16c_1bin.fits, filling with None.\n",
      "  warn(str_keyerror_fill.format(k, str(item)))\n",
      "/home/guitar79/anaconda3/envs/astro_Python_env/lib/python3.11/site-packages/ysfitsutilpy/filemgmt.py:298: UserWarning: Key A_0_0 not found for /mnt/Rdata/OBS_data/asteroid/RiLA600_STX-16803_-_1bin/120LACHESIS_LIGHT_-_2023-10-11_-_RiLA600_STX-16803_-_1bin/120LACHESIS_LIGHT_R_2023-10-11-15-58-20_120sec_RiLA600_STX-16803_16c_1bin.fits, filling with None.\n",
      "  warn(str_keyerror_fill.format(k, str(item)))\n",
      "/home/guitar79/anaconda3/envs/astro_Python_env/lib/python3.11/site-packages/ysfitsutilpy/filemgmt.py:298: UserWarning: Key A_0_1 not found for /mnt/Rdata/OBS_data/asteroid/RiLA600_STX-16803_-_1bin/120LACHESIS_LIGHT_-_2023-10-11_-_RiLA600_STX-16803_-_1bin/120LACHESIS_LIGHT_R_2023-10-11-15-58-20_120sec_RiLA600_STX-16803_16c_1bin.fits, filling with None.\n",
      "  warn(str_keyerror_fill.format(k, str(item)))\n",
      "/home/guitar79/anaconda3/envs/astro_Python_env/lib/python3.11/site-packages/ysfitsutilpy/filemgmt.py:298: UserWarning: Key A_0_2 not found for /mnt/Rdata/OBS_data/asteroid/RiLA600_STX-16803_-_1bin/120LACHESIS_LIGHT_-_2023-10-11_-_RiLA600_STX-16803_-_1bin/120LACHESIS_LIGHT_R_2023-10-11-15-58-20_120sec_RiLA600_STX-16803_16c_1bin.fits, filling with None.\n",
      "  warn(str_keyerror_fill.format(k, str(item)))\n",
      "/home/guitar79/anaconda3/envs/astro_Python_env/lib/python3.11/site-packages/ysfitsutilpy/filemgmt.py:298: UserWarning: Key A_1_0 not found for /mnt/Rdata/OBS_data/asteroid/RiLA600_STX-16803_-_1bin/120LACHESIS_LIGHT_-_2023-10-11_-_RiLA600_STX-16803_-_1bin/120LACHESIS_LIGHT_R_2023-10-11-15-58-20_120sec_RiLA600_STX-16803_16c_1bin.fits, filling with None.\n",
      "  warn(str_keyerror_fill.format(k, str(item)))\n",
      "/home/guitar79/anaconda3/envs/astro_Python_env/lib/python3.11/site-packages/ysfitsutilpy/filemgmt.py:298: UserWarning: Key A_1_1 not found for /mnt/Rdata/OBS_data/asteroid/RiLA600_STX-16803_-_1bin/120LACHESIS_LIGHT_-_2023-10-11_-_RiLA600_STX-16803_-_1bin/120LACHESIS_LIGHT_R_2023-10-11-15-58-20_120sec_RiLA600_STX-16803_16c_1bin.fits, filling with None.\n",
      "  warn(str_keyerror_fill.format(k, str(item)))\n",
      "/home/guitar79/anaconda3/envs/astro_Python_env/lib/python3.11/site-packages/ysfitsutilpy/filemgmt.py:298: UserWarning: Key A_2_0 not found for /mnt/Rdata/OBS_data/asteroid/RiLA600_STX-16803_-_1bin/120LACHESIS_LIGHT_-_2023-10-11_-_RiLA600_STX-16803_-_1bin/120LACHESIS_LIGHT_R_2023-10-11-15-58-20_120sec_RiLA600_STX-16803_16c_1bin.fits, filling with None.\n",
      "  warn(str_keyerror_fill.format(k, str(item)))\n",
      "/home/guitar79/anaconda3/envs/astro_Python_env/lib/python3.11/site-packages/ysfitsutilpy/filemgmt.py:298: UserWarning: Key B_ORDER not found for /mnt/Rdata/OBS_data/asteroid/RiLA600_STX-16803_-_1bin/120LACHESIS_LIGHT_-_2023-10-11_-_RiLA600_STX-16803_-_1bin/120LACHESIS_LIGHT_R_2023-10-11-15-58-20_120sec_RiLA600_STX-16803_16c_1bin.fits, filling with None.\n",
      "  warn(str_keyerror_fill.format(k, str(item)))\n",
      "/home/guitar79/anaconda3/envs/astro_Python_env/lib/python3.11/site-packages/ysfitsutilpy/filemgmt.py:298: UserWarning: Key B_0_0 not found for /mnt/Rdata/OBS_data/asteroid/RiLA600_STX-16803_-_1bin/120LACHESIS_LIGHT_-_2023-10-11_-_RiLA600_STX-16803_-_1bin/120LACHESIS_LIGHT_R_2023-10-11-15-58-20_120sec_RiLA600_STX-16803_16c_1bin.fits, filling with None.\n",
      "  warn(str_keyerror_fill.format(k, str(item)))\n",
      "/home/guitar79/anaconda3/envs/astro_Python_env/lib/python3.11/site-packages/ysfitsutilpy/filemgmt.py:298: UserWarning: Key B_0_1 not found for /mnt/Rdata/OBS_data/asteroid/RiLA600_STX-16803_-_1bin/120LACHESIS_LIGHT_-_2023-10-11_-_RiLA600_STX-16803_-_1bin/120LACHESIS_LIGHT_R_2023-10-11-15-58-20_120sec_RiLA600_STX-16803_16c_1bin.fits, filling with None.\n",
      "  warn(str_keyerror_fill.format(k, str(item)))\n",
      "/home/guitar79/anaconda3/envs/astro_Python_env/lib/python3.11/site-packages/ysfitsutilpy/filemgmt.py:298: UserWarning: Key B_0_2 not found for /mnt/Rdata/OBS_data/asteroid/RiLA600_STX-16803_-_1bin/120LACHESIS_LIGHT_-_2023-10-11_-_RiLA600_STX-16803_-_1bin/120LACHESIS_LIGHT_R_2023-10-11-15-58-20_120sec_RiLA600_STX-16803_16c_1bin.fits, filling with None.\n",
      "  warn(str_keyerror_fill.format(k, str(item)))\n",
      "/home/guitar79/anaconda3/envs/astro_Python_env/lib/python3.11/site-packages/ysfitsutilpy/filemgmt.py:298: UserWarning: Key B_1_0 not found for /mnt/Rdata/OBS_data/asteroid/RiLA600_STX-16803_-_1bin/120LACHESIS_LIGHT_-_2023-10-11_-_RiLA600_STX-16803_-_1bin/120LACHESIS_LIGHT_R_2023-10-11-15-58-20_120sec_RiLA600_STX-16803_16c_1bin.fits, filling with None.\n",
      "  warn(str_keyerror_fill.format(k, str(item)))\n",
      "/home/guitar79/anaconda3/envs/astro_Python_env/lib/python3.11/site-packages/ysfitsutilpy/filemgmt.py:298: UserWarning: Key B_1_1 not found for /mnt/Rdata/OBS_data/asteroid/RiLA600_STX-16803_-_1bin/120LACHESIS_LIGHT_-_2023-10-11_-_RiLA600_STX-16803_-_1bin/120LACHESIS_LIGHT_R_2023-10-11-15-58-20_120sec_RiLA600_STX-16803_16c_1bin.fits, filling with None.\n",
      "  warn(str_keyerror_fill.format(k, str(item)))\n",
      "/home/guitar79/anaconda3/envs/astro_Python_env/lib/python3.11/site-packages/ysfitsutilpy/filemgmt.py:298: UserWarning: Key B_2_0 not found for /mnt/Rdata/OBS_data/asteroid/RiLA600_STX-16803_-_1bin/120LACHESIS_LIGHT_-_2023-10-11_-_RiLA600_STX-16803_-_1bin/120LACHESIS_LIGHT_R_2023-10-11-15-58-20_120sec_RiLA600_STX-16803_16c_1bin.fits, filling with None.\n",
      "  warn(str_keyerror_fill.format(k, str(item)))\n",
      "/home/guitar79/anaconda3/envs/astro_Python_env/lib/python3.11/site-packages/ysfitsutilpy/filemgmt.py:298: UserWarning: Key AP_ORDER not found for /mnt/Rdata/OBS_data/asteroid/RiLA600_STX-16803_-_1bin/120LACHESIS_LIGHT_-_2023-10-11_-_RiLA600_STX-16803_-_1bin/120LACHESIS_LIGHT_R_2023-10-11-15-58-20_120sec_RiLA600_STX-16803_16c_1bin.fits, filling with None.\n",
      "  warn(str_keyerror_fill.format(k, str(item)))\n",
      "/home/guitar79/anaconda3/envs/astro_Python_env/lib/python3.11/site-packages/ysfitsutilpy/filemgmt.py:298: UserWarning: Key AP_0_0 not found for /mnt/Rdata/OBS_data/asteroid/RiLA600_STX-16803_-_1bin/120LACHESIS_LIGHT_-_2023-10-11_-_RiLA600_STX-16803_-_1bin/120LACHESIS_LIGHT_R_2023-10-11-15-58-20_120sec_RiLA600_STX-16803_16c_1bin.fits, filling with None.\n",
      "  warn(str_keyerror_fill.format(k, str(item)))\n",
      "/home/guitar79/anaconda3/envs/astro_Python_env/lib/python3.11/site-packages/ysfitsutilpy/filemgmt.py:298: UserWarning: Key AP_0_1 not found for /mnt/Rdata/OBS_data/asteroid/RiLA600_STX-16803_-_1bin/120LACHESIS_LIGHT_-_2023-10-11_-_RiLA600_STX-16803_-_1bin/120LACHESIS_LIGHT_R_2023-10-11-15-58-20_120sec_RiLA600_STX-16803_16c_1bin.fits, filling with None.\n",
      "  warn(str_keyerror_fill.format(k, str(item)))\n",
      "/home/guitar79/anaconda3/envs/astro_Python_env/lib/python3.11/site-packages/ysfitsutilpy/filemgmt.py:298: UserWarning: Key AP_0_2 not found for /mnt/Rdata/OBS_data/asteroid/RiLA600_STX-16803_-_1bin/120LACHESIS_LIGHT_-_2023-10-11_-_RiLA600_STX-16803_-_1bin/120LACHESIS_LIGHT_R_2023-10-11-15-58-20_120sec_RiLA600_STX-16803_16c_1bin.fits, filling with None.\n",
      "  warn(str_keyerror_fill.format(k, str(item)))\n",
      "/home/guitar79/anaconda3/envs/astro_Python_env/lib/python3.11/site-packages/ysfitsutilpy/filemgmt.py:298: UserWarning: Key AP_1_0 not found for /mnt/Rdata/OBS_data/asteroid/RiLA600_STX-16803_-_1bin/120LACHESIS_LIGHT_-_2023-10-11_-_RiLA600_STX-16803_-_1bin/120LACHESIS_LIGHT_R_2023-10-11-15-58-20_120sec_RiLA600_STX-16803_16c_1bin.fits, filling with None.\n",
      "  warn(str_keyerror_fill.format(k, str(item)))\n",
      "/home/guitar79/anaconda3/envs/astro_Python_env/lib/python3.11/site-packages/ysfitsutilpy/filemgmt.py:298: UserWarning: Key AP_1_1 not found for /mnt/Rdata/OBS_data/asteroid/RiLA600_STX-16803_-_1bin/120LACHESIS_LIGHT_-_2023-10-11_-_RiLA600_STX-16803_-_1bin/120LACHESIS_LIGHT_R_2023-10-11-15-58-20_120sec_RiLA600_STX-16803_16c_1bin.fits, filling with None.\n",
      "  warn(str_keyerror_fill.format(k, str(item)))\n",
      "/home/guitar79/anaconda3/envs/astro_Python_env/lib/python3.11/site-packages/ysfitsutilpy/filemgmt.py:298: UserWarning: Key AP_2_0 not found for /mnt/Rdata/OBS_data/asteroid/RiLA600_STX-16803_-_1bin/120LACHESIS_LIGHT_-_2023-10-11_-_RiLA600_STX-16803_-_1bin/120LACHESIS_LIGHT_R_2023-10-11-15-58-20_120sec_RiLA600_STX-16803_16c_1bin.fits, filling with None.\n",
      "  warn(str_keyerror_fill.format(k, str(item)))\n",
      "/home/guitar79/anaconda3/envs/astro_Python_env/lib/python3.11/site-packages/ysfitsutilpy/filemgmt.py:298: UserWarning: Key BP_ORDER not found for /mnt/Rdata/OBS_data/asteroid/RiLA600_STX-16803_-_1bin/120LACHESIS_LIGHT_-_2023-10-11_-_RiLA600_STX-16803_-_1bin/120LACHESIS_LIGHT_R_2023-10-11-15-58-20_120sec_RiLA600_STX-16803_16c_1bin.fits, filling with None.\n",
      "  warn(str_keyerror_fill.format(k, str(item)))\n",
      "/home/guitar79/anaconda3/envs/astro_Python_env/lib/python3.11/site-packages/ysfitsutilpy/filemgmt.py:298: UserWarning: Key BP_0_0 not found for /mnt/Rdata/OBS_data/asteroid/RiLA600_STX-16803_-_1bin/120LACHESIS_LIGHT_-_2023-10-11_-_RiLA600_STX-16803_-_1bin/120LACHESIS_LIGHT_R_2023-10-11-15-58-20_120sec_RiLA600_STX-16803_16c_1bin.fits, filling with None.\n",
      "  warn(str_keyerror_fill.format(k, str(item)))\n",
      "/home/guitar79/anaconda3/envs/astro_Python_env/lib/python3.11/site-packages/ysfitsutilpy/filemgmt.py:298: UserWarning: Key BP_0_1 not found for /mnt/Rdata/OBS_data/asteroid/RiLA600_STX-16803_-_1bin/120LACHESIS_LIGHT_-_2023-10-11_-_RiLA600_STX-16803_-_1bin/120LACHESIS_LIGHT_R_2023-10-11-15-58-20_120sec_RiLA600_STX-16803_16c_1bin.fits, filling with None.\n",
      "  warn(str_keyerror_fill.format(k, str(item)))\n",
      "/home/guitar79/anaconda3/envs/astro_Python_env/lib/python3.11/site-packages/ysfitsutilpy/filemgmt.py:298: UserWarning: Key BP_0_2 not found for /mnt/Rdata/OBS_data/asteroid/RiLA600_STX-16803_-_1bin/120LACHESIS_LIGHT_-_2023-10-11_-_RiLA600_STX-16803_-_1bin/120LACHESIS_LIGHT_R_2023-10-11-15-58-20_120sec_RiLA600_STX-16803_16c_1bin.fits, filling with None.\n",
      "  warn(str_keyerror_fill.format(k, str(item)))\n",
      "/home/guitar79/anaconda3/envs/astro_Python_env/lib/python3.11/site-packages/ysfitsutilpy/filemgmt.py:298: UserWarning: Key BP_1_0 not found for /mnt/Rdata/OBS_data/asteroid/RiLA600_STX-16803_-_1bin/120LACHESIS_LIGHT_-_2023-10-11_-_RiLA600_STX-16803_-_1bin/120LACHESIS_LIGHT_R_2023-10-11-15-58-20_120sec_RiLA600_STX-16803_16c_1bin.fits, filling with None.\n",
      "  warn(str_keyerror_fill.format(k, str(item)))\n",
      "/home/guitar79/anaconda3/envs/astro_Python_env/lib/python3.11/site-packages/ysfitsutilpy/filemgmt.py:298: UserWarning: Key BP_1_1 not found for /mnt/Rdata/OBS_data/asteroid/RiLA600_STX-16803_-_1bin/120LACHESIS_LIGHT_-_2023-10-11_-_RiLA600_STX-16803_-_1bin/120LACHESIS_LIGHT_R_2023-10-11-15-58-20_120sec_RiLA600_STX-16803_16c_1bin.fits, filling with None.\n",
      "  warn(str_keyerror_fill.format(k, str(item)))\n",
      "/home/guitar79/anaconda3/envs/astro_Python_env/lib/python3.11/site-packages/ysfitsutilpy/filemgmt.py:298: UserWarning: Key BP_2_0 not found for /mnt/Rdata/OBS_data/asteroid/RiLA600_STX-16803_-_1bin/120LACHESIS_LIGHT_-_2023-10-11_-_RiLA600_STX-16803_-_1bin/120LACHESIS_LIGHT_R_2023-10-11-15-58-20_120sec_RiLA600_STX-16803_16c_1bin.fits, filling with None.\n",
      "  warn(str_keyerror_fill.format(k, str(item)))\n",
      "/home/guitar79/anaconda3/envs/astro_Python_env/lib/python3.11/site-packages/ysfitsutilpy/filemgmt.py:298: UserWarning: Key A_ORDER not found for /mnt/Rdata/OBS_data/asteroid/RiLA600_STX-16803_-_1bin/120LACHESIS_LIGHT_-_2023-10-11_-_RiLA600_STX-16803_-_1bin/120LACHESIS_LIGHT_R_2023-10-11-16-16-42_180sec_RiLA600_STX-16803_16c_1bin.fits, filling with None.\n",
      "  warn(str_keyerror_fill.format(k, str(item)))\n",
      "/home/guitar79/anaconda3/envs/astro_Python_env/lib/python3.11/site-packages/ysfitsutilpy/filemgmt.py:298: UserWarning: Key A_0_0 not found for /mnt/Rdata/OBS_data/asteroid/RiLA600_STX-16803_-_1bin/120LACHESIS_LIGHT_-_2023-10-11_-_RiLA600_STX-16803_-_1bin/120LACHESIS_LIGHT_R_2023-10-11-16-16-42_180sec_RiLA600_STX-16803_16c_1bin.fits, filling with None.\n",
      "  warn(str_keyerror_fill.format(k, str(item)))\n",
      "/home/guitar79/anaconda3/envs/astro_Python_env/lib/python3.11/site-packages/ysfitsutilpy/filemgmt.py:298: UserWarning: Key A_0_1 not found for /mnt/Rdata/OBS_data/asteroid/RiLA600_STX-16803_-_1bin/120LACHESIS_LIGHT_-_2023-10-11_-_RiLA600_STX-16803_-_1bin/120LACHESIS_LIGHT_R_2023-10-11-16-16-42_180sec_RiLA600_STX-16803_16c_1bin.fits, filling with None.\n",
      "  warn(str_keyerror_fill.format(k, str(item)))\n",
      "/home/guitar79/anaconda3/envs/astro_Python_env/lib/python3.11/site-packages/ysfitsutilpy/filemgmt.py:298: UserWarning: Key A_0_2 not found for /mnt/Rdata/OBS_data/asteroid/RiLA600_STX-16803_-_1bin/120LACHESIS_LIGHT_-_2023-10-11_-_RiLA600_STX-16803_-_1bin/120LACHESIS_LIGHT_R_2023-10-11-16-16-42_180sec_RiLA600_STX-16803_16c_1bin.fits, filling with None.\n",
      "  warn(str_keyerror_fill.format(k, str(item)))\n",
      "/home/guitar79/anaconda3/envs/astro_Python_env/lib/python3.11/site-packages/ysfitsutilpy/filemgmt.py:298: UserWarning: Key A_1_0 not found for /mnt/Rdata/OBS_data/asteroid/RiLA600_STX-16803_-_1bin/120LACHESIS_LIGHT_-_2023-10-11_-_RiLA600_STX-16803_-_1bin/120LACHESIS_LIGHT_R_2023-10-11-16-16-42_180sec_RiLA600_STX-16803_16c_1bin.fits, filling with None.\n",
      "  warn(str_keyerror_fill.format(k, str(item)))\n",
      "/home/guitar79/anaconda3/envs/astro_Python_env/lib/python3.11/site-packages/ysfitsutilpy/filemgmt.py:298: UserWarning: Key A_1_1 not found for /mnt/Rdata/OBS_data/asteroid/RiLA600_STX-16803_-_1bin/120LACHESIS_LIGHT_-_2023-10-11_-_RiLA600_STX-16803_-_1bin/120LACHESIS_LIGHT_R_2023-10-11-16-16-42_180sec_RiLA600_STX-16803_16c_1bin.fits, filling with None.\n",
      "  warn(str_keyerror_fill.format(k, str(item)))\n",
      "/home/guitar79/anaconda3/envs/astro_Python_env/lib/python3.11/site-packages/ysfitsutilpy/filemgmt.py:298: UserWarning: Key A_2_0 not found for /mnt/Rdata/OBS_data/asteroid/RiLA600_STX-16803_-_1bin/120LACHESIS_LIGHT_-_2023-10-11_-_RiLA600_STX-16803_-_1bin/120LACHESIS_LIGHT_R_2023-10-11-16-16-42_180sec_RiLA600_STX-16803_16c_1bin.fits, filling with None.\n",
      "  warn(str_keyerror_fill.format(k, str(item)))\n",
      "/home/guitar79/anaconda3/envs/astro_Python_env/lib/python3.11/site-packages/ysfitsutilpy/filemgmt.py:298: UserWarning: Key B_ORDER not found for /mnt/Rdata/OBS_data/asteroid/RiLA600_STX-16803_-_1bin/120LACHESIS_LIGHT_-_2023-10-11_-_RiLA600_STX-16803_-_1bin/120LACHESIS_LIGHT_R_2023-10-11-16-16-42_180sec_RiLA600_STX-16803_16c_1bin.fits, filling with None.\n",
      "  warn(str_keyerror_fill.format(k, str(item)))\n",
      "/home/guitar79/anaconda3/envs/astro_Python_env/lib/python3.11/site-packages/ysfitsutilpy/filemgmt.py:298: UserWarning: Key B_0_0 not found for /mnt/Rdata/OBS_data/asteroid/RiLA600_STX-16803_-_1bin/120LACHESIS_LIGHT_-_2023-10-11_-_RiLA600_STX-16803_-_1bin/120LACHESIS_LIGHT_R_2023-10-11-16-16-42_180sec_RiLA600_STX-16803_16c_1bin.fits, filling with None.\n",
      "  warn(str_keyerror_fill.format(k, str(item)))\n",
      "/home/guitar79/anaconda3/envs/astro_Python_env/lib/python3.11/site-packages/ysfitsutilpy/filemgmt.py:298: UserWarning: Key B_0_1 not found for /mnt/Rdata/OBS_data/asteroid/RiLA600_STX-16803_-_1bin/120LACHESIS_LIGHT_-_2023-10-11_-_RiLA600_STX-16803_-_1bin/120LACHESIS_LIGHT_R_2023-10-11-16-16-42_180sec_RiLA600_STX-16803_16c_1bin.fits, filling with None.\n",
      "  warn(str_keyerror_fill.format(k, str(item)))\n",
      "/home/guitar79/anaconda3/envs/astro_Python_env/lib/python3.11/site-packages/ysfitsutilpy/filemgmt.py:298: UserWarning: Key B_0_2 not found for /mnt/Rdata/OBS_data/asteroid/RiLA600_STX-16803_-_1bin/120LACHESIS_LIGHT_-_2023-10-11_-_RiLA600_STX-16803_-_1bin/120LACHESIS_LIGHT_R_2023-10-11-16-16-42_180sec_RiLA600_STX-16803_16c_1bin.fits, filling with None.\n",
      "  warn(str_keyerror_fill.format(k, str(item)))\n",
      "/home/guitar79/anaconda3/envs/astro_Python_env/lib/python3.11/site-packages/ysfitsutilpy/filemgmt.py:298: UserWarning: Key B_1_0 not found for /mnt/Rdata/OBS_data/asteroid/RiLA600_STX-16803_-_1bin/120LACHESIS_LIGHT_-_2023-10-11_-_RiLA600_STX-16803_-_1bin/120LACHESIS_LIGHT_R_2023-10-11-16-16-42_180sec_RiLA600_STX-16803_16c_1bin.fits, filling with None.\n",
      "  warn(str_keyerror_fill.format(k, str(item)))\n",
      "/home/guitar79/anaconda3/envs/astro_Python_env/lib/python3.11/site-packages/ysfitsutilpy/filemgmt.py:298: UserWarning: Key B_1_1 not found for /mnt/Rdata/OBS_data/asteroid/RiLA600_STX-16803_-_1bin/120LACHESIS_LIGHT_-_2023-10-11_-_RiLA600_STX-16803_-_1bin/120LACHESIS_LIGHT_R_2023-10-11-16-16-42_180sec_RiLA600_STX-16803_16c_1bin.fits, filling with None.\n",
      "  warn(str_keyerror_fill.format(k, str(item)))\n",
      "/home/guitar79/anaconda3/envs/astro_Python_env/lib/python3.11/site-packages/ysfitsutilpy/filemgmt.py:298: UserWarning: Key B_2_0 not found for /mnt/Rdata/OBS_data/asteroid/RiLA600_STX-16803_-_1bin/120LACHESIS_LIGHT_-_2023-10-11_-_RiLA600_STX-16803_-_1bin/120LACHESIS_LIGHT_R_2023-10-11-16-16-42_180sec_RiLA600_STX-16803_16c_1bin.fits, filling with None.\n",
      "  warn(str_keyerror_fill.format(k, str(item)))\n",
      "/home/guitar79/anaconda3/envs/astro_Python_env/lib/python3.11/site-packages/ysfitsutilpy/filemgmt.py:298: UserWarning: Key AP_ORDER not found for /mnt/Rdata/OBS_data/asteroid/RiLA600_STX-16803_-_1bin/120LACHESIS_LIGHT_-_2023-10-11_-_RiLA600_STX-16803_-_1bin/120LACHESIS_LIGHT_R_2023-10-11-16-16-42_180sec_RiLA600_STX-16803_16c_1bin.fits, filling with None.\n",
      "  warn(str_keyerror_fill.format(k, str(item)))\n",
      "/home/guitar79/anaconda3/envs/astro_Python_env/lib/python3.11/site-packages/ysfitsutilpy/filemgmt.py:298: UserWarning: Key AP_0_0 not found for /mnt/Rdata/OBS_data/asteroid/RiLA600_STX-16803_-_1bin/120LACHESIS_LIGHT_-_2023-10-11_-_RiLA600_STX-16803_-_1bin/120LACHESIS_LIGHT_R_2023-10-11-16-16-42_180sec_RiLA600_STX-16803_16c_1bin.fits, filling with None.\n",
      "  warn(str_keyerror_fill.format(k, str(item)))\n",
      "/home/guitar79/anaconda3/envs/astro_Python_env/lib/python3.11/site-packages/ysfitsutilpy/filemgmt.py:298: UserWarning: Key AP_0_1 not found for /mnt/Rdata/OBS_data/asteroid/RiLA600_STX-16803_-_1bin/120LACHESIS_LIGHT_-_2023-10-11_-_RiLA600_STX-16803_-_1bin/120LACHESIS_LIGHT_R_2023-10-11-16-16-42_180sec_RiLA600_STX-16803_16c_1bin.fits, filling with None.\n",
      "  warn(str_keyerror_fill.format(k, str(item)))\n",
      "/home/guitar79/anaconda3/envs/astro_Python_env/lib/python3.11/site-packages/ysfitsutilpy/filemgmt.py:298: UserWarning: Key AP_0_2 not found for /mnt/Rdata/OBS_data/asteroid/RiLA600_STX-16803_-_1bin/120LACHESIS_LIGHT_-_2023-10-11_-_RiLA600_STX-16803_-_1bin/120LACHESIS_LIGHT_R_2023-10-11-16-16-42_180sec_RiLA600_STX-16803_16c_1bin.fits, filling with None.\n",
      "  warn(str_keyerror_fill.format(k, str(item)))\n",
      "/home/guitar79/anaconda3/envs/astro_Python_env/lib/python3.11/site-packages/ysfitsutilpy/filemgmt.py:298: UserWarning: Key AP_1_0 not found for /mnt/Rdata/OBS_data/asteroid/RiLA600_STX-16803_-_1bin/120LACHESIS_LIGHT_-_2023-10-11_-_RiLA600_STX-16803_-_1bin/120LACHESIS_LIGHT_R_2023-10-11-16-16-42_180sec_RiLA600_STX-16803_16c_1bin.fits, filling with None.\n",
      "  warn(str_keyerror_fill.format(k, str(item)))\n",
      "/home/guitar79/anaconda3/envs/astro_Python_env/lib/python3.11/site-packages/ysfitsutilpy/filemgmt.py:298: UserWarning: Key AP_1_1 not found for /mnt/Rdata/OBS_data/asteroid/RiLA600_STX-16803_-_1bin/120LACHESIS_LIGHT_-_2023-10-11_-_RiLA600_STX-16803_-_1bin/120LACHESIS_LIGHT_R_2023-10-11-16-16-42_180sec_RiLA600_STX-16803_16c_1bin.fits, filling with None.\n",
      "  warn(str_keyerror_fill.format(k, str(item)))\n",
      "/home/guitar79/anaconda3/envs/astro_Python_env/lib/python3.11/site-packages/ysfitsutilpy/filemgmt.py:298: UserWarning: Key AP_2_0 not found for /mnt/Rdata/OBS_data/asteroid/RiLA600_STX-16803_-_1bin/120LACHESIS_LIGHT_-_2023-10-11_-_RiLA600_STX-16803_-_1bin/120LACHESIS_LIGHT_R_2023-10-11-16-16-42_180sec_RiLA600_STX-16803_16c_1bin.fits, filling with None.\n",
      "  warn(str_keyerror_fill.format(k, str(item)))\n",
      "/home/guitar79/anaconda3/envs/astro_Python_env/lib/python3.11/site-packages/ysfitsutilpy/filemgmt.py:298: UserWarning: Key BP_ORDER not found for /mnt/Rdata/OBS_data/asteroid/RiLA600_STX-16803_-_1bin/120LACHESIS_LIGHT_-_2023-10-11_-_RiLA600_STX-16803_-_1bin/120LACHESIS_LIGHT_R_2023-10-11-16-16-42_180sec_RiLA600_STX-16803_16c_1bin.fits, filling with None.\n",
      "  warn(str_keyerror_fill.format(k, str(item)))\n",
      "/home/guitar79/anaconda3/envs/astro_Python_env/lib/python3.11/site-packages/ysfitsutilpy/filemgmt.py:298: UserWarning: Key BP_0_0 not found for /mnt/Rdata/OBS_data/asteroid/RiLA600_STX-16803_-_1bin/120LACHESIS_LIGHT_-_2023-10-11_-_RiLA600_STX-16803_-_1bin/120LACHESIS_LIGHT_R_2023-10-11-16-16-42_180sec_RiLA600_STX-16803_16c_1bin.fits, filling with None.\n",
      "  warn(str_keyerror_fill.format(k, str(item)))\n",
      "/home/guitar79/anaconda3/envs/astro_Python_env/lib/python3.11/site-packages/ysfitsutilpy/filemgmt.py:298: UserWarning: Key BP_0_1 not found for /mnt/Rdata/OBS_data/asteroid/RiLA600_STX-16803_-_1bin/120LACHESIS_LIGHT_-_2023-10-11_-_RiLA600_STX-16803_-_1bin/120LACHESIS_LIGHT_R_2023-10-11-16-16-42_180sec_RiLA600_STX-16803_16c_1bin.fits, filling with None.\n",
      "  warn(str_keyerror_fill.format(k, str(item)))\n",
      "/home/guitar79/anaconda3/envs/astro_Python_env/lib/python3.11/site-packages/ysfitsutilpy/filemgmt.py:298: UserWarning: Key BP_0_2 not found for /mnt/Rdata/OBS_data/asteroid/RiLA600_STX-16803_-_1bin/120LACHESIS_LIGHT_-_2023-10-11_-_RiLA600_STX-16803_-_1bin/120LACHESIS_LIGHT_R_2023-10-11-16-16-42_180sec_RiLA600_STX-16803_16c_1bin.fits, filling with None.\n",
      "  warn(str_keyerror_fill.format(k, str(item)))\n",
      "/home/guitar79/anaconda3/envs/astro_Python_env/lib/python3.11/site-packages/ysfitsutilpy/filemgmt.py:298: UserWarning: Key BP_1_0 not found for /mnt/Rdata/OBS_data/asteroid/RiLA600_STX-16803_-_1bin/120LACHESIS_LIGHT_-_2023-10-11_-_RiLA600_STX-16803_-_1bin/120LACHESIS_LIGHT_R_2023-10-11-16-16-42_180sec_RiLA600_STX-16803_16c_1bin.fits, filling with None.\n",
      "  warn(str_keyerror_fill.format(k, str(item)))\n",
      "/home/guitar79/anaconda3/envs/astro_Python_env/lib/python3.11/site-packages/ysfitsutilpy/filemgmt.py:298: UserWarning: Key BP_1_1 not found for /mnt/Rdata/OBS_data/asteroid/RiLA600_STX-16803_-_1bin/120LACHESIS_LIGHT_-_2023-10-11_-_RiLA600_STX-16803_-_1bin/120LACHESIS_LIGHT_R_2023-10-11-16-16-42_180sec_RiLA600_STX-16803_16c_1bin.fits, filling with None.\n",
      "  warn(str_keyerror_fill.format(k, str(item)))\n",
      "/home/guitar79/anaconda3/envs/astro_Python_env/lib/python3.11/site-packages/ysfitsutilpy/filemgmt.py:298: UserWarning: Key BP_2_0 not found for /mnt/Rdata/OBS_data/asteroid/RiLA600_STX-16803_-_1bin/120LACHESIS_LIGHT_-_2023-10-11_-_RiLA600_STX-16803_-_1bin/120LACHESIS_LIGHT_R_2023-10-11-16-16-42_180sec_RiLA600_STX-16803_16c_1bin.fits, filling with None.\n",
      "  warn(str_keyerror_fill.format(k, str(item)))\n",
      "/home/guitar79/anaconda3/envs/astro_Python_env/lib/python3.11/site-packages/ysfitsutilpy/filemgmt.py:298: UserWarning: Key A_ORDER not found for /mnt/Rdata/OBS_data/asteroid/RiLA600_STX-16803_-_1bin/120LACHESIS_LIGHT_-_2023-10-11_-_RiLA600_STX-16803_-_1bin/120LACHESIS_LIGHT_R_2023-10-11-16-22-05_180sec_RiLA600_STX-16803_16c_1bin.fits, filling with None.\n",
      "  warn(str_keyerror_fill.format(k, str(item)))\n",
      "/home/guitar79/anaconda3/envs/astro_Python_env/lib/python3.11/site-packages/ysfitsutilpy/filemgmt.py:298: UserWarning: Key A_0_0 not found for /mnt/Rdata/OBS_data/asteroid/RiLA600_STX-16803_-_1bin/120LACHESIS_LIGHT_-_2023-10-11_-_RiLA600_STX-16803_-_1bin/120LACHESIS_LIGHT_R_2023-10-11-16-22-05_180sec_RiLA600_STX-16803_16c_1bin.fits, filling with None.\n",
      "  warn(str_keyerror_fill.format(k, str(item)))\n",
      "/home/guitar79/anaconda3/envs/astro_Python_env/lib/python3.11/site-packages/ysfitsutilpy/filemgmt.py:298: UserWarning: Key A_0_1 not found for /mnt/Rdata/OBS_data/asteroid/RiLA600_STX-16803_-_1bin/120LACHESIS_LIGHT_-_2023-10-11_-_RiLA600_STX-16803_-_1bin/120LACHESIS_LIGHT_R_2023-10-11-16-22-05_180sec_RiLA600_STX-16803_16c_1bin.fits, filling with None.\n",
      "  warn(str_keyerror_fill.format(k, str(item)))\n",
      "/home/guitar79/anaconda3/envs/astro_Python_env/lib/python3.11/site-packages/ysfitsutilpy/filemgmt.py:298: UserWarning: Key A_0_2 not found for /mnt/Rdata/OBS_data/asteroid/RiLA600_STX-16803_-_1bin/120LACHESIS_LIGHT_-_2023-10-11_-_RiLA600_STX-16803_-_1bin/120LACHESIS_LIGHT_R_2023-10-11-16-22-05_180sec_RiLA600_STX-16803_16c_1bin.fits, filling with None.\n",
      "  warn(str_keyerror_fill.format(k, str(item)))\n",
      "/home/guitar79/anaconda3/envs/astro_Python_env/lib/python3.11/site-packages/ysfitsutilpy/filemgmt.py:298: UserWarning: Key A_1_0 not found for /mnt/Rdata/OBS_data/asteroid/RiLA600_STX-16803_-_1bin/120LACHESIS_LIGHT_-_2023-10-11_-_RiLA600_STX-16803_-_1bin/120LACHESIS_LIGHT_R_2023-10-11-16-22-05_180sec_RiLA600_STX-16803_16c_1bin.fits, filling with None.\n",
      "  warn(str_keyerror_fill.format(k, str(item)))\n",
      "/home/guitar79/anaconda3/envs/astro_Python_env/lib/python3.11/site-packages/ysfitsutilpy/filemgmt.py:298: UserWarning: Key A_1_1 not found for /mnt/Rdata/OBS_data/asteroid/RiLA600_STX-16803_-_1bin/120LACHESIS_LIGHT_-_2023-10-11_-_RiLA600_STX-16803_-_1bin/120LACHESIS_LIGHT_R_2023-10-11-16-22-05_180sec_RiLA600_STX-16803_16c_1bin.fits, filling with None.\n",
      "  warn(str_keyerror_fill.format(k, str(item)))\n",
      "/home/guitar79/anaconda3/envs/astro_Python_env/lib/python3.11/site-packages/ysfitsutilpy/filemgmt.py:298: UserWarning: Key A_2_0 not found for /mnt/Rdata/OBS_data/asteroid/RiLA600_STX-16803_-_1bin/120LACHESIS_LIGHT_-_2023-10-11_-_RiLA600_STX-16803_-_1bin/120LACHESIS_LIGHT_R_2023-10-11-16-22-05_180sec_RiLA600_STX-16803_16c_1bin.fits, filling with None.\n",
      "  warn(str_keyerror_fill.format(k, str(item)))\n",
      "/home/guitar79/anaconda3/envs/astro_Python_env/lib/python3.11/site-packages/ysfitsutilpy/filemgmt.py:298: UserWarning: Key B_ORDER not found for /mnt/Rdata/OBS_data/asteroid/RiLA600_STX-16803_-_1bin/120LACHESIS_LIGHT_-_2023-10-11_-_RiLA600_STX-16803_-_1bin/120LACHESIS_LIGHT_R_2023-10-11-16-22-05_180sec_RiLA600_STX-16803_16c_1bin.fits, filling with None.\n",
      "  warn(str_keyerror_fill.format(k, str(item)))\n",
      "/home/guitar79/anaconda3/envs/astro_Python_env/lib/python3.11/site-packages/ysfitsutilpy/filemgmt.py:298: UserWarning: Key B_0_0 not found for /mnt/Rdata/OBS_data/asteroid/RiLA600_STX-16803_-_1bin/120LACHESIS_LIGHT_-_2023-10-11_-_RiLA600_STX-16803_-_1bin/120LACHESIS_LIGHT_R_2023-10-11-16-22-05_180sec_RiLA600_STX-16803_16c_1bin.fits, filling with None.\n",
      "  warn(str_keyerror_fill.format(k, str(item)))\n",
      "/home/guitar79/anaconda3/envs/astro_Python_env/lib/python3.11/site-packages/ysfitsutilpy/filemgmt.py:298: UserWarning: Key B_0_1 not found for /mnt/Rdata/OBS_data/asteroid/RiLA600_STX-16803_-_1bin/120LACHESIS_LIGHT_-_2023-10-11_-_RiLA600_STX-16803_-_1bin/120LACHESIS_LIGHT_R_2023-10-11-16-22-05_180sec_RiLA600_STX-16803_16c_1bin.fits, filling with None.\n",
      "  warn(str_keyerror_fill.format(k, str(item)))\n",
      "/home/guitar79/anaconda3/envs/astro_Python_env/lib/python3.11/site-packages/ysfitsutilpy/filemgmt.py:298: UserWarning: Key B_0_2 not found for /mnt/Rdata/OBS_data/asteroid/RiLA600_STX-16803_-_1bin/120LACHESIS_LIGHT_-_2023-10-11_-_RiLA600_STX-16803_-_1bin/120LACHESIS_LIGHT_R_2023-10-11-16-22-05_180sec_RiLA600_STX-16803_16c_1bin.fits, filling with None.\n",
      "  warn(str_keyerror_fill.format(k, str(item)))\n",
      "/home/guitar79/anaconda3/envs/astro_Python_env/lib/python3.11/site-packages/ysfitsutilpy/filemgmt.py:298: UserWarning: Key B_1_0 not found for /mnt/Rdata/OBS_data/asteroid/RiLA600_STX-16803_-_1bin/120LACHESIS_LIGHT_-_2023-10-11_-_RiLA600_STX-16803_-_1bin/120LACHESIS_LIGHT_R_2023-10-11-16-22-05_180sec_RiLA600_STX-16803_16c_1bin.fits, filling with None.\n",
      "  warn(str_keyerror_fill.format(k, str(item)))\n",
      "/home/guitar79/anaconda3/envs/astro_Python_env/lib/python3.11/site-packages/ysfitsutilpy/filemgmt.py:298: UserWarning: Key B_1_1 not found for /mnt/Rdata/OBS_data/asteroid/RiLA600_STX-16803_-_1bin/120LACHESIS_LIGHT_-_2023-10-11_-_RiLA600_STX-16803_-_1bin/120LACHESIS_LIGHT_R_2023-10-11-16-22-05_180sec_RiLA600_STX-16803_16c_1bin.fits, filling with None.\n",
      "  warn(str_keyerror_fill.format(k, str(item)))\n",
      "/home/guitar79/anaconda3/envs/astro_Python_env/lib/python3.11/site-packages/ysfitsutilpy/filemgmt.py:298: UserWarning: Key B_2_0 not found for /mnt/Rdata/OBS_data/asteroid/RiLA600_STX-16803_-_1bin/120LACHESIS_LIGHT_-_2023-10-11_-_RiLA600_STX-16803_-_1bin/120LACHESIS_LIGHT_R_2023-10-11-16-22-05_180sec_RiLA600_STX-16803_16c_1bin.fits, filling with None.\n",
      "  warn(str_keyerror_fill.format(k, str(item)))\n",
      "/home/guitar79/anaconda3/envs/astro_Python_env/lib/python3.11/site-packages/ysfitsutilpy/filemgmt.py:298: UserWarning: Key AP_ORDER not found for /mnt/Rdata/OBS_data/asteroid/RiLA600_STX-16803_-_1bin/120LACHESIS_LIGHT_-_2023-10-11_-_RiLA600_STX-16803_-_1bin/120LACHESIS_LIGHT_R_2023-10-11-16-22-05_180sec_RiLA600_STX-16803_16c_1bin.fits, filling with None.\n",
      "  warn(str_keyerror_fill.format(k, str(item)))\n",
      "/home/guitar79/anaconda3/envs/astro_Python_env/lib/python3.11/site-packages/ysfitsutilpy/filemgmt.py:298: UserWarning: Key AP_0_0 not found for /mnt/Rdata/OBS_data/asteroid/RiLA600_STX-16803_-_1bin/120LACHESIS_LIGHT_-_2023-10-11_-_RiLA600_STX-16803_-_1bin/120LACHESIS_LIGHT_R_2023-10-11-16-22-05_180sec_RiLA600_STX-16803_16c_1bin.fits, filling with None.\n",
      "  warn(str_keyerror_fill.format(k, str(item)))\n",
      "/home/guitar79/anaconda3/envs/astro_Python_env/lib/python3.11/site-packages/ysfitsutilpy/filemgmt.py:298: UserWarning: Key AP_0_1 not found for /mnt/Rdata/OBS_data/asteroid/RiLA600_STX-16803_-_1bin/120LACHESIS_LIGHT_-_2023-10-11_-_RiLA600_STX-16803_-_1bin/120LACHESIS_LIGHT_R_2023-10-11-16-22-05_180sec_RiLA600_STX-16803_16c_1bin.fits, filling with None.\n",
      "  warn(str_keyerror_fill.format(k, str(item)))\n",
      "/home/guitar79/anaconda3/envs/astro_Python_env/lib/python3.11/site-packages/ysfitsutilpy/filemgmt.py:298: UserWarning: Key AP_0_2 not found for /mnt/Rdata/OBS_data/asteroid/RiLA600_STX-16803_-_1bin/120LACHESIS_LIGHT_-_2023-10-11_-_RiLA600_STX-16803_-_1bin/120LACHESIS_LIGHT_R_2023-10-11-16-22-05_180sec_RiLA600_STX-16803_16c_1bin.fits, filling with None.\n",
      "  warn(str_keyerror_fill.format(k, str(item)))\n",
      "/home/guitar79/anaconda3/envs/astro_Python_env/lib/python3.11/site-packages/ysfitsutilpy/filemgmt.py:298: UserWarning: Key AP_1_0 not found for /mnt/Rdata/OBS_data/asteroid/RiLA600_STX-16803_-_1bin/120LACHESIS_LIGHT_-_2023-10-11_-_RiLA600_STX-16803_-_1bin/120LACHESIS_LIGHT_R_2023-10-11-16-22-05_180sec_RiLA600_STX-16803_16c_1bin.fits, filling with None.\n",
      "  warn(str_keyerror_fill.format(k, str(item)))\n",
      "/home/guitar79/anaconda3/envs/astro_Python_env/lib/python3.11/site-packages/ysfitsutilpy/filemgmt.py:298: UserWarning: Key AP_1_1 not found for /mnt/Rdata/OBS_data/asteroid/RiLA600_STX-16803_-_1bin/120LACHESIS_LIGHT_-_2023-10-11_-_RiLA600_STX-16803_-_1bin/120LACHESIS_LIGHT_R_2023-10-11-16-22-05_180sec_RiLA600_STX-16803_16c_1bin.fits, filling with None.\n",
      "  warn(str_keyerror_fill.format(k, str(item)))\n",
      "/home/guitar79/anaconda3/envs/astro_Python_env/lib/python3.11/site-packages/ysfitsutilpy/filemgmt.py:298: UserWarning: Key AP_2_0 not found for /mnt/Rdata/OBS_data/asteroid/RiLA600_STX-16803_-_1bin/120LACHESIS_LIGHT_-_2023-10-11_-_RiLA600_STX-16803_-_1bin/120LACHESIS_LIGHT_R_2023-10-11-16-22-05_180sec_RiLA600_STX-16803_16c_1bin.fits, filling with None.\n",
      "  warn(str_keyerror_fill.format(k, str(item)))\n",
      "/home/guitar79/anaconda3/envs/astro_Python_env/lib/python3.11/site-packages/ysfitsutilpy/filemgmt.py:298: UserWarning: Key BP_ORDER not found for /mnt/Rdata/OBS_data/asteroid/RiLA600_STX-16803_-_1bin/120LACHESIS_LIGHT_-_2023-10-11_-_RiLA600_STX-16803_-_1bin/120LACHESIS_LIGHT_R_2023-10-11-16-22-05_180sec_RiLA600_STX-16803_16c_1bin.fits, filling with None.\n",
      "  warn(str_keyerror_fill.format(k, str(item)))\n",
      "/home/guitar79/anaconda3/envs/astro_Python_env/lib/python3.11/site-packages/ysfitsutilpy/filemgmt.py:298: UserWarning: Key BP_0_0 not found for /mnt/Rdata/OBS_data/asteroid/RiLA600_STX-16803_-_1bin/120LACHESIS_LIGHT_-_2023-10-11_-_RiLA600_STX-16803_-_1bin/120LACHESIS_LIGHT_R_2023-10-11-16-22-05_180sec_RiLA600_STX-16803_16c_1bin.fits, filling with None.\n",
      "  warn(str_keyerror_fill.format(k, str(item)))\n",
      "/home/guitar79/anaconda3/envs/astro_Python_env/lib/python3.11/site-packages/ysfitsutilpy/filemgmt.py:298: UserWarning: Key BP_0_1 not found for /mnt/Rdata/OBS_data/asteroid/RiLA600_STX-16803_-_1bin/120LACHESIS_LIGHT_-_2023-10-11_-_RiLA600_STX-16803_-_1bin/120LACHESIS_LIGHT_R_2023-10-11-16-22-05_180sec_RiLA600_STX-16803_16c_1bin.fits, filling with None.\n",
      "  warn(str_keyerror_fill.format(k, str(item)))\n",
      "/home/guitar79/anaconda3/envs/astro_Python_env/lib/python3.11/site-packages/ysfitsutilpy/filemgmt.py:298: UserWarning: Key BP_0_2 not found for /mnt/Rdata/OBS_data/asteroid/RiLA600_STX-16803_-_1bin/120LACHESIS_LIGHT_-_2023-10-11_-_RiLA600_STX-16803_-_1bin/120LACHESIS_LIGHT_R_2023-10-11-16-22-05_180sec_RiLA600_STX-16803_16c_1bin.fits, filling with None.\n",
      "  warn(str_keyerror_fill.format(k, str(item)))\n",
      "/home/guitar79/anaconda3/envs/astro_Python_env/lib/python3.11/site-packages/ysfitsutilpy/filemgmt.py:298: UserWarning: Key BP_1_0 not found for /mnt/Rdata/OBS_data/asteroid/RiLA600_STX-16803_-_1bin/120LACHESIS_LIGHT_-_2023-10-11_-_RiLA600_STX-16803_-_1bin/120LACHESIS_LIGHT_R_2023-10-11-16-22-05_180sec_RiLA600_STX-16803_16c_1bin.fits, filling with None.\n",
      "  warn(str_keyerror_fill.format(k, str(item)))\n",
      "/home/guitar79/anaconda3/envs/astro_Python_env/lib/python3.11/site-packages/ysfitsutilpy/filemgmt.py:298: UserWarning: Key BP_1_1 not found for /mnt/Rdata/OBS_data/asteroid/RiLA600_STX-16803_-_1bin/120LACHESIS_LIGHT_-_2023-10-11_-_RiLA600_STX-16803_-_1bin/120LACHESIS_LIGHT_R_2023-10-11-16-22-05_180sec_RiLA600_STX-16803_16c_1bin.fits, filling with None.\n",
      "  warn(str_keyerror_fill.format(k, str(item)))\n",
      "/home/guitar79/anaconda3/envs/astro_Python_env/lib/python3.11/site-packages/ysfitsutilpy/filemgmt.py:298: UserWarning: Key BP_2_0 not found for /mnt/Rdata/OBS_data/asteroid/RiLA600_STX-16803_-_1bin/120LACHESIS_LIGHT_-_2023-10-11_-_RiLA600_STX-16803_-_1bin/120LACHESIS_LIGHT_R_2023-10-11-16-22-05_180sec_RiLA600_STX-16803_16c_1bin.fits, filling with None.\n",
      "  warn(str_keyerror_fill.format(k, str(item)))\n",
      "/home/guitar79/anaconda3/envs/astro_Python_env/lib/python3.11/site-packages/ysfitsutilpy/filemgmt.py:298: UserWarning: Key _QUINOX not found for /mnt/Rdata/OBS_data/asteroid/RiLA600_STX-16803_-_1bin/120LACHESIS_LIGHT_-_2023-10-11_-_RiLA600_STX-16803_-_1bin/120LACHESIS_LIGHT_R_2023-10-11-16-49-02_180sec_RiLA600_STX-16803_16c_1bin.fits, filling with None.\n",
      "  warn(str_keyerror_fill.format(k, str(item)))\n",
      "/home/guitar79/anaconda3/envs/astro_Python_env/lib/python3.11/site-packages/ysfitsutilpy/filemgmt.py:298: UserWarning: Key _CSAXES not found for /mnt/Rdata/OBS_data/asteroid/RiLA600_STX-16803_-_1bin/120LACHESIS_LIGHT_-_2023-10-11_-_RiLA600_STX-16803_-_1bin/120LACHESIS_LIGHT_R_2023-10-11-16-49-02_180sec_RiLA600_STX-16803_16c_1bin.fits, filling with None.\n",
      "  warn(str_keyerror_fill.format(k, str(item)))\n",
      "/home/guitar79/anaconda3/envs/astro_Python_env/lib/python3.11/site-packages/ysfitsutilpy/filemgmt.py:298: UserWarning: Key _TYPE1 not found for /mnt/Rdata/OBS_data/asteroid/RiLA600_STX-16803_-_1bin/120LACHESIS_LIGHT_-_2023-10-11_-_RiLA600_STX-16803_-_1bin/120LACHESIS_LIGHT_R_2023-10-11-16-49-02_180sec_RiLA600_STX-16803_16c_1bin.fits, filling with None.\n",
      "  warn(str_keyerror_fill.format(k, str(item)))\n",
      "/home/guitar79/anaconda3/envs/astro_Python_env/lib/python3.11/site-packages/ysfitsutilpy/filemgmt.py:298: UserWarning: Key _TYPE2 not found for /mnt/Rdata/OBS_data/asteroid/RiLA600_STX-16803_-_1bin/120LACHESIS_LIGHT_-_2023-10-11_-_RiLA600_STX-16803_-_1bin/120LACHESIS_LIGHT_R_2023-10-11-16-49-02_180sec_RiLA600_STX-16803_16c_1bin.fits, filling with None.\n",
      "  warn(str_keyerror_fill.format(k, str(item)))\n",
      "/home/guitar79/anaconda3/envs/astro_Python_env/lib/python3.11/site-packages/ysfitsutilpy/filemgmt.py:298: UserWarning: Key _ONPOLE not found for /mnt/Rdata/OBS_data/asteroid/RiLA600_STX-16803_-_1bin/120LACHESIS_LIGHT_-_2023-10-11_-_RiLA600_STX-16803_-_1bin/120LACHESIS_LIGHT_R_2023-10-11-16-49-02_180sec_RiLA600_STX-16803_16c_1bin.fits, filling with None.\n",
      "  warn(str_keyerror_fill.format(k, str(item)))\n",
      "/home/guitar79/anaconda3/envs/astro_Python_env/lib/python3.11/site-packages/ysfitsutilpy/filemgmt.py:298: UserWarning: Key _ATPOLE not found for /mnt/Rdata/OBS_data/asteroid/RiLA600_STX-16803_-_1bin/120LACHESIS_LIGHT_-_2023-10-11_-_RiLA600_STX-16803_-_1bin/120LACHESIS_LIGHT_R_2023-10-11-16-49-02_180sec_RiLA600_STX-16803_16c_1bin.fits, filling with None.\n",
      "  warn(str_keyerror_fill.format(k, str(item)))\n",
      "/home/guitar79/anaconda3/envs/astro_Python_env/lib/python3.11/site-packages/ysfitsutilpy/filemgmt.py:298: UserWarning: Key _RVAL1 not found for /mnt/Rdata/OBS_data/asteroid/RiLA600_STX-16803_-_1bin/120LACHESIS_LIGHT_-_2023-10-11_-_RiLA600_STX-16803_-_1bin/120LACHESIS_LIGHT_R_2023-10-11-16-49-02_180sec_RiLA600_STX-16803_16c_1bin.fits, filling with None.\n",
      "  warn(str_keyerror_fill.format(k, str(item)))\n",
      "/home/guitar79/anaconda3/envs/astro_Python_env/lib/python3.11/site-packages/ysfitsutilpy/filemgmt.py:298: UserWarning: Key _RVAL2 not found for /mnt/Rdata/OBS_data/asteroid/RiLA600_STX-16803_-_1bin/120LACHESIS_LIGHT_-_2023-10-11_-_RiLA600_STX-16803_-_1bin/120LACHESIS_LIGHT_R_2023-10-11-16-49-02_180sec_RiLA600_STX-16803_16c_1bin.fits, filling with None.\n",
      "  warn(str_keyerror_fill.format(k, str(item)))\n",
      "/home/guitar79/anaconda3/envs/astro_Python_env/lib/python3.11/site-packages/ysfitsutilpy/filemgmt.py:298: UserWarning: Key _RPIX1 not found for /mnt/Rdata/OBS_data/asteroid/RiLA600_STX-16803_-_1bin/120LACHESIS_LIGHT_-_2023-10-11_-_RiLA600_STX-16803_-_1bin/120LACHESIS_LIGHT_R_2023-10-11-16-49-02_180sec_RiLA600_STX-16803_16c_1bin.fits, filling with None.\n",
      "  warn(str_keyerror_fill.format(k, str(item)))\n",
      "/home/guitar79/anaconda3/envs/astro_Python_env/lib/python3.11/site-packages/ysfitsutilpy/filemgmt.py:298: UserWarning: Key _RPIX2 not found for /mnt/Rdata/OBS_data/asteroid/RiLA600_STX-16803_-_1bin/120LACHESIS_LIGHT_-_2023-10-11_-_RiLA600_STX-16803_-_1bin/120LACHESIS_LIGHT_R_2023-10-11-16-49-02_180sec_RiLA600_STX-16803_16c_1bin.fits, filling with None.\n",
      "  warn(str_keyerror_fill.format(k, str(item)))\n",
      "/home/guitar79/anaconda3/envs/astro_Python_env/lib/python3.11/site-packages/ysfitsutilpy/filemgmt.py:298: UserWarning: Key _UNIT1 not found for /mnt/Rdata/OBS_data/asteroid/RiLA600_STX-16803_-_1bin/120LACHESIS_LIGHT_-_2023-10-11_-_RiLA600_STX-16803_-_1bin/120LACHESIS_LIGHT_R_2023-10-11-16-49-02_180sec_RiLA600_STX-16803_16c_1bin.fits, filling with None.\n",
      "  warn(str_keyerror_fill.format(k, str(item)))\n",
      "/home/guitar79/anaconda3/envs/astro_Python_env/lib/python3.11/site-packages/ysfitsutilpy/filemgmt.py:298: UserWarning: Key _UNIT2 not found for /mnt/Rdata/OBS_data/asteroid/RiLA600_STX-16803_-_1bin/120LACHESIS_LIGHT_-_2023-10-11_-_RiLA600_STX-16803_-_1bin/120LACHESIS_LIGHT_R_2023-10-11-16-49-02_180sec_RiLA600_STX-16803_16c_1bin.fits, filling with None.\n",
      "  warn(str_keyerror_fill.format(k, str(item)))\n",
      "/home/guitar79/anaconda3/envs/astro_Python_env/lib/python3.11/site-packages/ysfitsutilpy/filemgmt.py:298: UserWarning: Key _D1_1 not found for /mnt/Rdata/OBS_data/asteroid/RiLA600_STX-16803_-_1bin/120LACHESIS_LIGHT_-_2023-10-11_-_RiLA600_STX-16803_-_1bin/120LACHESIS_LIGHT_R_2023-10-11-16-49-02_180sec_RiLA600_STX-16803_16c_1bin.fits, filling with None.\n",
      "  warn(str_keyerror_fill.format(k, str(item)))\n",
      "/home/guitar79/anaconda3/envs/astro_Python_env/lib/python3.11/site-packages/ysfitsutilpy/filemgmt.py:298: UserWarning: Key _D1_2 not found for /mnt/Rdata/OBS_data/asteroid/RiLA600_STX-16803_-_1bin/120LACHESIS_LIGHT_-_2023-10-11_-_RiLA600_STX-16803_-_1bin/120LACHESIS_LIGHT_R_2023-10-11-16-49-02_180sec_RiLA600_STX-16803_16c_1bin.fits, filling with None.\n",
      "  warn(str_keyerror_fill.format(k, str(item)))\n",
      "/home/guitar79/anaconda3/envs/astro_Python_env/lib/python3.11/site-packages/ysfitsutilpy/filemgmt.py:298: UserWarning: Key _D2_1 not found for /mnt/Rdata/OBS_data/asteroid/RiLA600_STX-16803_-_1bin/120LACHESIS_LIGHT_-_2023-10-11_-_RiLA600_STX-16803_-_1bin/120LACHESIS_LIGHT_R_2023-10-11-16-49-02_180sec_RiLA600_STX-16803_16c_1bin.fits, filling with None.\n",
      "  warn(str_keyerror_fill.format(k, str(item)))\n",
      "/home/guitar79/anaconda3/envs/astro_Python_env/lib/python3.11/site-packages/ysfitsutilpy/filemgmt.py:298: UserWarning: Key _D2_2 not found for /mnt/Rdata/OBS_data/asteroid/RiLA600_STX-16803_-_1bin/120LACHESIS_LIGHT_-_2023-10-11_-_RiLA600_STX-16803_-_1bin/120LACHESIS_LIGHT_R_2023-10-11-16-49-02_180sec_RiLA600_STX-16803_16c_1bin.fits, filling with None.\n",
      "  warn(str_keyerror_fill.format(k, str(item)))\n",
      "/home/guitar79/anaconda3/envs/astro_Python_env/lib/python3.11/site-packages/ysfitsutilpy/filemgmt.py:298: UserWarning: Key _MAGEW not found for /mnt/Rdata/OBS_data/asteroid/RiLA600_STX-16803_-_1bin/120LACHESIS_LIGHT_-_2023-10-11_-_RiLA600_STX-16803_-_1bin/120LACHESIS_LIGHT_R_2023-10-11-16-49-02_180sec_RiLA600_STX-16803_16c_1bin.fits, filling with None.\n",
      "  warn(str_keyerror_fill.format(k, str(item)))\n",
      "/home/guitar79/anaconda3/envs/astro_Python_env/lib/python3.11/site-packages/ysfitsutilpy/filemgmt.py:298: UserWarning: Key _MAGEH not found for /mnt/Rdata/OBS_data/asteroid/RiLA600_STX-16803_-_1bin/120LACHESIS_LIGHT_-_2023-10-11_-_RiLA600_STX-16803_-_1bin/120LACHESIS_LIGHT_R_2023-10-11-16-49-02_180sec_RiLA600_STX-16803_16c_1bin.fits, filling with None.\n",
      "  warn(str_keyerror_fill.format(k, str(item)))\n",
      "/home/guitar79/anaconda3/envs/astro_Python_env/lib/python3.11/site-packages/ysfitsutilpy/filemgmt.py:298: UserWarning: Key __ORDER not found for /mnt/Rdata/OBS_data/asteroid/RiLA600_STX-16803_-_1bin/120LACHESIS_LIGHT_-_2023-10-11_-_RiLA600_STX-16803_-_1bin/120LACHESIS_LIGHT_R_2023-10-11-16-49-02_180sec_RiLA600_STX-16803_16c_1bin.fits, filling with None.\n",
      "  warn(str_keyerror_fill.format(k, str(item)))\n",
      "/home/guitar79/anaconda3/envs/astro_Python_env/lib/python3.11/site-packages/ysfitsutilpy/filemgmt.py:298: UserWarning: Key __0_0 not found for /mnt/Rdata/OBS_data/asteroid/RiLA600_STX-16803_-_1bin/120LACHESIS_LIGHT_-_2023-10-11_-_RiLA600_STX-16803_-_1bin/120LACHESIS_LIGHT_R_2023-10-11-16-49-02_180sec_RiLA600_STX-16803_16c_1bin.fits, filling with None.\n",
      "  warn(str_keyerror_fill.format(k, str(item)))\n",
      "/home/guitar79/anaconda3/envs/astro_Python_env/lib/python3.11/site-packages/ysfitsutilpy/filemgmt.py:298: UserWarning: Key __0_1 not found for /mnt/Rdata/OBS_data/asteroid/RiLA600_STX-16803_-_1bin/120LACHESIS_LIGHT_-_2023-10-11_-_RiLA600_STX-16803_-_1bin/120LACHESIS_LIGHT_R_2023-10-11-16-49-02_180sec_RiLA600_STX-16803_16c_1bin.fits, filling with None.\n",
      "  warn(str_keyerror_fill.format(k, str(item)))\n",
      "/home/guitar79/anaconda3/envs/astro_Python_env/lib/python3.11/site-packages/ysfitsutilpy/filemgmt.py:298: UserWarning: Key __0_2 not found for /mnt/Rdata/OBS_data/asteroid/RiLA600_STX-16803_-_1bin/120LACHESIS_LIGHT_-_2023-10-11_-_RiLA600_STX-16803_-_1bin/120LACHESIS_LIGHT_R_2023-10-11-16-49-02_180sec_RiLA600_STX-16803_16c_1bin.fits, filling with None.\n",
      "  warn(str_keyerror_fill.format(k, str(item)))\n",
      "/home/guitar79/anaconda3/envs/astro_Python_env/lib/python3.11/site-packages/ysfitsutilpy/filemgmt.py:298: UserWarning: Key __1_0 not found for /mnt/Rdata/OBS_data/asteroid/RiLA600_STX-16803_-_1bin/120LACHESIS_LIGHT_-_2023-10-11_-_RiLA600_STX-16803_-_1bin/120LACHESIS_LIGHT_R_2023-10-11-16-49-02_180sec_RiLA600_STX-16803_16c_1bin.fits, filling with None.\n",
      "  warn(str_keyerror_fill.format(k, str(item)))\n",
      "/home/guitar79/anaconda3/envs/astro_Python_env/lib/python3.11/site-packages/ysfitsutilpy/filemgmt.py:298: UserWarning: Key __1_1 not found for /mnt/Rdata/OBS_data/asteroid/RiLA600_STX-16803_-_1bin/120LACHESIS_LIGHT_-_2023-10-11_-_RiLA600_STX-16803_-_1bin/120LACHESIS_LIGHT_R_2023-10-11-16-49-02_180sec_RiLA600_STX-16803_16c_1bin.fits, filling with None.\n",
      "  warn(str_keyerror_fill.format(k, str(item)))\n",
      "/home/guitar79/anaconda3/envs/astro_Python_env/lib/python3.11/site-packages/ysfitsutilpy/filemgmt.py:298: UserWarning: Key __2_0 not found for /mnt/Rdata/OBS_data/asteroid/RiLA600_STX-16803_-_1bin/120LACHESIS_LIGHT_-_2023-10-11_-_RiLA600_STX-16803_-_1bin/120LACHESIS_LIGHT_R_2023-10-11-16-49-02_180sec_RiLA600_STX-16803_16c_1bin.fits, filling with None.\n",
      "  warn(str_keyerror_fill.format(k, str(item)))\n",
      "/home/guitar79/anaconda3/envs/astro_Python_env/lib/python3.11/site-packages/ysfitsutilpy/filemgmt.py:298: UserWarning: Key _P_ORDER not found for /mnt/Rdata/OBS_data/asteroid/RiLA600_STX-16803_-_1bin/120LACHESIS_LIGHT_-_2023-10-11_-_RiLA600_STX-16803_-_1bin/120LACHESIS_LIGHT_R_2023-10-11-16-49-02_180sec_RiLA600_STX-16803_16c_1bin.fits, filling with None.\n",
      "  warn(str_keyerror_fill.format(k, str(item)))\n",
      "/home/guitar79/anaconda3/envs/astro_Python_env/lib/python3.11/site-packages/ysfitsutilpy/filemgmt.py:298: UserWarning: Key _P_0_0 not found for /mnt/Rdata/OBS_data/asteroid/RiLA600_STX-16803_-_1bin/120LACHESIS_LIGHT_-_2023-10-11_-_RiLA600_STX-16803_-_1bin/120LACHESIS_LIGHT_R_2023-10-11-16-49-02_180sec_RiLA600_STX-16803_16c_1bin.fits, filling with None.\n",
      "  warn(str_keyerror_fill.format(k, str(item)))\n",
      "/home/guitar79/anaconda3/envs/astro_Python_env/lib/python3.11/site-packages/ysfitsutilpy/filemgmt.py:298: UserWarning: Key _P_0_1 not found for /mnt/Rdata/OBS_data/asteroid/RiLA600_STX-16803_-_1bin/120LACHESIS_LIGHT_-_2023-10-11_-_RiLA600_STX-16803_-_1bin/120LACHESIS_LIGHT_R_2023-10-11-16-49-02_180sec_RiLA600_STX-16803_16c_1bin.fits, filling with None.\n",
      "  warn(str_keyerror_fill.format(k, str(item)))\n",
      "/home/guitar79/anaconda3/envs/astro_Python_env/lib/python3.11/site-packages/ysfitsutilpy/filemgmt.py:298: UserWarning: Key _P_0_2 not found for /mnt/Rdata/OBS_data/asteroid/RiLA600_STX-16803_-_1bin/120LACHESIS_LIGHT_-_2023-10-11_-_RiLA600_STX-16803_-_1bin/120LACHESIS_LIGHT_R_2023-10-11-16-49-02_180sec_RiLA600_STX-16803_16c_1bin.fits, filling with None.\n",
      "  warn(str_keyerror_fill.format(k, str(item)))\n",
      "/home/guitar79/anaconda3/envs/astro_Python_env/lib/python3.11/site-packages/ysfitsutilpy/filemgmt.py:298: UserWarning: Key _P_1_0 not found for /mnt/Rdata/OBS_data/asteroid/RiLA600_STX-16803_-_1bin/120LACHESIS_LIGHT_-_2023-10-11_-_RiLA600_STX-16803_-_1bin/120LACHESIS_LIGHT_R_2023-10-11-16-49-02_180sec_RiLA600_STX-16803_16c_1bin.fits, filling with None.\n",
      "  warn(str_keyerror_fill.format(k, str(item)))\n",
      "/home/guitar79/anaconda3/envs/astro_Python_env/lib/python3.11/site-packages/ysfitsutilpy/filemgmt.py:298: UserWarning: Key _P_1_1 not found for /mnt/Rdata/OBS_data/asteroid/RiLA600_STX-16803_-_1bin/120LACHESIS_LIGHT_-_2023-10-11_-_RiLA600_STX-16803_-_1bin/120LACHESIS_LIGHT_R_2023-10-11-16-49-02_180sec_RiLA600_STX-16803_16c_1bin.fits, filling with None.\n",
      "  warn(str_keyerror_fill.format(k, str(item)))\n",
      "/home/guitar79/anaconda3/envs/astro_Python_env/lib/python3.11/site-packages/ysfitsutilpy/filemgmt.py:298: UserWarning: Key _P_2_0 not found for /mnt/Rdata/OBS_data/asteroid/RiLA600_STX-16803_-_1bin/120LACHESIS_LIGHT_-_2023-10-11_-_RiLA600_STX-16803_-_1bin/120LACHESIS_LIGHT_R_2023-10-11-16-49-02_180sec_RiLA600_STX-16803_16c_1bin.fits, filling with None.\n",
      "  warn(str_keyerror_fill.format(k, str(item)))\n",
      "/home/guitar79/anaconda3/envs/astro_Python_env/lib/python3.11/site-packages/ysfitsutilpy/filemgmt.py:298: UserWarning: Key _ATE not found for /mnt/Rdata/OBS_data/asteroid/RiLA600_STX-16803_-_1bin/120LACHESIS_LIGHT_-_2023-10-11_-_RiLA600_STX-16803_-_1bin/120LACHESIS_LIGHT_R_2023-10-11-16-49-02_180sec_RiLA600_STX-16803_16c_1bin.fits, filling with None.\n",
      "  warn(str_keyerror_fill.format(k, str(item)))\n",
      "/home/guitar79/anaconda3/envs/astro_Python_env/lib/python3.11/site-packages/ysfitsutilpy/filemgmt.py:298: UserWarning: Key A_ORDER not found for /mnt/Rdata/OBS_data/asteroid/RiLA600_STX-16803_-_1bin/120LACHESIS_LIGHT_-_2023-10-11_-_RiLA600_STX-16803_-_1bin/120LACHESIS_LIGHT_R_2023-10-11-16-57-37_120sec_RiLA600_STX-16803_16c_1bin.fits, filling with None.\n",
      "  warn(str_keyerror_fill.format(k, str(item)))\n",
      "/home/guitar79/anaconda3/envs/astro_Python_env/lib/python3.11/site-packages/ysfitsutilpy/filemgmt.py:298: UserWarning: Key A_0_0 not found for /mnt/Rdata/OBS_data/asteroid/RiLA600_STX-16803_-_1bin/120LACHESIS_LIGHT_-_2023-10-11_-_RiLA600_STX-16803_-_1bin/120LACHESIS_LIGHT_R_2023-10-11-16-57-37_120sec_RiLA600_STX-16803_16c_1bin.fits, filling with None.\n",
      "  warn(str_keyerror_fill.format(k, str(item)))\n",
      "/home/guitar79/anaconda3/envs/astro_Python_env/lib/python3.11/site-packages/ysfitsutilpy/filemgmt.py:298: UserWarning: Key A_0_1 not found for /mnt/Rdata/OBS_data/asteroid/RiLA600_STX-16803_-_1bin/120LACHESIS_LIGHT_-_2023-10-11_-_RiLA600_STX-16803_-_1bin/120LACHESIS_LIGHT_R_2023-10-11-16-57-37_120sec_RiLA600_STX-16803_16c_1bin.fits, filling with None.\n",
      "  warn(str_keyerror_fill.format(k, str(item)))\n",
      "/home/guitar79/anaconda3/envs/astro_Python_env/lib/python3.11/site-packages/ysfitsutilpy/filemgmt.py:298: UserWarning: Key A_0_2 not found for /mnt/Rdata/OBS_data/asteroid/RiLA600_STX-16803_-_1bin/120LACHESIS_LIGHT_-_2023-10-11_-_RiLA600_STX-16803_-_1bin/120LACHESIS_LIGHT_R_2023-10-11-16-57-37_120sec_RiLA600_STX-16803_16c_1bin.fits, filling with None.\n",
      "  warn(str_keyerror_fill.format(k, str(item)))\n",
      "/home/guitar79/anaconda3/envs/astro_Python_env/lib/python3.11/site-packages/ysfitsutilpy/filemgmt.py:298: UserWarning: Key A_1_0 not found for /mnt/Rdata/OBS_data/asteroid/RiLA600_STX-16803_-_1bin/120LACHESIS_LIGHT_-_2023-10-11_-_RiLA600_STX-16803_-_1bin/120LACHESIS_LIGHT_R_2023-10-11-16-57-37_120sec_RiLA600_STX-16803_16c_1bin.fits, filling with None.\n",
      "  warn(str_keyerror_fill.format(k, str(item)))\n",
      "/home/guitar79/anaconda3/envs/astro_Python_env/lib/python3.11/site-packages/ysfitsutilpy/filemgmt.py:298: UserWarning: Key A_1_1 not found for /mnt/Rdata/OBS_data/asteroid/RiLA600_STX-16803_-_1bin/120LACHESIS_LIGHT_-_2023-10-11_-_RiLA600_STX-16803_-_1bin/120LACHESIS_LIGHT_R_2023-10-11-16-57-37_120sec_RiLA600_STX-16803_16c_1bin.fits, filling with None.\n",
      "  warn(str_keyerror_fill.format(k, str(item)))\n",
      "/home/guitar79/anaconda3/envs/astro_Python_env/lib/python3.11/site-packages/ysfitsutilpy/filemgmt.py:298: UserWarning: Key A_2_0 not found for /mnt/Rdata/OBS_data/asteroid/RiLA600_STX-16803_-_1bin/120LACHESIS_LIGHT_-_2023-10-11_-_RiLA600_STX-16803_-_1bin/120LACHESIS_LIGHT_R_2023-10-11-16-57-37_120sec_RiLA600_STX-16803_16c_1bin.fits, filling with None.\n",
      "  warn(str_keyerror_fill.format(k, str(item)))\n",
      "/home/guitar79/anaconda3/envs/astro_Python_env/lib/python3.11/site-packages/ysfitsutilpy/filemgmt.py:298: UserWarning: Key B_ORDER not found for /mnt/Rdata/OBS_data/asteroid/RiLA600_STX-16803_-_1bin/120LACHESIS_LIGHT_-_2023-10-11_-_RiLA600_STX-16803_-_1bin/120LACHESIS_LIGHT_R_2023-10-11-16-57-37_120sec_RiLA600_STX-16803_16c_1bin.fits, filling with None.\n",
      "  warn(str_keyerror_fill.format(k, str(item)))\n",
      "/home/guitar79/anaconda3/envs/astro_Python_env/lib/python3.11/site-packages/ysfitsutilpy/filemgmt.py:298: UserWarning: Key B_0_0 not found for /mnt/Rdata/OBS_data/asteroid/RiLA600_STX-16803_-_1bin/120LACHESIS_LIGHT_-_2023-10-11_-_RiLA600_STX-16803_-_1bin/120LACHESIS_LIGHT_R_2023-10-11-16-57-37_120sec_RiLA600_STX-16803_16c_1bin.fits, filling with None.\n",
      "  warn(str_keyerror_fill.format(k, str(item)))\n",
      "/home/guitar79/anaconda3/envs/astro_Python_env/lib/python3.11/site-packages/ysfitsutilpy/filemgmt.py:298: UserWarning: Key B_0_1 not found for /mnt/Rdata/OBS_data/asteroid/RiLA600_STX-16803_-_1bin/120LACHESIS_LIGHT_-_2023-10-11_-_RiLA600_STX-16803_-_1bin/120LACHESIS_LIGHT_R_2023-10-11-16-57-37_120sec_RiLA600_STX-16803_16c_1bin.fits, filling with None.\n",
      "  warn(str_keyerror_fill.format(k, str(item)))\n",
      "/home/guitar79/anaconda3/envs/astro_Python_env/lib/python3.11/site-packages/ysfitsutilpy/filemgmt.py:298: UserWarning: Key B_0_2 not found for /mnt/Rdata/OBS_data/asteroid/RiLA600_STX-16803_-_1bin/120LACHESIS_LIGHT_-_2023-10-11_-_RiLA600_STX-16803_-_1bin/120LACHESIS_LIGHT_R_2023-10-11-16-57-37_120sec_RiLA600_STX-16803_16c_1bin.fits, filling with None.\n",
      "  warn(str_keyerror_fill.format(k, str(item)))\n",
      "/home/guitar79/anaconda3/envs/astro_Python_env/lib/python3.11/site-packages/ysfitsutilpy/filemgmt.py:298: UserWarning: Key B_1_0 not found for /mnt/Rdata/OBS_data/asteroid/RiLA600_STX-16803_-_1bin/120LACHESIS_LIGHT_-_2023-10-11_-_RiLA600_STX-16803_-_1bin/120LACHESIS_LIGHT_R_2023-10-11-16-57-37_120sec_RiLA600_STX-16803_16c_1bin.fits, filling with None.\n",
      "  warn(str_keyerror_fill.format(k, str(item)))\n",
      "/home/guitar79/anaconda3/envs/astro_Python_env/lib/python3.11/site-packages/ysfitsutilpy/filemgmt.py:298: UserWarning: Key B_1_1 not found for /mnt/Rdata/OBS_data/asteroid/RiLA600_STX-16803_-_1bin/120LACHESIS_LIGHT_-_2023-10-11_-_RiLA600_STX-16803_-_1bin/120LACHESIS_LIGHT_R_2023-10-11-16-57-37_120sec_RiLA600_STX-16803_16c_1bin.fits, filling with None.\n",
      "  warn(str_keyerror_fill.format(k, str(item)))\n",
      "/home/guitar79/anaconda3/envs/astro_Python_env/lib/python3.11/site-packages/ysfitsutilpy/filemgmt.py:298: UserWarning: Key B_2_0 not found for /mnt/Rdata/OBS_data/asteroid/RiLA600_STX-16803_-_1bin/120LACHESIS_LIGHT_-_2023-10-11_-_RiLA600_STX-16803_-_1bin/120LACHESIS_LIGHT_R_2023-10-11-16-57-37_120sec_RiLA600_STX-16803_16c_1bin.fits, filling with None.\n",
      "  warn(str_keyerror_fill.format(k, str(item)))\n",
      "/home/guitar79/anaconda3/envs/astro_Python_env/lib/python3.11/site-packages/ysfitsutilpy/filemgmt.py:298: UserWarning: Key AP_ORDER not found for /mnt/Rdata/OBS_data/asteroid/RiLA600_STX-16803_-_1bin/120LACHESIS_LIGHT_-_2023-10-11_-_RiLA600_STX-16803_-_1bin/120LACHESIS_LIGHT_R_2023-10-11-16-57-37_120sec_RiLA600_STX-16803_16c_1bin.fits, filling with None.\n",
      "  warn(str_keyerror_fill.format(k, str(item)))\n",
      "/home/guitar79/anaconda3/envs/astro_Python_env/lib/python3.11/site-packages/ysfitsutilpy/filemgmt.py:298: UserWarning: Key AP_0_0 not found for /mnt/Rdata/OBS_data/asteroid/RiLA600_STX-16803_-_1bin/120LACHESIS_LIGHT_-_2023-10-11_-_RiLA600_STX-16803_-_1bin/120LACHESIS_LIGHT_R_2023-10-11-16-57-37_120sec_RiLA600_STX-16803_16c_1bin.fits, filling with None.\n",
      "  warn(str_keyerror_fill.format(k, str(item)))\n",
      "/home/guitar79/anaconda3/envs/astro_Python_env/lib/python3.11/site-packages/ysfitsutilpy/filemgmt.py:298: UserWarning: Key AP_0_1 not found for /mnt/Rdata/OBS_data/asteroid/RiLA600_STX-16803_-_1bin/120LACHESIS_LIGHT_-_2023-10-11_-_RiLA600_STX-16803_-_1bin/120LACHESIS_LIGHT_R_2023-10-11-16-57-37_120sec_RiLA600_STX-16803_16c_1bin.fits, filling with None.\n",
      "  warn(str_keyerror_fill.format(k, str(item)))\n",
      "/home/guitar79/anaconda3/envs/astro_Python_env/lib/python3.11/site-packages/ysfitsutilpy/filemgmt.py:298: UserWarning: Key AP_0_2 not found for /mnt/Rdata/OBS_data/asteroid/RiLA600_STX-16803_-_1bin/120LACHESIS_LIGHT_-_2023-10-11_-_RiLA600_STX-16803_-_1bin/120LACHESIS_LIGHT_R_2023-10-11-16-57-37_120sec_RiLA600_STX-16803_16c_1bin.fits, filling with None.\n",
      "  warn(str_keyerror_fill.format(k, str(item)))\n",
      "/home/guitar79/anaconda3/envs/astro_Python_env/lib/python3.11/site-packages/ysfitsutilpy/filemgmt.py:298: UserWarning: Key AP_1_0 not found for /mnt/Rdata/OBS_data/asteroid/RiLA600_STX-16803_-_1bin/120LACHESIS_LIGHT_-_2023-10-11_-_RiLA600_STX-16803_-_1bin/120LACHESIS_LIGHT_R_2023-10-11-16-57-37_120sec_RiLA600_STX-16803_16c_1bin.fits, filling with None.\n",
      "  warn(str_keyerror_fill.format(k, str(item)))\n",
      "/home/guitar79/anaconda3/envs/astro_Python_env/lib/python3.11/site-packages/ysfitsutilpy/filemgmt.py:298: UserWarning: Key AP_1_1 not found for /mnt/Rdata/OBS_data/asteroid/RiLA600_STX-16803_-_1bin/120LACHESIS_LIGHT_-_2023-10-11_-_RiLA600_STX-16803_-_1bin/120LACHESIS_LIGHT_R_2023-10-11-16-57-37_120sec_RiLA600_STX-16803_16c_1bin.fits, filling with None.\n",
      "  warn(str_keyerror_fill.format(k, str(item)))\n",
      "/home/guitar79/anaconda3/envs/astro_Python_env/lib/python3.11/site-packages/ysfitsutilpy/filemgmt.py:298: UserWarning: Key AP_2_0 not found for /mnt/Rdata/OBS_data/asteroid/RiLA600_STX-16803_-_1bin/120LACHESIS_LIGHT_-_2023-10-11_-_RiLA600_STX-16803_-_1bin/120LACHESIS_LIGHT_R_2023-10-11-16-57-37_120sec_RiLA600_STX-16803_16c_1bin.fits, filling with None.\n",
      "  warn(str_keyerror_fill.format(k, str(item)))\n",
      "/home/guitar79/anaconda3/envs/astro_Python_env/lib/python3.11/site-packages/ysfitsutilpy/filemgmt.py:298: UserWarning: Key BP_ORDER not found for /mnt/Rdata/OBS_data/asteroid/RiLA600_STX-16803_-_1bin/120LACHESIS_LIGHT_-_2023-10-11_-_RiLA600_STX-16803_-_1bin/120LACHESIS_LIGHT_R_2023-10-11-16-57-37_120sec_RiLA600_STX-16803_16c_1bin.fits, filling with None.\n",
      "  warn(str_keyerror_fill.format(k, str(item)))\n",
      "/home/guitar79/anaconda3/envs/astro_Python_env/lib/python3.11/site-packages/ysfitsutilpy/filemgmt.py:298: UserWarning: Key BP_0_0 not found for /mnt/Rdata/OBS_data/asteroid/RiLA600_STX-16803_-_1bin/120LACHESIS_LIGHT_-_2023-10-11_-_RiLA600_STX-16803_-_1bin/120LACHESIS_LIGHT_R_2023-10-11-16-57-37_120sec_RiLA600_STX-16803_16c_1bin.fits, filling with None.\n",
      "  warn(str_keyerror_fill.format(k, str(item)))\n",
      "/home/guitar79/anaconda3/envs/astro_Python_env/lib/python3.11/site-packages/ysfitsutilpy/filemgmt.py:298: UserWarning: Key BP_0_1 not found for /mnt/Rdata/OBS_data/asteroid/RiLA600_STX-16803_-_1bin/120LACHESIS_LIGHT_-_2023-10-11_-_RiLA600_STX-16803_-_1bin/120LACHESIS_LIGHT_R_2023-10-11-16-57-37_120sec_RiLA600_STX-16803_16c_1bin.fits, filling with None.\n",
      "  warn(str_keyerror_fill.format(k, str(item)))\n",
      "/home/guitar79/anaconda3/envs/astro_Python_env/lib/python3.11/site-packages/ysfitsutilpy/filemgmt.py:298: UserWarning: Key BP_0_2 not found for /mnt/Rdata/OBS_data/asteroid/RiLA600_STX-16803_-_1bin/120LACHESIS_LIGHT_-_2023-10-11_-_RiLA600_STX-16803_-_1bin/120LACHESIS_LIGHT_R_2023-10-11-16-57-37_120sec_RiLA600_STX-16803_16c_1bin.fits, filling with None.\n",
      "  warn(str_keyerror_fill.format(k, str(item)))\n",
      "/home/guitar79/anaconda3/envs/astro_Python_env/lib/python3.11/site-packages/ysfitsutilpy/filemgmt.py:298: UserWarning: Key BP_1_0 not found for /mnt/Rdata/OBS_data/asteroid/RiLA600_STX-16803_-_1bin/120LACHESIS_LIGHT_-_2023-10-11_-_RiLA600_STX-16803_-_1bin/120LACHESIS_LIGHT_R_2023-10-11-16-57-37_120sec_RiLA600_STX-16803_16c_1bin.fits, filling with None.\n",
      "  warn(str_keyerror_fill.format(k, str(item)))\n",
      "/home/guitar79/anaconda3/envs/astro_Python_env/lib/python3.11/site-packages/ysfitsutilpy/filemgmt.py:298: UserWarning: Key BP_1_1 not found for /mnt/Rdata/OBS_data/asteroid/RiLA600_STX-16803_-_1bin/120LACHESIS_LIGHT_-_2023-10-11_-_RiLA600_STX-16803_-_1bin/120LACHESIS_LIGHT_R_2023-10-11-16-57-37_120sec_RiLA600_STX-16803_16c_1bin.fits, filling with None.\n",
      "  warn(str_keyerror_fill.format(k, str(item)))\n",
      "/home/guitar79/anaconda3/envs/astro_Python_env/lib/python3.11/site-packages/ysfitsutilpy/filemgmt.py:298: UserWarning: Key BP_2_0 not found for /mnt/Rdata/OBS_data/asteroid/RiLA600_STX-16803_-_1bin/120LACHESIS_LIGHT_-_2023-10-11_-_RiLA600_STX-16803_-_1bin/120LACHESIS_LIGHT_R_2023-10-11-16-57-37_120sec_RiLA600_STX-16803_16c_1bin.fits, filling with None.\n",
      "  warn(str_keyerror_fill.format(k, str(item)))\n",
      "/home/guitar79/anaconda3/envs/astro_Python_env/lib/python3.11/site-packages/ysfitsutilpy/filemgmt.py:298: UserWarning: Key _QUINOX not found for /mnt/Rdata/OBS_data/asteroid/RiLA600_STX-16803_-_1bin/120LACHESIS_LIGHT_-_2023-10-11_-_RiLA600_STX-16803_-_1bin/120LACHESIS_LIGHT_R_2023-10-11-16-59-49_180sec_RiLA600_STX-16803_16c_1bin.fits, filling with None.\n",
      "  warn(str_keyerror_fill.format(k, str(item)))\n",
      "/home/guitar79/anaconda3/envs/astro_Python_env/lib/python3.11/site-packages/ysfitsutilpy/filemgmt.py:298: UserWarning: Key _CSAXES not found for /mnt/Rdata/OBS_data/asteroid/RiLA600_STX-16803_-_1bin/120LACHESIS_LIGHT_-_2023-10-11_-_RiLA600_STX-16803_-_1bin/120LACHESIS_LIGHT_R_2023-10-11-16-59-49_180sec_RiLA600_STX-16803_16c_1bin.fits, filling with None.\n",
      "  warn(str_keyerror_fill.format(k, str(item)))\n",
      "/home/guitar79/anaconda3/envs/astro_Python_env/lib/python3.11/site-packages/ysfitsutilpy/filemgmt.py:298: UserWarning: Key _TYPE1 not found for /mnt/Rdata/OBS_data/asteroid/RiLA600_STX-16803_-_1bin/120LACHESIS_LIGHT_-_2023-10-11_-_RiLA600_STX-16803_-_1bin/120LACHESIS_LIGHT_R_2023-10-11-16-59-49_180sec_RiLA600_STX-16803_16c_1bin.fits, filling with None.\n",
      "  warn(str_keyerror_fill.format(k, str(item)))\n",
      "/home/guitar79/anaconda3/envs/astro_Python_env/lib/python3.11/site-packages/ysfitsutilpy/filemgmt.py:298: UserWarning: Key _TYPE2 not found for /mnt/Rdata/OBS_data/asteroid/RiLA600_STX-16803_-_1bin/120LACHESIS_LIGHT_-_2023-10-11_-_RiLA600_STX-16803_-_1bin/120LACHESIS_LIGHT_R_2023-10-11-16-59-49_180sec_RiLA600_STX-16803_16c_1bin.fits, filling with None.\n",
      "  warn(str_keyerror_fill.format(k, str(item)))\n",
      "/home/guitar79/anaconda3/envs/astro_Python_env/lib/python3.11/site-packages/ysfitsutilpy/filemgmt.py:298: UserWarning: Key _ONPOLE not found for /mnt/Rdata/OBS_data/asteroid/RiLA600_STX-16803_-_1bin/120LACHESIS_LIGHT_-_2023-10-11_-_RiLA600_STX-16803_-_1bin/120LACHESIS_LIGHT_R_2023-10-11-16-59-49_180sec_RiLA600_STX-16803_16c_1bin.fits, filling with None.\n",
      "  warn(str_keyerror_fill.format(k, str(item)))\n",
      "/home/guitar79/anaconda3/envs/astro_Python_env/lib/python3.11/site-packages/ysfitsutilpy/filemgmt.py:298: UserWarning: Key _ATPOLE not found for /mnt/Rdata/OBS_data/asteroid/RiLA600_STX-16803_-_1bin/120LACHESIS_LIGHT_-_2023-10-11_-_RiLA600_STX-16803_-_1bin/120LACHESIS_LIGHT_R_2023-10-11-16-59-49_180sec_RiLA600_STX-16803_16c_1bin.fits, filling with None.\n",
      "  warn(str_keyerror_fill.format(k, str(item)))\n",
      "/home/guitar79/anaconda3/envs/astro_Python_env/lib/python3.11/site-packages/ysfitsutilpy/filemgmt.py:298: UserWarning: Key _RVAL1 not found for /mnt/Rdata/OBS_data/asteroid/RiLA600_STX-16803_-_1bin/120LACHESIS_LIGHT_-_2023-10-11_-_RiLA600_STX-16803_-_1bin/120LACHESIS_LIGHT_R_2023-10-11-16-59-49_180sec_RiLA600_STX-16803_16c_1bin.fits, filling with None.\n",
      "  warn(str_keyerror_fill.format(k, str(item)))\n",
      "/home/guitar79/anaconda3/envs/astro_Python_env/lib/python3.11/site-packages/ysfitsutilpy/filemgmt.py:298: UserWarning: Key _RVAL2 not found for /mnt/Rdata/OBS_data/asteroid/RiLA600_STX-16803_-_1bin/120LACHESIS_LIGHT_-_2023-10-11_-_RiLA600_STX-16803_-_1bin/120LACHESIS_LIGHT_R_2023-10-11-16-59-49_180sec_RiLA600_STX-16803_16c_1bin.fits, filling with None.\n",
      "  warn(str_keyerror_fill.format(k, str(item)))\n",
      "/home/guitar79/anaconda3/envs/astro_Python_env/lib/python3.11/site-packages/ysfitsutilpy/filemgmt.py:298: UserWarning: Key _RPIX1 not found for /mnt/Rdata/OBS_data/asteroid/RiLA600_STX-16803_-_1bin/120LACHESIS_LIGHT_-_2023-10-11_-_RiLA600_STX-16803_-_1bin/120LACHESIS_LIGHT_R_2023-10-11-16-59-49_180sec_RiLA600_STX-16803_16c_1bin.fits, filling with None.\n",
      "  warn(str_keyerror_fill.format(k, str(item)))\n",
      "/home/guitar79/anaconda3/envs/astro_Python_env/lib/python3.11/site-packages/ysfitsutilpy/filemgmt.py:298: UserWarning: Key _RPIX2 not found for /mnt/Rdata/OBS_data/asteroid/RiLA600_STX-16803_-_1bin/120LACHESIS_LIGHT_-_2023-10-11_-_RiLA600_STX-16803_-_1bin/120LACHESIS_LIGHT_R_2023-10-11-16-59-49_180sec_RiLA600_STX-16803_16c_1bin.fits, filling with None.\n",
      "  warn(str_keyerror_fill.format(k, str(item)))\n",
      "/home/guitar79/anaconda3/envs/astro_Python_env/lib/python3.11/site-packages/ysfitsutilpy/filemgmt.py:298: UserWarning: Key _UNIT1 not found for /mnt/Rdata/OBS_data/asteroid/RiLA600_STX-16803_-_1bin/120LACHESIS_LIGHT_-_2023-10-11_-_RiLA600_STX-16803_-_1bin/120LACHESIS_LIGHT_R_2023-10-11-16-59-49_180sec_RiLA600_STX-16803_16c_1bin.fits, filling with None.\n",
      "  warn(str_keyerror_fill.format(k, str(item)))\n",
      "/home/guitar79/anaconda3/envs/astro_Python_env/lib/python3.11/site-packages/ysfitsutilpy/filemgmt.py:298: UserWarning: Key _UNIT2 not found for /mnt/Rdata/OBS_data/asteroid/RiLA600_STX-16803_-_1bin/120LACHESIS_LIGHT_-_2023-10-11_-_RiLA600_STX-16803_-_1bin/120LACHESIS_LIGHT_R_2023-10-11-16-59-49_180sec_RiLA600_STX-16803_16c_1bin.fits, filling with None.\n",
      "  warn(str_keyerror_fill.format(k, str(item)))\n",
      "/home/guitar79/anaconda3/envs/astro_Python_env/lib/python3.11/site-packages/ysfitsutilpy/filemgmt.py:298: UserWarning: Key _D1_1 not found for /mnt/Rdata/OBS_data/asteroid/RiLA600_STX-16803_-_1bin/120LACHESIS_LIGHT_-_2023-10-11_-_RiLA600_STX-16803_-_1bin/120LACHESIS_LIGHT_R_2023-10-11-16-59-49_180sec_RiLA600_STX-16803_16c_1bin.fits, filling with None.\n",
      "  warn(str_keyerror_fill.format(k, str(item)))\n",
      "/home/guitar79/anaconda3/envs/astro_Python_env/lib/python3.11/site-packages/ysfitsutilpy/filemgmt.py:298: UserWarning: Key _D1_2 not found for /mnt/Rdata/OBS_data/asteroid/RiLA600_STX-16803_-_1bin/120LACHESIS_LIGHT_-_2023-10-11_-_RiLA600_STX-16803_-_1bin/120LACHESIS_LIGHT_R_2023-10-11-16-59-49_180sec_RiLA600_STX-16803_16c_1bin.fits, filling with None.\n",
      "  warn(str_keyerror_fill.format(k, str(item)))\n",
      "/home/guitar79/anaconda3/envs/astro_Python_env/lib/python3.11/site-packages/ysfitsutilpy/filemgmt.py:298: UserWarning: Key _D2_1 not found for /mnt/Rdata/OBS_data/asteroid/RiLA600_STX-16803_-_1bin/120LACHESIS_LIGHT_-_2023-10-11_-_RiLA600_STX-16803_-_1bin/120LACHESIS_LIGHT_R_2023-10-11-16-59-49_180sec_RiLA600_STX-16803_16c_1bin.fits, filling with None.\n",
      "  warn(str_keyerror_fill.format(k, str(item)))\n",
      "/home/guitar79/anaconda3/envs/astro_Python_env/lib/python3.11/site-packages/ysfitsutilpy/filemgmt.py:298: UserWarning: Key _D2_2 not found for /mnt/Rdata/OBS_data/asteroid/RiLA600_STX-16803_-_1bin/120LACHESIS_LIGHT_-_2023-10-11_-_RiLA600_STX-16803_-_1bin/120LACHESIS_LIGHT_R_2023-10-11-16-59-49_180sec_RiLA600_STX-16803_16c_1bin.fits, filling with None.\n",
      "  warn(str_keyerror_fill.format(k, str(item)))\n",
      "/home/guitar79/anaconda3/envs/astro_Python_env/lib/python3.11/site-packages/ysfitsutilpy/filemgmt.py:298: UserWarning: Key _MAGEW not found for /mnt/Rdata/OBS_data/asteroid/RiLA600_STX-16803_-_1bin/120LACHESIS_LIGHT_-_2023-10-11_-_RiLA600_STX-16803_-_1bin/120LACHESIS_LIGHT_R_2023-10-11-16-59-49_180sec_RiLA600_STX-16803_16c_1bin.fits, filling with None.\n",
      "  warn(str_keyerror_fill.format(k, str(item)))\n",
      "/home/guitar79/anaconda3/envs/astro_Python_env/lib/python3.11/site-packages/ysfitsutilpy/filemgmt.py:298: UserWarning: Key _MAGEH not found for /mnt/Rdata/OBS_data/asteroid/RiLA600_STX-16803_-_1bin/120LACHESIS_LIGHT_-_2023-10-11_-_RiLA600_STX-16803_-_1bin/120LACHESIS_LIGHT_R_2023-10-11-16-59-49_180sec_RiLA600_STX-16803_16c_1bin.fits, filling with None.\n",
      "  warn(str_keyerror_fill.format(k, str(item)))\n",
      "/home/guitar79/anaconda3/envs/astro_Python_env/lib/python3.11/site-packages/ysfitsutilpy/filemgmt.py:298: UserWarning: Key __ORDER not found for /mnt/Rdata/OBS_data/asteroid/RiLA600_STX-16803_-_1bin/120LACHESIS_LIGHT_-_2023-10-11_-_RiLA600_STX-16803_-_1bin/120LACHESIS_LIGHT_R_2023-10-11-16-59-49_180sec_RiLA600_STX-16803_16c_1bin.fits, filling with None.\n",
      "  warn(str_keyerror_fill.format(k, str(item)))\n",
      "/home/guitar79/anaconda3/envs/astro_Python_env/lib/python3.11/site-packages/ysfitsutilpy/filemgmt.py:298: UserWarning: Key __0_0 not found for /mnt/Rdata/OBS_data/asteroid/RiLA600_STX-16803_-_1bin/120LACHESIS_LIGHT_-_2023-10-11_-_RiLA600_STX-16803_-_1bin/120LACHESIS_LIGHT_R_2023-10-11-16-59-49_180sec_RiLA600_STX-16803_16c_1bin.fits, filling with None.\n",
      "  warn(str_keyerror_fill.format(k, str(item)))\n",
      "/home/guitar79/anaconda3/envs/astro_Python_env/lib/python3.11/site-packages/ysfitsutilpy/filemgmt.py:298: UserWarning: Key __0_1 not found for /mnt/Rdata/OBS_data/asteroid/RiLA600_STX-16803_-_1bin/120LACHESIS_LIGHT_-_2023-10-11_-_RiLA600_STX-16803_-_1bin/120LACHESIS_LIGHT_R_2023-10-11-16-59-49_180sec_RiLA600_STX-16803_16c_1bin.fits, filling with None.\n",
      "  warn(str_keyerror_fill.format(k, str(item)))\n",
      "/home/guitar79/anaconda3/envs/astro_Python_env/lib/python3.11/site-packages/ysfitsutilpy/filemgmt.py:298: UserWarning: Key __0_2 not found for /mnt/Rdata/OBS_data/asteroid/RiLA600_STX-16803_-_1bin/120LACHESIS_LIGHT_-_2023-10-11_-_RiLA600_STX-16803_-_1bin/120LACHESIS_LIGHT_R_2023-10-11-16-59-49_180sec_RiLA600_STX-16803_16c_1bin.fits, filling with None.\n",
      "  warn(str_keyerror_fill.format(k, str(item)))\n",
      "/home/guitar79/anaconda3/envs/astro_Python_env/lib/python3.11/site-packages/ysfitsutilpy/filemgmt.py:298: UserWarning: Key __1_0 not found for /mnt/Rdata/OBS_data/asteroid/RiLA600_STX-16803_-_1bin/120LACHESIS_LIGHT_-_2023-10-11_-_RiLA600_STX-16803_-_1bin/120LACHESIS_LIGHT_R_2023-10-11-16-59-49_180sec_RiLA600_STX-16803_16c_1bin.fits, filling with None.\n",
      "  warn(str_keyerror_fill.format(k, str(item)))\n",
      "/home/guitar79/anaconda3/envs/astro_Python_env/lib/python3.11/site-packages/ysfitsutilpy/filemgmt.py:298: UserWarning: Key __1_1 not found for /mnt/Rdata/OBS_data/asteroid/RiLA600_STX-16803_-_1bin/120LACHESIS_LIGHT_-_2023-10-11_-_RiLA600_STX-16803_-_1bin/120LACHESIS_LIGHT_R_2023-10-11-16-59-49_180sec_RiLA600_STX-16803_16c_1bin.fits, filling with None.\n",
      "  warn(str_keyerror_fill.format(k, str(item)))\n",
      "/home/guitar79/anaconda3/envs/astro_Python_env/lib/python3.11/site-packages/ysfitsutilpy/filemgmt.py:298: UserWarning: Key __2_0 not found for /mnt/Rdata/OBS_data/asteroid/RiLA600_STX-16803_-_1bin/120LACHESIS_LIGHT_-_2023-10-11_-_RiLA600_STX-16803_-_1bin/120LACHESIS_LIGHT_R_2023-10-11-16-59-49_180sec_RiLA600_STX-16803_16c_1bin.fits, filling with None.\n",
      "  warn(str_keyerror_fill.format(k, str(item)))\n",
      "/home/guitar79/anaconda3/envs/astro_Python_env/lib/python3.11/site-packages/ysfitsutilpy/filemgmt.py:298: UserWarning: Key _P_ORDER not found for /mnt/Rdata/OBS_data/asteroid/RiLA600_STX-16803_-_1bin/120LACHESIS_LIGHT_-_2023-10-11_-_RiLA600_STX-16803_-_1bin/120LACHESIS_LIGHT_R_2023-10-11-16-59-49_180sec_RiLA600_STX-16803_16c_1bin.fits, filling with None.\n",
      "  warn(str_keyerror_fill.format(k, str(item)))\n",
      "/home/guitar79/anaconda3/envs/astro_Python_env/lib/python3.11/site-packages/ysfitsutilpy/filemgmt.py:298: UserWarning: Key _P_0_0 not found for /mnt/Rdata/OBS_data/asteroid/RiLA600_STX-16803_-_1bin/120LACHESIS_LIGHT_-_2023-10-11_-_RiLA600_STX-16803_-_1bin/120LACHESIS_LIGHT_R_2023-10-11-16-59-49_180sec_RiLA600_STX-16803_16c_1bin.fits, filling with None.\n",
      "  warn(str_keyerror_fill.format(k, str(item)))\n",
      "/home/guitar79/anaconda3/envs/astro_Python_env/lib/python3.11/site-packages/ysfitsutilpy/filemgmt.py:298: UserWarning: Key _P_0_1 not found for /mnt/Rdata/OBS_data/asteroid/RiLA600_STX-16803_-_1bin/120LACHESIS_LIGHT_-_2023-10-11_-_RiLA600_STX-16803_-_1bin/120LACHESIS_LIGHT_R_2023-10-11-16-59-49_180sec_RiLA600_STX-16803_16c_1bin.fits, filling with None.\n",
      "  warn(str_keyerror_fill.format(k, str(item)))\n",
      "/home/guitar79/anaconda3/envs/astro_Python_env/lib/python3.11/site-packages/ysfitsutilpy/filemgmt.py:298: UserWarning: Key _P_0_2 not found for /mnt/Rdata/OBS_data/asteroid/RiLA600_STX-16803_-_1bin/120LACHESIS_LIGHT_-_2023-10-11_-_RiLA600_STX-16803_-_1bin/120LACHESIS_LIGHT_R_2023-10-11-16-59-49_180sec_RiLA600_STX-16803_16c_1bin.fits, filling with None.\n",
      "  warn(str_keyerror_fill.format(k, str(item)))\n",
      "/home/guitar79/anaconda3/envs/astro_Python_env/lib/python3.11/site-packages/ysfitsutilpy/filemgmt.py:298: UserWarning: Key _P_1_0 not found for /mnt/Rdata/OBS_data/asteroid/RiLA600_STX-16803_-_1bin/120LACHESIS_LIGHT_-_2023-10-11_-_RiLA600_STX-16803_-_1bin/120LACHESIS_LIGHT_R_2023-10-11-16-59-49_180sec_RiLA600_STX-16803_16c_1bin.fits, filling with None.\n",
      "  warn(str_keyerror_fill.format(k, str(item)))\n",
      "/home/guitar79/anaconda3/envs/astro_Python_env/lib/python3.11/site-packages/ysfitsutilpy/filemgmt.py:298: UserWarning: Key _P_1_1 not found for /mnt/Rdata/OBS_data/asteroid/RiLA600_STX-16803_-_1bin/120LACHESIS_LIGHT_-_2023-10-11_-_RiLA600_STX-16803_-_1bin/120LACHESIS_LIGHT_R_2023-10-11-16-59-49_180sec_RiLA600_STX-16803_16c_1bin.fits, filling with None.\n",
      "  warn(str_keyerror_fill.format(k, str(item)))\n",
      "/home/guitar79/anaconda3/envs/astro_Python_env/lib/python3.11/site-packages/ysfitsutilpy/filemgmt.py:298: UserWarning: Key _P_2_0 not found for /mnt/Rdata/OBS_data/asteroid/RiLA600_STX-16803_-_1bin/120LACHESIS_LIGHT_-_2023-10-11_-_RiLA600_STX-16803_-_1bin/120LACHESIS_LIGHT_R_2023-10-11-16-59-49_180sec_RiLA600_STX-16803_16c_1bin.fits, filling with None.\n",
      "  warn(str_keyerror_fill.format(k, str(item)))\n",
      "/home/guitar79/anaconda3/envs/astro_Python_env/lib/python3.11/site-packages/ysfitsutilpy/filemgmt.py:298: UserWarning: Key _ATE not found for /mnt/Rdata/OBS_data/asteroid/RiLA600_STX-16803_-_1bin/120LACHESIS_LIGHT_-_2023-10-11_-_RiLA600_STX-16803_-_1bin/120LACHESIS_LIGHT_R_2023-10-11-16-59-49_180sec_RiLA600_STX-16803_16c_1bin.fits, filling with None.\n",
      "  warn(str_keyerror_fill.format(k, str(item)))\n",
      "/home/guitar79/anaconda3/envs/astro_Python_env/lib/python3.11/site-packages/ysfitsutilpy/filemgmt.py:298: UserWarning: Key _QUINOX not found for /mnt/Rdata/OBS_data/asteroid/RiLA600_STX-16803_-_1bin/120LACHESIS_LIGHT_-_2023-10-11_-_RiLA600_STX-16803_-_1bin/120LACHESIS_LIGHT_R_2023-10-11-17-08-24_120sec_RiLA600_STX-16803_16c_1bin.fits, filling with None.\n",
      "  warn(str_keyerror_fill.format(k, str(item)))\n",
      "/home/guitar79/anaconda3/envs/astro_Python_env/lib/python3.11/site-packages/ysfitsutilpy/filemgmt.py:298: UserWarning: Key _CSAXES not found for /mnt/Rdata/OBS_data/asteroid/RiLA600_STX-16803_-_1bin/120LACHESIS_LIGHT_-_2023-10-11_-_RiLA600_STX-16803_-_1bin/120LACHESIS_LIGHT_R_2023-10-11-17-08-24_120sec_RiLA600_STX-16803_16c_1bin.fits, filling with None.\n",
      "  warn(str_keyerror_fill.format(k, str(item)))\n",
      "/home/guitar79/anaconda3/envs/astro_Python_env/lib/python3.11/site-packages/ysfitsutilpy/filemgmt.py:298: UserWarning: Key _TYPE1 not found for /mnt/Rdata/OBS_data/asteroid/RiLA600_STX-16803_-_1bin/120LACHESIS_LIGHT_-_2023-10-11_-_RiLA600_STX-16803_-_1bin/120LACHESIS_LIGHT_R_2023-10-11-17-08-24_120sec_RiLA600_STX-16803_16c_1bin.fits, filling with None.\n",
      "  warn(str_keyerror_fill.format(k, str(item)))\n",
      "/home/guitar79/anaconda3/envs/astro_Python_env/lib/python3.11/site-packages/ysfitsutilpy/filemgmt.py:298: UserWarning: Key _TYPE2 not found for /mnt/Rdata/OBS_data/asteroid/RiLA600_STX-16803_-_1bin/120LACHESIS_LIGHT_-_2023-10-11_-_RiLA600_STX-16803_-_1bin/120LACHESIS_LIGHT_R_2023-10-11-17-08-24_120sec_RiLA600_STX-16803_16c_1bin.fits, filling with None.\n",
      "  warn(str_keyerror_fill.format(k, str(item)))\n",
      "/home/guitar79/anaconda3/envs/astro_Python_env/lib/python3.11/site-packages/ysfitsutilpy/filemgmt.py:298: UserWarning: Key _ONPOLE not found for /mnt/Rdata/OBS_data/asteroid/RiLA600_STX-16803_-_1bin/120LACHESIS_LIGHT_-_2023-10-11_-_RiLA600_STX-16803_-_1bin/120LACHESIS_LIGHT_R_2023-10-11-17-08-24_120sec_RiLA600_STX-16803_16c_1bin.fits, filling with None.\n",
      "  warn(str_keyerror_fill.format(k, str(item)))\n",
      "/home/guitar79/anaconda3/envs/astro_Python_env/lib/python3.11/site-packages/ysfitsutilpy/filemgmt.py:298: UserWarning: Key _ATPOLE not found for /mnt/Rdata/OBS_data/asteroid/RiLA600_STX-16803_-_1bin/120LACHESIS_LIGHT_-_2023-10-11_-_RiLA600_STX-16803_-_1bin/120LACHESIS_LIGHT_R_2023-10-11-17-08-24_120sec_RiLA600_STX-16803_16c_1bin.fits, filling with None.\n",
      "  warn(str_keyerror_fill.format(k, str(item)))\n",
      "/home/guitar79/anaconda3/envs/astro_Python_env/lib/python3.11/site-packages/ysfitsutilpy/filemgmt.py:298: UserWarning: Key _RVAL1 not found for /mnt/Rdata/OBS_data/asteroid/RiLA600_STX-16803_-_1bin/120LACHESIS_LIGHT_-_2023-10-11_-_RiLA600_STX-16803_-_1bin/120LACHESIS_LIGHT_R_2023-10-11-17-08-24_120sec_RiLA600_STX-16803_16c_1bin.fits, filling with None.\n",
      "  warn(str_keyerror_fill.format(k, str(item)))\n",
      "/home/guitar79/anaconda3/envs/astro_Python_env/lib/python3.11/site-packages/ysfitsutilpy/filemgmt.py:298: UserWarning: Key _RVAL2 not found for /mnt/Rdata/OBS_data/asteroid/RiLA600_STX-16803_-_1bin/120LACHESIS_LIGHT_-_2023-10-11_-_RiLA600_STX-16803_-_1bin/120LACHESIS_LIGHT_R_2023-10-11-17-08-24_120sec_RiLA600_STX-16803_16c_1bin.fits, filling with None.\n",
      "  warn(str_keyerror_fill.format(k, str(item)))\n",
      "/home/guitar79/anaconda3/envs/astro_Python_env/lib/python3.11/site-packages/ysfitsutilpy/filemgmt.py:298: UserWarning: Key _RPIX1 not found for /mnt/Rdata/OBS_data/asteroid/RiLA600_STX-16803_-_1bin/120LACHESIS_LIGHT_-_2023-10-11_-_RiLA600_STX-16803_-_1bin/120LACHESIS_LIGHT_R_2023-10-11-17-08-24_120sec_RiLA600_STX-16803_16c_1bin.fits, filling with None.\n",
      "  warn(str_keyerror_fill.format(k, str(item)))\n",
      "/home/guitar79/anaconda3/envs/astro_Python_env/lib/python3.11/site-packages/ysfitsutilpy/filemgmt.py:298: UserWarning: Key _RPIX2 not found for /mnt/Rdata/OBS_data/asteroid/RiLA600_STX-16803_-_1bin/120LACHESIS_LIGHT_-_2023-10-11_-_RiLA600_STX-16803_-_1bin/120LACHESIS_LIGHT_R_2023-10-11-17-08-24_120sec_RiLA600_STX-16803_16c_1bin.fits, filling with None.\n",
      "  warn(str_keyerror_fill.format(k, str(item)))\n",
      "/home/guitar79/anaconda3/envs/astro_Python_env/lib/python3.11/site-packages/ysfitsutilpy/filemgmt.py:298: UserWarning: Key _UNIT1 not found for /mnt/Rdata/OBS_data/asteroid/RiLA600_STX-16803_-_1bin/120LACHESIS_LIGHT_-_2023-10-11_-_RiLA600_STX-16803_-_1bin/120LACHESIS_LIGHT_R_2023-10-11-17-08-24_120sec_RiLA600_STX-16803_16c_1bin.fits, filling with None.\n",
      "  warn(str_keyerror_fill.format(k, str(item)))\n",
      "/home/guitar79/anaconda3/envs/astro_Python_env/lib/python3.11/site-packages/ysfitsutilpy/filemgmt.py:298: UserWarning: Key _UNIT2 not found for /mnt/Rdata/OBS_data/asteroid/RiLA600_STX-16803_-_1bin/120LACHESIS_LIGHT_-_2023-10-11_-_RiLA600_STX-16803_-_1bin/120LACHESIS_LIGHT_R_2023-10-11-17-08-24_120sec_RiLA600_STX-16803_16c_1bin.fits, filling with None.\n",
      "  warn(str_keyerror_fill.format(k, str(item)))\n",
      "/home/guitar79/anaconda3/envs/astro_Python_env/lib/python3.11/site-packages/ysfitsutilpy/filemgmt.py:298: UserWarning: Key _D1_1 not found for /mnt/Rdata/OBS_data/asteroid/RiLA600_STX-16803_-_1bin/120LACHESIS_LIGHT_-_2023-10-11_-_RiLA600_STX-16803_-_1bin/120LACHESIS_LIGHT_R_2023-10-11-17-08-24_120sec_RiLA600_STX-16803_16c_1bin.fits, filling with None.\n",
      "  warn(str_keyerror_fill.format(k, str(item)))\n",
      "/home/guitar79/anaconda3/envs/astro_Python_env/lib/python3.11/site-packages/ysfitsutilpy/filemgmt.py:298: UserWarning: Key _D1_2 not found for /mnt/Rdata/OBS_data/asteroid/RiLA600_STX-16803_-_1bin/120LACHESIS_LIGHT_-_2023-10-11_-_RiLA600_STX-16803_-_1bin/120LACHESIS_LIGHT_R_2023-10-11-17-08-24_120sec_RiLA600_STX-16803_16c_1bin.fits, filling with None.\n",
      "  warn(str_keyerror_fill.format(k, str(item)))\n",
      "/home/guitar79/anaconda3/envs/astro_Python_env/lib/python3.11/site-packages/ysfitsutilpy/filemgmt.py:298: UserWarning: Key _D2_1 not found for /mnt/Rdata/OBS_data/asteroid/RiLA600_STX-16803_-_1bin/120LACHESIS_LIGHT_-_2023-10-11_-_RiLA600_STX-16803_-_1bin/120LACHESIS_LIGHT_R_2023-10-11-17-08-24_120sec_RiLA600_STX-16803_16c_1bin.fits, filling with None.\n",
      "  warn(str_keyerror_fill.format(k, str(item)))\n",
      "/home/guitar79/anaconda3/envs/astro_Python_env/lib/python3.11/site-packages/ysfitsutilpy/filemgmt.py:298: UserWarning: Key _D2_2 not found for /mnt/Rdata/OBS_data/asteroid/RiLA600_STX-16803_-_1bin/120LACHESIS_LIGHT_-_2023-10-11_-_RiLA600_STX-16803_-_1bin/120LACHESIS_LIGHT_R_2023-10-11-17-08-24_120sec_RiLA600_STX-16803_16c_1bin.fits, filling with None.\n",
      "  warn(str_keyerror_fill.format(k, str(item)))\n",
      "/home/guitar79/anaconda3/envs/astro_Python_env/lib/python3.11/site-packages/ysfitsutilpy/filemgmt.py:298: UserWarning: Key _MAGEW not found for /mnt/Rdata/OBS_data/asteroid/RiLA600_STX-16803_-_1bin/120LACHESIS_LIGHT_-_2023-10-11_-_RiLA600_STX-16803_-_1bin/120LACHESIS_LIGHT_R_2023-10-11-17-08-24_120sec_RiLA600_STX-16803_16c_1bin.fits, filling with None.\n",
      "  warn(str_keyerror_fill.format(k, str(item)))\n",
      "/home/guitar79/anaconda3/envs/astro_Python_env/lib/python3.11/site-packages/ysfitsutilpy/filemgmt.py:298: UserWarning: Key _MAGEH not found for /mnt/Rdata/OBS_data/asteroid/RiLA600_STX-16803_-_1bin/120LACHESIS_LIGHT_-_2023-10-11_-_RiLA600_STX-16803_-_1bin/120LACHESIS_LIGHT_R_2023-10-11-17-08-24_120sec_RiLA600_STX-16803_16c_1bin.fits, filling with None.\n",
      "  warn(str_keyerror_fill.format(k, str(item)))\n",
      "/home/guitar79/anaconda3/envs/astro_Python_env/lib/python3.11/site-packages/ysfitsutilpy/filemgmt.py:298: UserWarning: Key __ORDER not found for /mnt/Rdata/OBS_data/asteroid/RiLA600_STX-16803_-_1bin/120LACHESIS_LIGHT_-_2023-10-11_-_RiLA600_STX-16803_-_1bin/120LACHESIS_LIGHT_R_2023-10-11-17-08-24_120sec_RiLA600_STX-16803_16c_1bin.fits, filling with None.\n",
      "  warn(str_keyerror_fill.format(k, str(item)))\n",
      "/home/guitar79/anaconda3/envs/astro_Python_env/lib/python3.11/site-packages/ysfitsutilpy/filemgmt.py:298: UserWarning: Key __0_0 not found for /mnt/Rdata/OBS_data/asteroid/RiLA600_STX-16803_-_1bin/120LACHESIS_LIGHT_-_2023-10-11_-_RiLA600_STX-16803_-_1bin/120LACHESIS_LIGHT_R_2023-10-11-17-08-24_120sec_RiLA600_STX-16803_16c_1bin.fits, filling with None.\n",
      "  warn(str_keyerror_fill.format(k, str(item)))\n",
      "/home/guitar79/anaconda3/envs/astro_Python_env/lib/python3.11/site-packages/ysfitsutilpy/filemgmt.py:298: UserWarning: Key __0_1 not found for /mnt/Rdata/OBS_data/asteroid/RiLA600_STX-16803_-_1bin/120LACHESIS_LIGHT_-_2023-10-11_-_RiLA600_STX-16803_-_1bin/120LACHESIS_LIGHT_R_2023-10-11-17-08-24_120sec_RiLA600_STX-16803_16c_1bin.fits, filling with None.\n",
      "  warn(str_keyerror_fill.format(k, str(item)))\n",
      "/home/guitar79/anaconda3/envs/astro_Python_env/lib/python3.11/site-packages/ysfitsutilpy/filemgmt.py:298: UserWarning: Key __0_2 not found for /mnt/Rdata/OBS_data/asteroid/RiLA600_STX-16803_-_1bin/120LACHESIS_LIGHT_-_2023-10-11_-_RiLA600_STX-16803_-_1bin/120LACHESIS_LIGHT_R_2023-10-11-17-08-24_120sec_RiLA600_STX-16803_16c_1bin.fits, filling with None.\n",
      "  warn(str_keyerror_fill.format(k, str(item)))\n",
      "/home/guitar79/anaconda3/envs/astro_Python_env/lib/python3.11/site-packages/ysfitsutilpy/filemgmt.py:298: UserWarning: Key __1_0 not found for /mnt/Rdata/OBS_data/asteroid/RiLA600_STX-16803_-_1bin/120LACHESIS_LIGHT_-_2023-10-11_-_RiLA600_STX-16803_-_1bin/120LACHESIS_LIGHT_R_2023-10-11-17-08-24_120sec_RiLA600_STX-16803_16c_1bin.fits, filling with None.\n",
      "  warn(str_keyerror_fill.format(k, str(item)))\n",
      "/home/guitar79/anaconda3/envs/astro_Python_env/lib/python3.11/site-packages/ysfitsutilpy/filemgmt.py:298: UserWarning: Key __1_1 not found for /mnt/Rdata/OBS_data/asteroid/RiLA600_STX-16803_-_1bin/120LACHESIS_LIGHT_-_2023-10-11_-_RiLA600_STX-16803_-_1bin/120LACHESIS_LIGHT_R_2023-10-11-17-08-24_120sec_RiLA600_STX-16803_16c_1bin.fits, filling with None.\n",
      "  warn(str_keyerror_fill.format(k, str(item)))\n",
      "/home/guitar79/anaconda3/envs/astro_Python_env/lib/python3.11/site-packages/ysfitsutilpy/filemgmt.py:298: UserWarning: Key __2_0 not found for /mnt/Rdata/OBS_data/asteroid/RiLA600_STX-16803_-_1bin/120LACHESIS_LIGHT_-_2023-10-11_-_RiLA600_STX-16803_-_1bin/120LACHESIS_LIGHT_R_2023-10-11-17-08-24_120sec_RiLA600_STX-16803_16c_1bin.fits, filling with None.\n",
      "  warn(str_keyerror_fill.format(k, str(item)))\n",
      "/home/guitar79/anaconda3/envs/astro_Python_env/lib/python3.11/site-packages/ysfitsutilpy/filemgmt.py:298: UserWarning: Key _P_ORDER not found for /mnt/Rdata/OBS_data/asteroid/RiLA600_STX-16803_-_1bin/120LACHESIS_LIGHT_-_2023-10-11_-_RiLA600_STX-16803_-_1bin/120LACHESIS_LIGHT_R_2023-10-11-17-08-24_120sec_RiLA600_STX-16803_16c_1bin.fits, filling with None.\n",
      "  warn(str_keyerror_fill.format(k, str(item)))\n",
      "/home/guitar79/anaconda3/envs/astro_Python_env/lib/python3.11/site-packages/ysfitsutilpy/filemgmt.py:298: UserWarning: Key _P_0_0 not found for /mnt/Rdata/OBS_data/asteroid/RiLA600_STX-16803_-_1bin/120LACHESIS_LIGHT_-_2023-10-11_-_RiLA600_STX-16803_-_1bin/120LACHESIS_LIGHT_R_2023-10-11-17-08-24_120sec_RiLA600_STX-16803_16c_1bin.fits, filling with None.\n",
      "  warn(str_keyerror_fill.format(k, str(item)))\n",
      "/home/guitar79/anaconda3/envs/astro_Python_env/lib/python3.11/site-packages/ysfitsutilpy/filemgmt.py:298: UserWarning: Key _P_0_1 not found for /mnt/Rdata/OBS_data/asteroid/RiLA600_STX-16803_-_1bin/120LACHESIS_LIGHT_-_2023-10-11_-_RiLA600_STX-16803_-_1bin/120LACHESIS_LIGHT_R_2023-10-11-17-08-24_120sec_RiLA600_STX-16803_16c_1bin.fits, filling with None.\n",
      "  warn(str_keyerror_fill.format(k, str(item)))\n",
      "/home/guitar79/anaconda3/envs/astro_Python_env/lib/python3.11/site-packages/ysfitsutilpy/filemgmt.py:298: UserWarning: Key _P_0_2 not found for /mnt/Rdata/OBS_data/asteroid/RiLA600_STX-16803_-_1bin/120LACHESIS_LIGHT_-_2023-10-11_-_RiLA600_STX-16803_-_1bin/120LACHESIS_LIGHT_R_2023-10-11-17-08-24_120sec_RiLA600_STX-16803_16c_1bin.fits, filling with None.\n",
      "  warn(str_keyerror_fill.format(k, str(item)))\n",
      "/home/guitar79/anaconda3/envs/astro_Python_env/lib/python3.11/site-packages/ysfitsutilpy/filemgmt.py:298: UserWarning: Key _P_1_0 not found for /mnt/Rdata/OBS_data/asteroid/RiLA600_STX-16803_-_1bin/120LACHESIS_LIGHT_-_2023-10-11_-_RiLA600_STX-16803_-_1bin/120LACHESIS_LIGHT_R_2023-10-11-17-08-24_120sec_RiLA600_STX-16803_16c_1bin.fits, filling with None.\n",
      "  warn(str_keyerror_fill.format(k, str(item)))\n",
      "/home/guitar79/anaconda3/envs/astro_Python_env/lib/python3.11/site-packages/ysfitsutilpy/filemgmt.py:298: UserWarning: Key _P_1_1 not found for /mnt/Rdata/OBS_data/asteroid/RiLA600_STX-16803_-_1bin/120LACHESIS_LIGHT_-_2023-10-11_-_RiLA600_STX-16803_-_1bin/120LACHESIS_LIGHT_R_2023-10-11-17-08-24_120sec_RiLA600_STX-16803_16c_1bin.fits, filling with None.\n",
      "  warn(str_keyerror_fill.format(k, str(item)))\n",
      "/home/guitar79/anaconda3/envs/astro_Python_env/lib/python3.11/site-packages/ysfitsutilpy/filemgmt.py:298: UserWarning: Key _P_2_0 not found for /mnt/Rdata/OBS_data/asteroid/RiLA600_STX-16803_-_1bin/120LACHESIS_LIGHT_-_2023-10-11_-_RiLA600_STX-16803_-_1bin/120LACHESIS_LIGHT_R_2023-10-11-17-08-24_120sec_RiLA600_STX-16803_16c_1bin.fits, filling with None.\n",
      "  warn(str_keyerror_fill.format(k, str(item)))\n",
      "/home/guitar79/anaconda3/envs/astro_Python_env/lib/python3.11/site-packages/ysfitsutilpy/filemgmt.py:298: UserWarning: Key _ATE not found for /mnt/Rdata/OBS_data/asteroid/RiLA600_STX-16803_-_1bin/120LACHESIS_LIGHT_-_2023-10-11_-_RiLA600_STX-16803_-_1bin/120LACHESIS_LIGHT_R_2023-10-11-17-08-24_120sec_RiLA600_STX-16803_16c_1bin.fits, filling with None.\n",
      "  warn(str_keyerror_fill.format(k, str(item)))\n"
     ]
    },
    {
     "name": "stdout",
     "output_type": "stream",
     "text": [
      "len(summary): 40\n",
      "summary:                                                  file  filesize  SIMPLE  \\\n",
      "0   /mnt/Rdata/OBS_data/asteroid/RiLA600_STX-16803...  33658560    True   \n",
      "1   /mnt/Rdata/OBS_data/asteroid/RiLA600_STX-16803...  33658560    True   \n",
      "2   /mnt/Rdata/OBS_data/asteroid/RiLA600_STX-16803...  33655680    True   \n",
      "3   /mnt/Rdata/OBS_data/asteroid/RiLA600_STX-16803...  33658560    True   \n",
      "4   /mnt/Rdata/OBS_data/asteroid/RiLA600_STX-16803...  33655680    True   \n",
      "5   /mnt/Rdata/OBS_data/asteroid/RiLA600_STX-16803...  33658560    True   \n",
      "6   /mnt/Rdata/OBS_data/asteroid/RiLA600_STX-16803...  33658560    True   \n",
      "7   /mnt/Rdata/OBS_data/asteroid/RiLA600_STX-16803...  33658560    True   \n",
      "8   /mnt/Rdata/OBS_data/asteroid/RiLA600_STX-16803...  33658560    True   \n",
      "9   /mnt/Rdata/OBS_data/asteroid/RiLA600_STX-16803...  33658560    True   \n",
      "10  /mnt/Rdata/OBS_data/asteroid/RiLA600_STX-16803...  33658560    True   \n",
      "11  /mnt/Rdata/OBS_data/asteroid/RiLA600_STX-16803...  33655680    True   \n",
      "12  /mnt/Rdata/OBS_data/asteroid/RiLA600_STX-16803...  33658560    True   \n",
      "13  /mnt/Rdata/OBS_data/asteroid/RiLA600_STX-16803...  33655680    True   \n",
      "14  /mnt/Rdata/OBS_data/asteroid/RiLA600_STX-16803...  33658560    True   \n",
      "15  /mnt/Rdata/OBS_data/asteroid/RiLA600_STX-16803...  33658560    True   \n",
      "16  /mnt/Rdata/OBS_data/asteroid/RiLA600_STX-16803...  33658560    True   \n",
      "17  /mnt/Rdata/OBS_data/asteroid/RiLA600_STX-16803...  33658560    True   \n",
      "18  /mnt/Rdata/OBS_data/asteroid/RiLA600_STX-16803...  33658560    True   \n",
      "19  /mnt/Rdata/OBS_data/asteroid/RiLA600_STX-16803...  33658560    True   \n",
      "20  /mnt/Rdata/OBS_data/asteroid/RiLA600_STX-16803...  33658560    True   \n",
      "21  /mnt/Rdata/OBS_data/asteroid/RiLA600_STX-16803...  33658560    True   \n",
      "22  /mnt/Rdata/OBS_data/asteroid/RiLA600_STX-16803...  33658560    True   \n",
      "23  /mnt/Rdata/OBS_data/asteroid/RiLA600_STX-16803...  33563520    True   \n",
      "24  /mnt/Rdata/OBS_data/asteroid/RiLA600_STX-16803...  33658560    True   \n",
      "25  /mnt/Rdata/OBS_data/asteroid/RiLA600_STX-16803...  33658560    True   \n",
      "26  /mnt/Rdata/OBS_data/asteroid/RiLA600_STX-16803...  33655680    True   \n",
      "27  /mnt/Rdata/OBS_data/asteroid/RiLA600_STX-16803...  33563520    True   \n",
      "28  /mnt/Rdata/OBS_data/asteroid/RiLA600_STX-16803...  33658560    True   \n",
      "29  /mnt/Rdata/OBS_data/asteroid/RiLA600_STX-16803...  33658560    True   \n",
      "30  /mnt/Rdata/OBS_data/asteroid/RiLA600_STX-16803...  33563520    True   \n",
      "31  /mnt/Rdata/OBS_data/asteroid/RiLA600_STX-16803...  33658560    True   \n",
      "32  /mnt/Rdata/OBS_data/asteroid/RiLA600_STX-16803...  33658560    True   \n",
      "33  /mnt/Rdata/OBS_data/asteroid/RiLA600_STX-16803...  33658560    True   \n",
      "34  /mnt/Rdata/OBS_data/asteroid/RiLA600_STX-16803...  33658560    True   \n",
      "35  /mnt/Rdata/OBS_data/asteroid/RiLA600_STX-16803...  33658560    True   \n",
      "36  /mnt/Rdata/OBS_data/asteroid/RiLA600_STX-16803...  33658560    True   \n",
      "37  /mnt/Rdata/OBS_data/asteroid/RiLA600_STX-16803...  33658560    True   \n",
      "38  /mnt/Rdata/OBS_data/asteroid/RiLA600_STX-16803...  33658560    True   \n",
      "39  /mnt/Rdata/OBS_data/asteroid/RiLA600_STX-16803...  33658560    True   \n",
      "\n",
      "    BITPIX  NAXIS  NAXIS1  NAXIS2  EXTEND  BZERO IMAGETYP  ...        AP_1_1  \\\n",
      "0       16      2    4096    4096    True  32768    LIGHT  ...  0.000000e+00   \n",
      "1       16      2    4096    4096    True  32768    LIGHT  ...  2.999152e-06   \n",
      "2       16      2    4096    4096    True  32768    LIGHT  ...           NaN   \n",
      "3       16      2    4096    4096    True  32768    LIGHT  ... -3.391012e-08   \n",
      "4       16      2    4096    4096    True  32768    LIGHT  ...           NaN   \n",
      "5       16      2    4096    4096    True  32768    LIGHT  ... -2.204572e-06   \n",
      "6       16      2    4096    4096    True  32768    LIGHT  ...  0.000000e+00   \n",
      "7       16      2    4096    4096    True  32768    LIGHT  ...  3.543274e-06   \n",
      "8       16      2    4096    4096    True  32768    LIGHT  ...  4.488421e-07   \n",
      "9       16      2    4096    4096    True  32768    LIGHT  ...  0.000000e+00   \n",
      "10      16      2    4096    4096    True  32768    LIGHT  ...  0.000000e+00   \n",
      "11      16      2    4096    4096    True  32768    LIGHT  ...           NaN   \n",
      "12      16      2    4096    4096    True  32768    LIGHT  ... -3.026810e-07   \n",
      "13      16      2    4096    4096    True  32768    LIGHT  ...           NaN   \n",
      "14      16      2    4096    4096    True  32768    LIGHT  ...  8.201382e-08   \n",
      "15      16      2    4096    4096    True  32768    LIGHT  ...  0.000000e+00   \n",
      "16      16      2    4096    4096    True  32768    LIGHT  ...  0.000000e+00   \n",
      "17      16      2    4096    4096    True  32768    LIGHT  ...  0.000000e+00   \n",
      "18      16      2    4096    4096    True  32768    LIGHT  ...  1.192539e-06   \n",
      "19      16      2    4096    4096    True  32768    LIGHT  ... -4.389591e-07   \n",
      "20      16      2    4096    4096    True  32768    LIGHT  ...  0.000000e+00   \n",
      "21      16      2    4096    4096    True  32768    LIGHT  ...  1.420577e-06   \n",
      "22      16      2    4096    4096    True  32768    LIGHT  ...  0.000000e+00   \n",
      "23      16      2    4096    4096    True  32768    LIGHT  ... -1.516636e-06   \n",
      "24      16      2    4096    4096    True  32768    LIGHT  ...  1.993596e-06   \n",
      "25      16      2    4096    4096    True  32768    LIGHT  ... -9.285560e-07   \n",
      "26      16      2    4096    4096    True  32768    LIGHT  ...           NaN   \n",
      "27      16      2    4096    4096    True  32768    LIGHT  ... -1.224347e-06   \n",
      "28      16      2    4096    4096    True  32768    LIGHT  ...  1.457571e-06   \n",
      "29      16      2    4096    4096    True  32768    LIGHT  ... -1.676160e-06   \n",
      "30      16      2    4096    4096    True  32768    LIGHT  ... -1.450789e-06   \n",
      "31      16      2    4096    4096    True  32768    LIGHT  ... -3.667143e-07   \n",
      "32      16      2    4096    4096    True  32768    LIGHT  ...  2.813295e-06   \n",
      "33      16      2    4096    4096    True  32768    LIGHT  ...  1.669085e-06   \n",
      "34      16      2    4096    4096    True  32768    LIGHT  ...  8.960625e-07   \n",
      "35      16      2    4096    4096    True  32768    LIGHT  ...  0.000000e+00   \n",
      "36      16      2    4096    4096    True  32768    LIGHT  ...  0.000000e+00   \n",
      "37      16      2    4096    4096    True  32768    LIGHT  ...  1.331874e-08   \n",
      "38      16      2    4096    4096    True  32768    LIGHT  ...  0.000000e+00   \n",
      "39      16      2    4096    4096    True  32768    LIGHT  ...  4.107870e-07   \n",
      "\n",
      "          AP_2_0 BP_ORDER    BP_0_0        BP_0_1        BP_0_2        BP_1_0  \\\n",
      "0   0.000000e+00      2.0  0.000000  0.000000e+00  0.000000e+00  0.000000e+00   \n",
      "1  -8.733263e-07      2.0  0.001484  2.504097e-06 -5.640899e-09 -2.605783e-06   \n",
      "2            NaN      NaN       NaN           NaN           NaN           NaN   \n",
      "3   3.936836e-07      2.0 -0.000022  8.884296e-07 -1.128461e-07 -1.116009e-06   \n",
      "4            NaN      NaN       NaN           NaN           NaN           NaN   \n",
      "5   2.976905e-06      2.0 -0.009551  1.042564e-04 -1.493037e-06 -1.421116e-04   \n",
      "6   0.000000e+00      2.0  0.000000  0.000000e+00  0.000000e+00  0.000000e+00   \n",
      "7  -5.607778e-08      2.0 -0.028729  1.050707e-04 -3.063766e-06 -3.111302e-05   \n",
      "8   3.453587e-07      2.0  0.001274  4.174442e-06 -7.243714e-07 -3.077619e-06   \n",
      "9   0.000000e+00      2.0  0.000000  0.000000e+00  0.000000e+00  0.000000e+00   \n",
      "10  0.000000e+00      2.0  0.000000  0.000000e+00  0.000000e+00  0.000000e+00   \n",
      "11           NaN      NaN       NaN           NaN           NaN           NaN   \n",
      "12 -5.902170e-07      2.0 -0.006722 -1.246306e-06  1.053762e-06  7.549236e-06   \n",
      "13           NaN      NaN       NaN           NaN           NaN           NaN   \n",
      "14  1.131479e-07      2.0 -0.000148  5.416419e-06 -1.461974e-06 -6.453916e-06   \n",
      "15  0.000000e+00      2.0  0.000000  0.000000e+00  0.000000e+00  0.000000e+00   \n",
      "16  0.000000e+00      2.0  0.000000  0.000000e+00  0.000000e+00  0.000000e+00   \n",
      "17  0.000000e+00      2.0  0.000000  0.000000e+00  0.000000e+00  0.000000e+00   \n",
      "18 -3.490446e-07      2.0  0.000038  6.812455e-06 -1.438369e-06 -7.800227e-06   \n",
      "19 -3.332774e-07      2.0  0.002208  3.804294e-06  8.233310e-07  1.675694e-06   \n",
      "20  0.000000e+00      2.0  0.000000  0.000000e+00  0.000000e+00  0.000000e+00   \n",
      "21  1.724078e-07      2.0  0.054852  1.750852e-04 -5.842045e-06 -4.199377e-05   \n",
      "22  0.000000e+00      2.0  0.000000  0.000000e+00  0.000000e+00  0.000000e+00   \n",
      "23  5.968819e-07      2.0  0.006337  1.405237e-05 -8.108858e-07 -1.382562e-05   \n",
      "24  1.618655e-07      2.0 -0.003475  2.969774e-06 -1.016956e-06  1.371999e-06   \n",
      "25  8.894508e-07      2.0 -0.002970  1.453231e-06  1.021426e-06  1.983236e-06   \n",
      "26           NaN      NaN       NaN           NaN           NaN           NaN   \n",
      "27  5.441214e-07      2.0  0.001151  1.216205e-05 -8.628768e-07 -1.126126e-05   \n",
      "28 -6.962566e-07      2.0  0.002707  1.346533e-05 -1.884931e-06 -8.419230e-06   \n",
      "29 -6.072819e-07      2.0 -0.002234 -2.736759e-06 -2.512016e-08 -2.584048e-06   \n",
      "30  9.012541e-07      2.0  0.002309  2.120916e-05 -1.203696e-06 -1.887798e-05   \n",
      "31  2.373224e-07      2.0  0.005139  7.753008e-06  1.482897e-06  3.839537e-06   \n",
      "32  2.432842e-07      2.0 -0.142610  3.867470e-04  8.376429e-06 -7.086801e-06   \n",
      "33  3.647938e-07      2.0 -0.001030  1.450557e-05  1.509625e-06 -4.172162e-06   \n",
      "34 -1.501334e-07      2.0 -0.012554  6.709758e-05  3.611520e-06 -1.537897e-05   \n",
      "35  0.000000e+00      2.0  0.000000  0.000000e+00  0.000000e+00  0.000000e+00   \n",
      "36  0.000000e+00      2.0  0.000000  0.000000e+00  0.000000e+00  0.000000e+00   \n",
      "37 -4.975047e-08      2.0 -0.000846  9.218884e-07  4.279559e-07  2.651502e-07   \n",
      "38  0.000000e+00      2.0  0.000000  0.000000e+00  0.000000e+00  0.000000e+00   \n",
      "39 -1.680904e-07      2.0 -0.028836 -1.286829e-05 -2.780520e-06  5.554124e-05   \n",
      "\n",
      "          BP_1_1        BP_2_0                 _ATE  \n",
      "0   0.000000e+00  0.000000e+00  2023-10-19T00:33:21  \n",
      "1   1.615477e-07  4.455964e-07  2023-10-19T00:33:41  \n",
      "2            NaN           NaN  2023-10-19T00:33:58  \n",
      "3   6.016938e-07 -2.186757e-07  2023-10-19T00:34:23  \n",
      "4            NaN           NaN  2023-10-19T00:34:43  \n",
      "5   3.857732e-06 -3.454951e-06  2023-10-19T00:35:03  \n",
      "6   0.000000e+00  0.000000e+00  2023-10-19T00:35:22  \n",
      "7   3.063332e-06 -3.220750e-08  2023-10-19T00:35:57  \n",
      "8   8.348188e-07 -4.745711e-07  2023-10-19T00:36:14  \n",
      "9   0.000000e+00  0.000000e+00  2023-10-19T00:36:46  \n",
      "10  0.000000e+00  0.000000e+00  2023-10-19T00:37:09  \n",
      "11           NaN           NaN  2023-10-19T00:37:28  \n",
      "12  1.063071e-06 -1.749963e-06  2023-10-19T00:37:56  \n",
      "13           NaN           NaN  2023-10-19T00:38:15  \n",
      "14  6.389984e-07  4.501509e-07  2023-10-19T00:38:33  \n",
      "15  0.000000e+00  0.000000e+00  2023-10-19T00:38:54  \n",
      "16  0.000000e+00  0.000000e+00  2023-10-19T00:39:13  \n",
      "17  0.000000e+00  0.000000e+00  2023-10-19T00:39:34  \n",
      "18  4.732817e-07  6.242055e-07  2023-10-19T00:39:53  \n",
      "19  5.399243e-07  3.151208e-07  2023-10-19T00:40:12  \n",
      "20  0.000000e+00  0.000000e+00  2023-10-19T00:40:35  \n",
      "21  1.949936e-06  6.906100e-08  2023-10-19T00:40:53  \n",
      "22  0.000000e+00  0.000000e+00  2023-10-19T00:41:11  \n",
      "23  1.183737e-06 -9.531402e-07                 None  \n",
      "24 -3.619243e-07  3.706191e-07  2023-10-19T00:42:09  \n",
      "25  7.498682e-07 -2.725200e-07  2023-10-19T00:42:32  \n",
      "26           NaN           NaN  2023-10-19T00:42:50  \n",
      "27  1.071985e-06 -7.378293e-07                 None  \n",
      "28  6.516746e-07  7.071489e-07  2023-10-19T00:43:38  \n",
      "29  5.852648e-07  4.654317e-07  2023-10-19T00:43:58  \n",
      "30  1.294924e-06 -8.563559e-07                 None  \n",
      "31  7.169759e-07 -1.192015e-07  2023-10-19T00:44:42  \n",
      "32 -2.354539e-06 -1.353371e-06  2023-10-19T00:45:02  \n",
      "33 -7.326585e-07 -2.343654e-07  2023-10-19T00:45:22  \n",
      "34 -9.880230e-07 -1.032832e-07  2023-10-19T00:45:43  \n",
      "35  0.000000e+00  0.000000e+00  2023-10-19T00:46:09  \n",
      "36  0.000000e+00  0.000000e+00  2023-10-19T00:46:26  \n",
      "37  8.841989e-08  3.453029e-07  2023-10-19T00:46:51  \n",
      "38  0.000000e+00  0.000000e+00  2023-10-19T00:47:14  \n",
      "39 -3.882422e-06  4.443760e-06  2023-10-19T00:47:39  \n",
      "\n",
      "[40 rows x 132 columns]\n"
     ]
    },
    {
     "name": "stderr",
     "output_type": "stream",
     "text": [
      "WARNING: FITSFixedWarning: 'datfix' made the change 'Set MJD-OBS to 60228.658027 from DATE-OBS'. [astropy.wcs.wcs]\n",
      "WARNING: FITSFixedWarning: 'datfix' made the change 'Set MJD-OBS to 60219.692326 from DATE-OBS'. [astropy.wcs.wcs]\n",
      "WARNING: FITSFixedWarning: 'datfix' made the change 'Set MJD-OBS to 60181.428978 from DATE-OBS'. [astropy.wcs.wcs]\n"
     ]
    },
    {
     "name": "stdout",
     "output_type": "stream",
     "text": [
      "HISTORY  [yfu.darkcor] Dark subtracted (DARKFRM = /mnt/Rdata/OBS_data/asteroid/RiLA600_STX-16803_-_1bin/120LACHESIS_LIGHT_-_2023-10-11_-_RiLA600_STX-16803_-_1bin/master_files_ys/master_dark_120sec.fits)\n",
      "HISTORY  ..................................(dt = 0.036 s) 2023-11-01T13:25:05.126\n",
      "HISTORY  [yfu.flatcor] Flat pixels with `value < flat_mask = 0` are replaced by `flat_fill = 1`.\n",
      "HISTORY  .................................................2023-11-01T13:25:05.158\n",
      "HISTORY  [yfu.flatcor] Flat corrected (FLATFRM = /mnt/Rdata/OBS_data/asteroid/RiLA600_STX-16803_-_1bin/120LACHESIS_LIGHT_-_2023-10-11_-_RiLA600_STX-16803_-_1bin/master_files_ys/master_flat_R_norm.fits)\n",
      "HISTORY  ..................................(dt = 0.054 s) 2023-11-01T13:25:05.184\n",
      "Writing FITS to /mnt/Rdata/OBS_data/asteroid/RiLA600_STX-16803_-_1bin/120LACHESIS_LIGHT_-_2023-10-11_-_RiLA600_STX-16803_-_1bin/reduced/120LACHESIS_LIGHT_R_2023-10-11-15-47-33_120sec_RiLA600_STX-16803_17c_1bin.fit... Saved.\n"
     ]
    },
    {
     "name": "stderr",
     "output_type": "stream",
     "text": [
      "WARNING: FITSFixedWarning: 'datfix' made the change 'Set MJD-OBS to 60228.659552 from DATE-OBS'. [astropy.wcs.wcs]\n",
      "WARNING: FITSFixedWarning: 'datfix' made the change 'Set MJD-OBS to 60235.667566 from DATE-OBS'. [astropy.wcs.wcs]\n",
      "WARNING: FITSFixedWarning: 'datfix' made the change 'Set MJD-OBS to 60181.428978 from DATE-OBS'. [astropy.wcs.wcs]\n"
     ]
    },
    {
     "name": "stdout",
     "output_type": "stream",
     "text": [
      "HISTORY  [yfu.darkcor] Dark subtracted (DARKFRM = /mnt/Rdata/OBS_data/asteroid/RiLA600_STX-16803_-_1bin/120LACHESIS_LIGHT_-_2023-10-11_-_RiLA600_STX-16803_-_1bin/master_files_ys/master_dark_180sec.fits)\n",
      "HISTORY  ..................................(dt = 0.038 s) 2023-11-01T13:25:06.419\n",
      "HISTORY  [yfu.flatcor] Flat pixels with `value < flat_mask = 0` are replaced by `flat_fill = 1`.\n",
      "HISTORY  .................................................2023-11-01T13:25:06.442\n",
      "HISTORY  [yfu.flatcor] Flat corrected (FLATFRM = /mnt/Rdata/OBS_data/asteroid/RiLA600_STX-16803_-_1bin/120LACHESIS_LIGHT_-_2023-10-11_-_RiLA600_STX-16803_-_1bin/master_files_ys/master_flat_R_norm.fits)\n",
      "HISTORY  ..................................(dt = 0.042 s) 2023-11-01T13:25:06.463\n",
      "Writing FITS to /mnt/Rdata/OBS_data/asteroid/RiLA600_STX-16803_-_1bin/120LACHESIS_LIGHT_-_2023-10-11_-_RiLA600_STX-16803_-_1bin/reduced/120LACHESIS_LIGHT_R_2023-10-11-15-49-45_180sec_RiLA600_STX-16803_17c_1bin.fit... Saved.\n"
     ]
    },
    {
     "name": "stderr",
     "output_type": "stream",
     "text": [
      "WARNING: FITSFixedWarning: 'datfix' made the change 'Set MJD-OBS to 60228.661771 from DATE-OBS'. [astropy.wcs.wcs]\n",
      "WARNING: FITSFixedWarning: 'datfix' made the change 'Set MJD-OBS to 60219.692326 from DATE-OBS'. [astropy.wcs.wcs]\n",
      "WARNING: FITSFixedWarning: 'datfix' made the change 'Set MJD-OBS to 60181.428978 from DATE-OBS'. [astropy.wcs.wcs]\n"
     ]
    },
    {
     "name": "stdout",
     "output_type": "stream",
     "text": [
      "HISTORY  [yfu.darkcor] Dark subtracted (DARKFRM = /mnt/Rdata/OBS_data/asteroid/RiLA600_STX-16803_-_1bin/120LACHESIS_LIGHT_-_2023-10-11_-_RiLA600_STX-16803_-_1bin/master_files_ys/master_dark_120sec.fits)\n",
      "HISTORY  ..................................(dt = 0.035 s) 2023-11-01T13:25:07.189\n",
      "HISTORY  [yfu.flatcor] Flat pixels with `value < flat_mask = 0` are replaced by `flat_fill = 1`.\n",
      "HISTORY  .................................................2023-11-01T13:25:07.212\n",
      "HISTORY  [yfu.flatcor] Flat corrected (FLATFRM = /mnt/Rdata/OBS_data/asteroid/RiLA600_STX-16803_-_1bin/120LACHESIS_LIGHT_-_2023-10-11_-_RiLA600_STX-16803_-_1bin/master_files_ys/master_flat_R_norm.fits)\n",
      "HISTORY  ..................................(dt = 0.043 s) 2023-11-01T13:25:07.234\n",
      "Writing FITS to /mnt/Rdata/OBS_data/asteroid/RiLA600_STX-16803_-_1bin/120LACHESIS_LIGHT_-_2023-10-11_-_RiLA600_STX-16803_-_1bin/reduced/120LACHESIS_LIGHT_R_2023-10-11-15-52-56_120sec_RiLA600_STX-16803_16c_1bin.fit... Saved.\n"
     ]
    },
    {
     "name": "stderr",
     "output_type": "stream",
     "text": [
      "WARNING: FITSFixedWarning: 'datfix' made the change 'Set MJD-OBS to 60228.663295 from DATE-OBS'. [astropy.wcs.wcs]\n",
      "WARNING: FITSFixedWarning: 'datfix' made the change 'Set MJD-OBS to 60235.667566 from DATE-OBS'. [astropy.wcs.wcs]\n",
      "WARNING: FITSFixedWarning: 'datfix' made the change 'Set MJD-OBS to 60181.428978 from DATE-OBS'. [astropy.wcs.wcs]\n"
     ]
    },
    {
     "name": "stdout",
     "output_type": "stream",
     "text": [
      "HISTORY  [yfu.darkcor] Dark subtracted (DARKFRM = /mnt/Rdata/OBS_data/asteroid/RiLA600_STX-16803_-_1bin/120LACHESIS_LIGHT_-_2023-10-11_-_RiLA600_STX-16803_-_1bin/master_files_ys/master_dark_180sec.fits)\n",
      "HISTORY  ..................................(dt = 0.038 s) 2023-11-01T13:25:08.523\n",
      "HISTORY  [yfu.flatcor] Flat pixels with `value < flat_mask = 0` are replaced by `flat_fill = 1`.\n",
      "HISTORY  .................................................2023-11-01T13:25:08.548\n",
      "HISTORY  [yfu.flatcor] Flat corrected (FLATFRM = /mnt/Rdata/OBS_data/asteroid/RiLA600_STX-16803_-_1bin/120LACHESIS_LIGHT_-_2023-10-11_-_RiLA600_STX-16803_-_1bin/master_files_ys/master_flat_R_norm.fits)\n",
      "HISTORY  ..................................(dt = 0.045 s) 2023-11-01T13:25:08.571\n",
      "Writing FITS to /mnt/Rdata/OBS_data/asteroid/RiLA600_STX-16803_-_1bin/120LACHESIS_LIGHT_-_2023-10-11_-_RiLA600_STX-16803_-_1bin/reduced/120LACHESIS_LIGHT_R_2023-10-11-15-55-08_180sec_RiLA600_STX-16803_16c_1bin.fit... Saved.\n"
     ]
    },
    {
     "name": "stderr",
     "output_type": "stream",
     "text": [
      "WARNING: FITSFixedWarning: 'datfix' made the change 'Set MJD-OBS to 60228.665515 from DATE-OBS'. [astropy.wcs.wcs]\n",
      "WARNING: FITSFixedWarning: 'datfix' made the change 'Set MJD-OBS to 60219.692326 from DATE-OBS'. [astropy.wcs.wcs]\n",
      "WARNING: FITSFixedWarning: 'datfix' made the change 'Set MJD-OBS to 60181.428978 from DATE-OBS'. [astropy.wcs.wcs]\n"
     ]
    },
    {
     "name": "stdout",
     "output_type": "stream",
     "text": [
      "HISTORY  [yfu.darkcor] Dark subtracted (DARKFRM = /mnt/Rdata/OBS_data/asteroid/RiLA600_STX-16803_-_1bin/120LACHESIS_LIGHT_-_2023-10-11_-_RiLA600_STX-16803_-_1bin/master_files_ys/master_dark_120sec.fits)\n",
      "HISTORY  ..................................(dt = 0.037 s) 2023-11-01T13:25:09.527\n",
      "HISTORY  [yfu.flatcor] Flat pixels with `value < flat_mask = 0` are replaced by `flat_fill = 1`.\n",
      "HISTORY  .................................................2023-11-01T13:25:09.554\n",
      "HISTORY  [yfu.flatcor] Flat corrected (FLATFRM = /mnt/Rdata/OBS_data/asteroid/RiLA600_STX-16803_-_1bin/120LACHESIS_LIGHT_-_2023-10-11_-_RiLA600_STX-16803_-_1bin/master_files_ys/master_flat_R_norm.fits)\n",
      "HISTORY  ..................................(dt = 0.046 s) 2023-11-01T13:25:09.577\n",
      "Writing FITS to /mnt/Rdata/OBS_data/asteroid/RiLA600_STX-16803_-_1bin/120LACHESIS_LIGHT_-_2023-10-11_-_RiLA600_STX-16803_-_1bin/reduced/120LACHESIS_LIGHT_R_2023-10-11-15-58-20_120sec_RiLA600_STX-16803_16c_1bin.fit... Saved.\n"
     ]
    },
    {
     "name": "stderr",
     "output_type": "stream",
     "text": [
      "WARNING: FITSFixedWarning: 'datfix' made the change 'Set MJD-OBS to 60228.667038 from DATE-OBS'. [astropy.wcs.wcs]\n",
      "WARNING: FITSFixedWarning: 'datfix' made the change 'Set MJD-OBS to 60235.667566 from DATE-OBS'. [astropy.wcs.wcs]\n",
      "WARNING: FITSFixedWarning: 'datfix' made the change 'Set MJD-OBS to 60181.428978 from DATE-OBS'. [astropy.wcs.wcs]\n"
     ]
    },
    {
     "name": "stdout",
     "output_type": "stream",
     "text": [
      "HISTORY  [yfu.darkcor] Dark subtracted (DARKFRM = /mnt/Rdata/OBS_data/asteroid/RiLA600_STX-16803_-_1bin/120LACHESIS_LIGHT_-_2023-10-11_-_RiLA600_STX-16803_-_1bin/master_files_ys/master_dark_180sec.fits)\n",
      "HISTORY  ..................................(dt = 0.037 s) 2023-11-01T13:25:10.350\n",
      "HISTORY  [yfu.flatcor] Flat pixels with `value < flat_mask = 0` are replaced by `flat_fill = 1`.\n",
      "HISTORY  .................................................2023-11-01T13:25:10.379\n",
      "HISTORY  [yfu.flatcor] Flat corrected (FLATFRM = /mnt/Rdata/OBS_data/asteroid/RiLA600_STX-16803_-_1bin/120LACHESIS_LIGHT_-_2023-10-11_-_RiLA600_STX-16803_-_1bin/master_files_ys/master_flat_R_norm.fits)\n",
      "HISTORY  ..................................(dt = 0.049 s) 2023-11-01T13:25:10.401\n",
      "Writing FITS to /mnt/Rdata/OBS_data/asteroid/RiLA600_STX-16803_-_1bin/120LACHESIS_LIGHT_-_2023-10-11_-_RiLA600_STX-16803_-_1bin/reduced/120LACHESIS_LIGHT_R_2023-10-11-16-00-32_180sec_RiLA600_STX-16803_16c_1bin.fit... Saved.\n"
     ]
    },
    {
     "name": "stderr",
     "output_type": "stream",
     "text": [
      "WARNING: FITSFixedWarning: 'datfix' made the change 'Set MJD-OBS to 60228.669257 from DATE-OBS'. [astropy.wcs.wcs]\n",
      "WARNING: FITSFixedWarning: 'datfix' made the change 'Set MJD-OBS to 60219.692326 from DATE-OBS'. [astropy.wcs.wcs]\n",
      "WARNING: FITSFixedWarning: 'datfix' made the change 'Set MJD-OBS to 60181.428978 from DATE-OBS'. [astropy.wcs.wcs]\n"
     ]
    },
    {
     "name": "stdout",
     "output_type": "stream",
     "text": [
      "HISTORY  [yfu.darkcor] Dark subtracted (DARKFRM = /mnt/Rdata/OBS_data/asteroid/RiLA600_STX-16803_-_1bin/120LACHESIS_LIGHT_-_2023-10-11_-_RiLA600_STX-16803_-_1bin/master_files_ys/master_dark_120sec.fits)\n",
      "HISTORY  ..................................(dt = 0.042 s) 2023-11-01T13:25:11.219\n",
      "HISTORY  [yfu.flatcor] Flat pixels with `value < flat_mask = 0` are replaced by `flat_fill = 1`.\n",
      "HISTORY  .................................................2023-11-01T13:25:11.245\n",
      "HISTORY  [yfu.flatcor] Flat corrected (FLATFRM = /mnt/Rdata/OBS_data/asteroid/RiLA600_STX-16803_-_1bin/120LACHESIS_LIGHT_-_2023-10-11_-_RiLA600_STX-16803_-_1bin/master_files_ys/master_flat_R_norm.fits)\n",
      "HISTORY  ..................................(dt = 0.050 s) 2023-11-01T13:25:11.271\n",
      "Writing FITS to /mnt/Rdata/OBS_data/asteroid/RiLA600_STX-16803_-_1bin/120LACHESIS_LIGHT_-_2023-10-11_-_RiLA600_STX-16803_-_1bin/reduced/120LACHESIS_LIGHT_R_2023-10-11-16-03-43_120sec_RiLA600_STX-16803_16c_1bin.fit... Saved.\n"
     ]
    },
    {
     "name": "stderr",
     "output_type": "stream",
     "text": [
      "WARNING: FITSFixedWarning: 'datfix' made the change 'Set MJD-OBS to 60228.670781 from DATE-OBS'. [astropy.wcs.wcs]\n",
      "WARNING: FITSFixedWarning: 'datfix' made the change 'Set MJD-OBS to 60235.667566 from DATE-OBS'. [astropy.wcs.wcs]\n",
      "WARNING: FITSFixedWarning: 'datfix' made the change 'Set MJD-OBS to 60181.428978 from DATE-OBS'. [astropy.wcs.wcs]\n"
     ]
    },
    {
     "name": "stdout",
     "output_type": "stream",
     "text": [
      "HISTORY  [yfu.darkcor] Dark subtracted (DARKFRM = /mnt/Rdata/OBS_data/asteroid/RiLA600_STX-16803_-_1bin/120LACHESIS_LIGHT_-_2023-10-11_-_RiLA600_STX-16803_-_1bin/master_files_ys/master_dark_180sec.fits)\n",
      "HISTORY  ..................................(dt = 0.034 s) 2023-11-01T13:25:12.221\n",
      "HISTORY  [yfu.flatcor] Flat pixels with `value < flat_mask = 0` are replaced by `flat_fill = 1`.\n",
      "HISTORY  .................................................2023-11-01T13:25:12.244\n",
      "HISTORY  [yfu.flatcor] Flat corrected (FLATFRM = /mnt/Rdata/OBS_data/asteroid/RiLA600_STX-16803_-_1bin/120LACHESIS_LIGHT_-_2023-10-11_-_RiLA600_STX-16803_-_1bin/master_files_ys/master_flat_R_norm.fits)\n",
      "HISTORY  ..................................(dt = 0.041 s) 2023-11-01T13:25:12.265\n",
      "Writing FITS to /mnt/Rdata/OBS_data/asteroid/RiLA600_STX-16803_-_1bin/120LACHESIS_LIGHT_-_2023-10-11_-_RiLA600_STX-16803_-_1bin/reduced/120LACHESIS_LIGHT_R_2023-10-11-16-05-55_180sec_RiLA600_STX-16803_16c_1bin.fit... Saved.\n"
     ]
    },
    {
     "name": "stderr",
     "output_type": "stream",
     "text": [
      "WARNING: FITSFixedWarning: 'datfix' made the change 'Set MJD-OBS to 60228.673001 from DATE-OBS'. [astropy.wcs.wcs]\n",
      "WARNING: FITSFixedWarning: 'datfix' made the change 'Set MJD-OBS to 60219.692326 from DATE-OBS'. [astropy.wcs.wcs]\n",
      "WARNING: FITSFixedWarning: 'datfix' made the change 'Set MJD-OBS to 60181.428978 from DATE-OBS'. [astropy.wcs.wcs]\n"
     ]
    },
    {
     "name": "stdout",
     "output_type": "stream",
     "text": [
      "HISTORY  [yfu.darkcor] Dark subtracted (DARKFRM = /mnt/Rdata/OBS_data/asteroid/RiLA600_STX-16803_-_1bin/120LACHESIS_LIGHT_-_2023-10-11_-_RiLA600_STX-16803_-_1bin/master_files_ys/master_dark_120sec.fits)\n",
      "HISTORY  ..................................(dt = 0.036 s) 2023-11-01T13:25:13.519\n",
      "HISTORY  [yfu.flatcor] Flat pixels with `value < flat_mask = 0` are replaced by `flat_fill = 1`.\n",
      "HISTORY  .................................................2023-11-01T13:25:13.544\n",
      "HISTORY  [yfu.flatcor] Flat corrected (FLATFRM = /mnt/Rdata/OBS_data/asteroid/RiLA600_STX-16803_-_1bin/120LACHESIS_LIGHT_-_2023-10-11_-_RiLA600_STX-16803_-_1bin/master_files_ys/master_flat_R_norm.fits)\n",
      "HISTORY  ..................................(dt = 0.042 s) 2023-11-01T13:25:13.565\n",
      "Writing FITS to /mnt/Rdata/OBS_data/asteroid/RiLA600_STX-16803_-_1bin/120LACHESIS_LIGHT_-_2023-10-11_-_RiLA600_STX-16803_-_1bin/reduced/120LACHESIS_LIGHT_R_2023-10-11-16-09-07_120sec_RiLA600_STX-16803_16c_1bin.fit... Saved.\n"
     ]
    },
    {
     "name": "stderr",
     "output_type": "stream",
     "text": [
      "WARNING: FITSFixedWarning: 'datfix' made the change 'Set MJD-OBS to 60228.674524 from DATE-OBS'. [astropy.wcs.wcs]\n",
      "WARNING: FITSFixedWarning: 'datfix' made the change 'Set MJD-OBS to 60235.667566 from DATE-OBS'. [astropy.wcs.wcs]\n",
      "WARNING: FITSFixedWarning: 'datfix' made the change 'Set MJD-OBS to 60181.428978 from DATE-OBS'. [astropy.wcs.wcs]\n"
     ]
    },
    {
     "name": "stdout",
     "output_type": "stream",
     "text": [
      "HISTORY  [yfu.darkcor] Dark subtracted (DARKFRM = /mnt/Rdata/OBS_data/asteroid/RiLA600_STX-16803_-_1bin/120LACHESIS_LIGHT_-_2023-10-11_-_RiLA600_STX-16803_-_1bin/master_files_ys/master_dark_180sec.fits)\n",
      "HISTORY  ..................................(dt = 0.036 s) 2023-11-01T13:25:14.418\n",
      "HISTORY  [yfu.flatcor] Flat pixels with `value < flat_mask = 0` are replaced by `flat_fill = 1`.\n",
      "HISTORY  .................................................2023-11-01T13:25:14.442\n",
      "HISTORY  [yfu.flatcor] Flat corrected (FLATFRM = /mnt/Rdata/OBS_data/asteroid/RiLA600_STX-16803_-_1bin/120LACHESIS_LIGHT_-_2023-10-11_-_RiLA600_STX-16803_-_1bin/master_files_ys/master_flat_R_norm.fits)\n",
      "HISTORY  ..................................(dt = 0.044 s) 2023-11-01T13:25:14.465\n",
      "Writing FITS to /mnt/Rdata/OBS_data/asteroid/RiLA600_STX-16803_-_1bin/120LACHESIS_LIGHT_-_2023-10-11_-_RiLA600_STX-16803_-_1bin/reduced/120LACHESIS_LIGHT_R_2023-10-11-16-11-18_180sec_RiLA600_STX-16803_16c_1bin.fit... Saved.\n"
     ]
    },
    {
     "name": "stderr",
     "output_type": "stream",
     "text": [
      "WARNING: FITSFixedWarning: 'datfix' made the change 'Set MJD-OBS to 60228.676742 from DATE-OBS'. [astropy.wcs.wcs]\n",
      "WARNING: FITSFixedWarning: 'datfix' made the change 'Set MJD-OBS to 60219.692326 from DATE-OBS'. [astropy.wcs.wcs]\n",
      "WARNING: FITSFixedWarning: 'datfix' made the change 'Set MJD-OBS to 60181.428978 from DATE-OBS'. [astropy.wcs.wcs]\n"
     ]
    },
    {
     "name": "stdout",
     "output_type": "stream",
     "text": [
      "HISTORY  [yfu.darkcor] Dark subtracted (DARKFRM = /mnt/Rdata/OBS_data/asteroid/RiLA600_STX-16803_-_1bin/120LACHESIS_LIGHT_-_2023-10-11_-_RiLA600_STX-16803_-_1bin/master_files_ys/master_dark_120sec.fits)\n",
      "HISTORY  ..................................(dt = 0.038 s) 2023-11-01T13:25:16.020\n",
      "HISTORY  [yfu.flatcor] Flat pixels with `value < flat_mask = 0` are replaced by `flat_fill = 1`.\n",
      "HISTORY  .................................................2023-11-01T13:25:16.047\n",
      "HISTORY  [yfu.flatcor] Flat corrected (FLATFRM = /mnt/Rdata/OBS_data/asteroid/RiLA600_STX-16803_-_1bin/120LACHESIS_LIGHT_-_2023-10-11_-_RiLA600_STX-16803_-_1bin/master_files_ys/master_flat_R_norm.fits)\n",
      "HISTORY  ..................................(dt = 0.048 s) 2023-11-01T13:25:16.073\n",
      "Writing FITS to /mnt/Rdata/OBS_data/asteroid/RiLA600_STX-16803_-_1bin/120LACHESIS_LIGHT_-_2023-10-11_-_RiLA600_STX-16803_-_1bin/reduced/120LACHESIS_LIGHT_R_2023-10-11-16-14-30_120sec_RiLA600_STX-16803_16c_1bin.fit... Saved.\n"
     ]
    },
    {
     "name": "stderr",
     "output_type": "stream",
     "text": [
      "WARNING: FITSFixedWarning: 'datfix' made the change 'Set MJD-OBS to 60228.678266 from DATE-OBS'. [astropy.wcs.wcs]\n",
      "WARNING: FITSFixedWarning: 'datfix' made the change 'Set MJD-OBS to 60235.667566 from DATE-OBS'. [astropy.wcs.wcs]\n",
      "WARNING: FITSFixedWarning: 'datfix' made the change 'Set MJD-OBS to 60181.428978 from DATE-OBS'. [astropy.wcs.wcs]\n"
     ]
    },
    {
     "name": "stdout",
     "output_type": "stream",
     "text": [
      "HISTORY  [yfu.darkcor] Dark subtracted (DARKFRM = /mnt/Rdata/OBS_data/asteroid/RiLA600_STX-16803_-_1bin/120LACHESIS_LIGHT_-_2023-10-11_-_RiLA600_STX-16803_-_1bin/master_files_ys/master_dark_180sec.fits)\n",
      "HISTORY  ..................................(dt = 0.036 s) 2023-11-01T13:25:16.774\n",
      "HISTORY  [yfu.flatcor] Flat pixels with `value < flat_mask = 0` are replaced by `flat_fill = 1`.\n",
      "HISTORY  .................................................2023-11-01T13:25:16.799\n",
      "HISTORY  [yfu.flatcor] Flat corrected (FLATFRM = /mnt/Rdata/OBS_data/asteroid/RiLA600_STX-16803_-_1bin/120LACHESIS_LIGHT_-_2023-10-11_-_RiLA600_STX-16803_-_1bin/master_files_ys/master_flat_R_norm.fits)\n",
      "HISTORY  ..................................(dt = 0.043 s) 2023-11-01T13:25:16.820\n",
      "Writing FITS to /mnt/Rdata/OBS_data/asteroid/RiLA600_STX-16803_-_1bin/120LACHESIS_LIGHT_-_2023-10-11_-_RiLA600_STX-16803_-_1bin/reduced/120LACHESIS_LIGHT_R_2023-10-11-16-16-42_180sec_RiLA600_STX-16803_16c_1bin.fit... Saved.\n"
     ]
    },
    {
     "name": "stderr",
     "output_type": "stream",
     "text": [
      "WARNING: FITSFixedWarning: 'datfix' made the change 'Set MJD-OBS to 60228.680485 from DATE-OBS'. [astropy.wcs.wcs]\n",
      "WARNING: FITSFixedWarning: 'datfix' made the change 'Set MJD-OBS to 60219.692326 from DATE-OBS'. [astropy.wcs.wcs]\n",
      "WARNING: FITSFixedWarning: 'datfix' made the change 'Set MJD-OBS to 60181.428978 from DATE-OBS'. [astropy.wcs.wcs]\n"
     ]
    },
    {
     "name": "stdout",
     "output_type": "stream",
     "text": [
      "HISTORY  [yfu.darkcor] Dark subtracted (DARKFRM = /mnt/Rdata/OBS_data/asteroid/RiLA600_STX-16803_-_1bin/120LACHESIS_LIGHT_-_2023-10-11_-_RiLA600_STX-16803_-_1bin/master_files_ys/master_dark_120sec.fits)\n",
      "HISTORY  ..................................(dt = 0.036 s) 2023-11-01T13:25:17.668\n",
      "HISTORY  [yfu.flatcor] Flat pixels with `value < flat_mask = 0` are replaced by `flat_fill = 1`.\n",
      "HISTORY  .................................................2023-11-01T13:25:17.695\n",
      "HISTORY  [yfu.flatcor] Flat corrected (FLATFRM = /mnt/Rdata/OBS_data/asteroid/RiLA600_STX-16803_-_1bin/120LACHESIS_LIGHT_-_2023-10-11_-_RiLA600_STX-16803_-_1bin/master_files_ys/master_flat_R_norm.fits)\n",
      "HISTORY  ..................................(dt = 0.044 s) 2023-11-01T13:25:17.716\n",
      "Writing FITS to /mnt/Rdata/OBS_data/asteroid/RiLA600_STX-16803_-_1bin/120LACHESIS_LIGHT_-_2023-10-11_-_RiLA600_STX-16803_-_1bin/reduced/120LACHESIS_LIGHT_R_2023-10-11-16-19-53_120sec_RiLA600_STX-16803_16c_1bin.fit... Saved.\n"
     ]
    },
    {
     "name": "stderr",
     "output_type": "stream",
     "text": [
      "WARNING: FITSFixedWarning: 'datfix' made the change 'Set MJD-OBS to 60228.682009 from DATE-OBS'. [astropy.wcs.wcs]\n",
      "WARNING: FITSFixedWarning: 'datfix' made the change 'Set MJD-OBS to 60235.667566 from DATE-OBS'. [astropy.wcs.wcs]\n",
      "WARNING: FITSFixedWarning: 'datfix' made the change 'Set MJD-OBS to 60181.428978 from DATE-OBS'. [astropy.wcs.wcs]\n"
     ]
    },
    {
     "name": "stdout",
     "output_type": "stream",
     "text": [
      "HISTORY  [yfu.darkcor] Dark subtracted (DARKFRM = /mnt/Rdata/OBS_data/asteroid/RiLA600_STX-16803_-_1bin/120LACHESIS_LIGHT_-_2023-10-11_-_RiLA600_STX-16803_-_1bin/master_files_ys/master_dark_180sec.fits)\n",
      "HISTORY  ..................................(dt = 0.038 s) 2023-11-01T13:25:18.575\n",
      "HISTORY  [yfu.flatcor] Flat pixels with `value < flat_mask = 0` are replaced by `flat_fill = 1`.\n",
      "HISTORY  .................................................2023-11-01T13:25:18.601\n",
      "HISTORY  [yfu.flatcor] Flat corrected (FLATFRM = /mnt/Rdata/OBS_data/asteroid/RiLA600_STX-16803_-_1bin/120LACHESIS_LIGHT_-_2023-10-11_-_RiLA600_STX-16803_-_1bin/master_files_ys/master_flat_R_norm.fits)\n",
      "HISTORY  ..................................(dt = 0.045 s) 2023-11-01T13:25:18.623\n",
      "Writing FITS to /mnt/Rdata/OBS_data/asteroid/RiLA600_STX-16803_-_1bin/120LACHESIS_LIGHT_-_2023-10-11_-_RiLA600_STX-16803_-_1bin/reduced/120LACHESIS_LIGHT_R_2023-10-11-16-22-05_180sec_RiLA600_STX-16803_16c_1bin.fit... Saved.\n"
     ]
    },
    {
     "name": "stderr",
     "output_type": "stream",
     "text": [
      "WARNING: FITSFixedWarning: 'datfix' made the change 'Set MJD-OBS to 60228.684228 from DATE-OBS'. [astropy.wcs.wcs]\n",
      "WARNING: FITSFixedWarning: 'datfix' made the change 'Set MJD-OBS to 60219.692326 from DATE-OBS'. [astropy.wcs.wcs]\n",
      "WARNING: FITSFixedWarning: 'datfix' made the change 'Set MJD-OBS to 60181.428978 from DATE-OBS'. [astropy.wcs.wcs]\n"
     ]
    },
    {
     "name": "stdout",
     "output_type": "stream",
     "text": [
      "HISTORY  [yfu.darkcor] Dark subtracted (DARKFRM = /mnt/Rdata/OBS_data/asteroid/RiLA600_STX-16803_-_1bin/120LACHESIS_LIGHT_-_2023-10-11_-_RiLA600_STX-16803_-_1bin/master_files_ys/master_dark_120sec.fits)\n",
      "HISTORY  ..................................(dt = 0.033 s) 2023-11-01T13:25:19.421\n",
      "HISTORY  [yfu.flatcor] Flat pixels with `value < flat_mask = 0` are replaced by `flat_fill = 1`.\n",
      "HISTORY  .................................................2023-11-01T13:25:19.444\n",
      "HISTORY  [yfu.flatcor] Flat corrected (FLATFRM = /mnt/Rdata/OBS_data/asteroid/RiLA600_STX-16803_-_1bin/120LACHESIS_LIGHT_-_2023-10-11_-_RiLA600_STX-16803_-_1bin/master_files_ys/master_flat_R_norm.fits)\n",
      "HISTORY  ..................................(dt = 0.042 s) 2023-11-01T13:25:19.465\n",
      "Writing FITS to /mnt/Rdata/OBS_data/asteroid/RiLA600_STX-16803_-_1bin/120LACHESIS_LIGHT_-_2023-10-11_-_RiLA600_STX-16803_-_1bin/reduced/120LACHESIS_LIGHT_R_2023-10-11-16-25-17_120sec_RiLA600_STX-16803_16c_1bin.fit... Saved.\n"
     ]
    },
    {
     "name": "stderr",
     "output_type": "stream",
     "text": [
      "WARNING: FITSFixedWarning: 'datfix' made the change 'Set MJD-OBS to 60228.685752 from DATE-OBS'. [astropy.wcs.wcs]\n",
      "WARNING: FITSFixedWarning: 'datfix' made the change 'Set MJD-OBS to 60235.667566 from DATE-OBS'. [astropy.wcs.wcs]\n",
      "WARNING: FITSFixedWarning: 'datfix' made the change 'Set MJD-OBS to 60181.428978 from DATE-OBS'. [astropy.wcs.wcs]\n"
     ]
    },
    {
     "name": "stdout",
     "output_type": "stream",
     "text": [
      "HISTORY  [yfu.darkcor] Dark subtracted (DARKFRM = /mnt/Rdata/OBS_data/asteroid/RiLA600_STX-16803_-_1bin/120LACHESIS_LIGHT_-_2023-10-11_-_RiLA600_STX-16803_-_1bin/master_files_ys/master_dark_180sec.fits)\n",
      "HISTORY  ..................................(dt = 0.035 s) 2023-11-01T13:25:20.407\n",
      "HISTORY  [yfu.flatcor] Flat pixels with `value < flat_mask = 0` are replaced by `flat_fill = 1`.\n",
      "HISTORY  .................................................2023-11-01T13:25:20.432\n",
      "HISTORY  [yfu.flatcor] Flat corrected (FLATFRM = /mnt/Rdata/OBS_data/asteroid/RiLA600_STX-16803_-_1bin/120LACHESIS_LIGHT_-_2023-10-11_-_RiLA600_STX-16803_-_1bin/master_files_ys/master_flat_R_norm.fits)\n",
      "HISTORY  ..................................(dt = 0.045 s) 2023-11-01T13:25:20.454\n",
      "Writing FITS to /mnt/Rdata/OBS_data/asteroid/RiLA600_STX-16803_-_1bin/120LACHESIS_LIGHT_-_2023-10-11_-_RiLA600_STX-16803_-_1bin/reduced/120LACHESIS_LIGHT_R_2023-10-11-16-27-28_180sec_RiLA600_STX-16803_16c_1bin.fit... Saved.\n"
     ]
    },
    {
     "name": "stderr",
     "output_type": "stream",
     "text": [
      "WARNING: FITSFixedWarning: 'datfix' made the change 'Set MJD-OBS to 60228.687971 from DATE-OBS'. [astropy.wcs.wcs]\n",
      "WARNING: FITSFixedWarning: 'datfix' made the change 'Set MJD-OBS to 60219.692326 from DATE-OBS'. [astropy.wcs.wcs]\n",
      "WARNING: FITSFixedWarning: 'datfix' made the change 'Set MJD-OBS to 60181.428978 from DATE-OBS'. [astropy.wcs.wcs]\n"
     ]
    },
    {
     "name": "stdout",
     "output_type": "stream",
     "text": [
      "HISTORY  [yfu.darkcor] Dark subtracted (DARKFRM = /mnt/Rdata/OBS_data/asteroid/RiLA600_STX-16803_-_1bin/120LACHESIS_LIGHT_-_2023-10-11_-_RiLA600_STX-16803_-_1bin/master_files_ys/master_dark_120sec.fits)\n",
      "HISTORY  ..................................(dt = 0.034 s) 2023-11-01T13:25:21.631\n",
      "HISTORY  [yfu.flatcor] Flat pixels with `value < flat_mask = 0` are replaced by `flat_fill = 1`.\n",
      "HISTORY  .................................................2023-11-01T13:25:21.655\n",
      "HISTORY  [yfu.flatcor] Flat corrected (FLATFRM = /mnt/Rdata/OBS_data/asteroid/RiLA600_STX-16803_-_1bin/120LACHESIS_LIGHT_-_2023-10-11_-_RiLA600_STX-16803_-_1bin/master_files_ys/master_flat_R_norm.fits)\n",
      "HISTORY  ..................................(dt = 0.042 s) 2023-11-01T13:25:21.676\n",
      "Writing FITS to /mnt/Rdata/OBS_data/asteroid/RiLA600_STX-16803_-_1bin/120LACHESIS_LIGHT_-_2023-10-11_-_RiLA600_STX-16803_-_1bin/reduced/120LACHESIS_LIGHT_R_2023-10-11-16-30-40_120sec_RiLA600_STX-16803_16c_1bin.fit... Saved.\n"
     ]
    },
    {
     "name": "stderr",
     "output_type": "stream",
     "text": [
      "WARNING: FITSFixedWarning: 'datfix' made the change 'Set MJD-OBS to 60228.689495 from DATE-OBS'. [astropy.wcs.wcs]\n",
      "WARNING: FITSFixedWarning: 'datfix' made the change 'Set MJD-OBS to 60235.667566 from DATE-OBS'. [astropy.wcs.wcs]\n",
      "WARNING: FITSFixedWarning: 'datfix' made the change 'Set MJD-OBS to 60181.428978 from DATE-OBS'. [astropy.wcs.wcs]\n"
     ]
    },
    {
     "name": "stdout",
     "output_type": "stream",
     "text": [
      "HISTORY  [yfu.darkcor] Dark subtracted (DARKFRM = /mnt/Rdata/OBS_data/asteroid/RiLA600_STX-16803_-_1bin/120LACHESIS_LIGHT_-_2023-10-11_-_RiLA600_STX-16803_-_1bin/master_files_ys/master_dark_180sec.fits)\n",
      "HISTORY  ..................................(dt = 0.036 s) 2023-11-01T13:25:22.516\n",
      "HISTORY  [yfu.flatcor] Flat pixels with `value < flat_mask = 0` are replaced by `flat_fill = 1`.\n",
      "HISTORY  .................................................2023-11-01T13:25:22.540\n",
      "HISTORY  [yfu.flatcor] Flat corrected (FLATFRM = /mnt/Rdata/OBS_data/asteroid/RiLA600_STX-16803_-_1bin/120LACHESIS_LIGHT_-_2023-10-11_-_RiLA600_STX-16803_-_1bin/master_files_ys/master_flat_R_norm.fits)\n",
      "HISTORY  ..................................(dt = 0.043 s) 2023-11-01T13:25:22.562\n",
      "Writing FITS to /mnt/Rdata/OBS_data/asteroid/RiLA600_STX-16803_-_1bin/120LACHESIS_LIGHT_-_2023-10-11_-_RiLA600_STX-16803_-_1bin/reduced/120LACHESIS_LIGHT_R_2023-10-11-16-32-52_180sec_RiLA600_STX-16803_16c_1bin.fit... Saved.\n"
     ]
    },
    {
     "name": "stderr",
     "output_type": "stream",
     "text": [
      "WARNING: FITSFixedWarning: 'datfix' made the change 'Set MJD-OBS to 60228.691714 from DATE-OBS'. [astropy.wcs.wcs]\n",
      "WARNING: FITSFixedWarning: 'datfix' made the change 'Set MJD-OBS to 60219.692326 from DATE-OBS'. [astropy.wcs.wcs]\n",
      "WARNING: FITSFixedWarning: 'datfix' made the change 'Set MJD-OBS to 60181.428978 from DATE-OBS'. [astropy.wcs.wcs]\n"
     ]
    },
    {
     "name": "stdout",
     "output_type": "stream",
     "text": [
      "HISTORY  [yfu.darkcor] Dark subtracted (DARKFRM = /mnt/Rdata/OBS_data/asteroid/RiLA600_STX-16803_-_1bin/120LACHESIS_LIGHT_-_2023-10-11_-_RiLA600_STX-16803_-_1bin/master_files_ys/master_dark_120sec.fits)\n",
      "HISTORY  ..................................(dt = 0.035 s) 2023-11-01T13:25:23.644\n",
      "HISTORY  [yfu.flatcor] Flat pixels with `value < flat_mask = 0` are replaced by `flat_fill = 1`.\n",
      "HISTORY  .................................................2023-11-01T13:25:23.668\n",
      "HISTORY  [yfu.flatcor] Flat corrected (FLATFRM = /mnt/Rdata/OBS_data/asteroid/RiLA600_STX-16803_-_1bin/120LACHESIS_LIGHT_-_2023-10-11_-_RiLA600_STX-16803_-_1bin/master_files_ys/master_flat_R_norm.fits)\n",
      "HISTORY  ..................................(dt = 0.043 s) 2023-11-01T13:25:23.690\n",
      "Writing FITS to /mnt/Rdata/OBS_data/asteroid/RiLA600_STX-16803_-_1bin/120LACHESIS_LIGHT_-_2023-10-11_-_RiLA600_STX-16803_-_1bin/reduced/120LACHESIS_LIGHT_R_2023-10-11-16-36-04_120sec_RiLA600_STX-16803_16c_1bin.fit... Saved.\n"
     ]
    },
    {
     "name": "stderr",
     "output_type": "stream",
     "text": [
      "WARNING: FITSFixedWarning: 'datfix' made the change 'Set MJD-OBS to 60228.693238 from DATE-OBS'. [astropy.wcs.wcs]\n",
      "WARNING: FITSFixedWarning: 'datfix' made the change 'Set MJD-OBS to 60235.667566 from DATE-OBS'. [astropy.wcs.wcs]\n",
      "WARNING: FITSFixedWarning: 'datfix' made the change 'Set MJD-OBS to 60181.428978 from DATE-OBS'. [astropy.wcs.wcs]\n"
     ]
    },
    {
     "name": "stdout",
     "output_type": "stream",
     "text": [
      "HISTORY  [yfu.darkcor] Dark subtracted (DARKFRM = /mnt/Rdata/OBS_data/asteroid/RiLA600_STX-16803_-_1bin/120LACHESIS_LIGHT_-_2023-10-11_-_RiLA600_STX-16803_-_1bin/master_files_ys/master_dark_180sec.fits)\n",
      "HISTORY  ..................................(dt = 0.038 s) 2023-11-01T13:25:25.077\n",
      "HISTORY  [yfu.flatcor] Flat pixels with `value < flat_mask = 0` are replaced by `flat_fill = 1`.\n",
      "HISTORY  .................................................2023-11-01T13:25:25.101\n",
      "HISTORY  [yfu.flatcor] Flat corrected (FLATFRM = /mnt/Rdata/OBS_data/asteroid/RiLA600_STX-16803_-_1bin/120LACHESIS_LIGHT_-_2023-10-11_-_RiLA600_STX-16803_-_1bin/master_files_ys/master_flat_R_norm.fits)\n",
      "HISTORY  ..................................(dt = 0.043 s) 2023-11-01T13:25:25.123\n",
      "Writing FITS to /mnt/Rdata/OBS_data/asteroid/RiLA600_STX-16803_-_1bin/120LACHESIS_LIGHT_-_2023-10-11_-_RiLA600_STX-16803_-_1bin/reduced/120LACHESIS_LIGHT_R_2023-10-11-16-38-15_180sec_RiLA600_STX-16803_16c_1bin.fit... Saved.\n"
     ]
    },
    {
     "name": "stderr",
     "output_type": "stream",
     "text": [
      "WARNING: FITSFixedWarning: 'datfix' made the change 'Set MJD-OBS to 60228.695457 from DATE-OBS'. [astropy.wcs.wcs]\n",
      "WARNING: FITSFixedWarning: 'datfix' made the change 'Set MJD-OBS to 60219.692326 from DATE-OBS'. [astropy.wcs.wcs]\n",
      "WARNING: FITSFixedWarning: 'datfix' made the change 'Set MJD-OBS to 60181.428978 from DATE-OBS'. [astropy.wcs.wcs]\n"
     ]
    },
    {
     "name": "stdout",
     "output_type": "stream",
     "text": [
      "HISTORY  [yfu.darkcor] Dark subtracted (DARKFRM = /mnt/Rdata/OBS_data/asteroid/RiLA600_STX-16803_-_1bin/120LACHESIS_LIGHT_-_2023-10-11_-_RiLA600_STX-16803_-_1bin/master_files_ys/master_dark_120sec.fits)\n",
      "HISTORY  ..................................(dt = 0.039 s) 2023-11-01T13:25:25.832\n",
      "HISTORY  [yfu.flatcor] Flat pixels with `value < flat_mask = 0` are replaced by `flat_fill = 1`.\n",
      "HISTORY  .................................................2023-11-01T13:25:25.859\n",
      "HISTORY  [yfu.flatcor] Flat corrected (FLATFRM = /mnt/Rdata/OBS_data/asteroid/RiLA600_STX-16803_-_1bin/120LACHESIS_LIGHT_-_2023-10-11_-_RiLA600_STX-16803_-_1bin/master_files_ys/master_flat_R_norm.fits)\n",
      "HISTORY  ..................................(dt = 0.046 s) 2023-11-01T13:25:25.881\n",
      "Writing FITS to /mnt/Rdata/OBS_data/asteroid/RiLA600_STX-16803_-_1bin/120LACHESIS_LIGHT_-_2023-10-11_-_RiLA600_STX-16803_-_1bin/reduced/120LACHESIS_LIGHT_R_2023-10-11-16-41-27_120sec_RiLA600_STX-16803_16c_1bin.fit... Saved.\n"
     ]
    },
    {
     "name": "stderr",
     "output_type": "stream",
     "text": [
      "WARNING: FITSFixedWarning: 'datfix' made the change 'Set MJD-OBS to 60228.696981 from DATE-OBS'. [astropy.wcs.wcs]\n",
      "WARNING: FITSFixedWarning: 'datfix' made the change 'Set MJD-OBS to 60235.667566 from DATE-OBS'. [astropy.wcs.wcs]\n",
      "WARNING: FITSFixedWarning: 'datfix' made the change 'Set MJD-OBS to 60181.428978 from DATE-OBS'. [astropy.wcs.wcs]\n"
     ]
    },
    {
     "name": "stdout",
     "output_type": "stream",
     "text": [
      "HISTORY  [yfu.darkcor] Dark subtracted (DARKFRM = /mnt/Rdata/OBS_data/asteroid/RiLA600_STX-16803_-_1bin/120LACHESIS_LIGHT_-_2023-10-11_-_RiLA600_STX-16803_-_1bin/master_files_ys/master_dark_180sec.fits)\n",
      "HISTORY  ..................................(dt = 0.034 s) 2023-11-01T13:25:26.793\n",
      "HISTORY  [yfu.flatcor] Flat pixels with `value < flat_mask = 0` are replaced by `flat_fill = 1`.\n",
      "HISTORY  .................................................2023-11-01T13:25:26.817\n",
      "HISTORY  [yfu.flatcor] Flat corrected (FLATFRM = /mnt/Rdata/OBS_data/asteroid/RiLA600_STX-16803_-_1bin/120LACHESIS_LIGHT_-_2023-10-11_-_RiLA600_STX-16803_-_1bin/master_files_ys/master_flat_R_norm.fits)\n",
      "HISTORY  ..................................(dt = 0.042 s) 2023-11-01T13:25:26.838\n",
      "Writing FITS to /mnt/Rdata/OBS_data/asteroid/RiLA600_STX-16803_-_1bin/120LACHESIS_LIGHT_-_2023-10-11_-_RiLA600_STX-16803_-_1bin/reduced/120LACHESIS_LIGHT_R_2023-10-11-16-43-39_180sec_RiLA600_STX-16803_16c_1bin.fit... Saved.\n"
     ]
    },
    {
     "name": "stderr",
     "output_type": "stream",
     "text": [
      "WARNING: FITSFixedWarning: 'datfix' made the change 'Set MJD-OBS to 60228.699199 from DATE-OBS'. [astropy.wcs.wcs]\n",
      "WARNING: FITSFixedWarning: 'datfix' made the change 'Set MJD-OBS to 60219.692326 from DATE-OBS'. [astropy.wcs.wcs]\n",
      "WARNING: FITSFixedWarning: 'datfix' made the change 'Set MJD-OBS to 60181.428978 from DATE-OBS'. [astropy.wcs.wcs]\n"
     ]
    },
    {
     "name": "stdout",
     "output_type": "stream",
     "text": [
      "HISTORY  [yfu.darkcor] Dark subtracted (DARKFRM = /mnt/Rdata/OBS_data/asteroid/RiLA600_STX-16803_-_1bin/120LACHESIS_LIGHT_-_2023-10-11_-_RiLA600_STX-16803_-_1bin/master_files_ys/master_dark_120sec.fits)\n",
      "HISTORY  ..................................(dt = 0.034 s) 2023-11-01T13:25:27.542\n",
      "HISTORY  [yfu.flatcor] Flat pixels with `value < flat_mask = 0` are replaced by `flat_fill = 1`.\n",
      "HISTORY  .................................................2023-11-01T13:25:27.566\n",
      "HISTORY  [yfu.flatcor] Flat corrected (FLATFRM = /mnt/Rdata/OBS_data/asteroid/RiLA600_STX-16803_-_1bin/120LACHESIS_LIGHT_-_2023-10-11_-_RiLA600_STX-16803_-_1bin/master_files_ys/master_flat_R_norm.fits)\n",
      "HISTORY  ..................................(dt = 0.043 s) 2023-11-01T13:25:27.588\n",
      "Writing FITS to /mnt/Rdata/OBS_data/asteroid/RiLA600_STX-16803_-_1bin/120LACHESIS_LIGHT_-_2023-10-11_-_RiLA600_STX-16803_-_1bin/reduced/120LACHESIS_LIGHT_R_2023-10-11-16-46-50_120sec_RiLA600_STX-16803_16c_1bin.fit... Saved.\n"
     ]
    },
    {
     "name": "stderr",
     "output_type": "stream",
     "text": [
      "WARNING: FITSFixedWarning: 'datfix' made the change 'Set MJD-OBS to 60228.700723 from DATE-OBS'. [astropy.wcs.wcs]\n",
      "WARNING: FITSFixedWarning: 'datfix' made the change 'Set MJD-OBS to 60235.667566 from DATE-OBS'. [astropy.wcs.wcs]\n",
      "WARNING: FITSFixedWarning: 'datfix' made the change 'Set MJD-OBS to 60181.428978 from DATE-OBS'. [astropy.wcs.wcs]\n"
     ]
    },
    {
     "name": "stdout",
     "output_type": "stream",
     "text": [
      "HISTORY  [yfu.darkcor] Dark subtracted (DARKFRM = /mnt/Rdata/OBS_data/asteroid/RiLA600_STX-16803_-_1bin/120LACHESIS_LIGHT_-_2023-10-11_-_RiLA600_STX-16803_-_1bin/master_files_ys/master_dark_180sec.fits)\n",
      "HISTORY  ..................................(dt = 0.038 s) 2023-11-01T13:25:28.304\n",
      "HISTORY  [yfu.flatcor] Flat pixels with `value < flat_mask = 0` are replaced by `flat_fill = 1`.\n",
      "HISTORY  .................................................2023-11-01T13:25:28.326\n",
      "HISTORY  [yfu.flatcor] Flat corrected (FLATFRM = /mnt/Rdata/OBS_data/asteroid/RiLA600_STX-16803_-_1bin/120LACHESIS_LIGHT_-_2023-10-11_-_RiLA600_STX-16803_-_1bin/master_files_ys/master_flat_R_norm.fits)\n",
      "HISTORY  ..................................(dt = 0.042 s) 2023-11-01T13:25:28.347\n",
      "Writing FITS to /mnt/Rdata/OBS_data/asteroid/RiLA600_STX-16803_-_1bin/120LACHESIS_LIGHT_-_2023-10-11_-_RiLA600_STX-16803_-_1bin/reduced/120LACHESIS_LIGHT_R_2023-10-11-16-49-02_180sec_RiLA600_STX-16803_16c_1bin.fit... Saved.\n"
     ]
    },
    {
     "name": "stderr",
     "output_type": "stream",
     "text": [
      "WARNING: FITSFixedWarning: 'datfix' made the change 'Set MJD-OBS to 60228.702941 from DATE-OBS'. [astropy.wcs.wcs]\n",
      "WARNING: FITSFixedWarning: 'datfix' made the change 'Set MJD-OBS to 60219.692326 from DATE-OBS'. [astropy.wcs.wcs]\n",
      "WARNING: FITSFixedWarning: 'datfix' made the change 'Set MJD-OBS to 60181.428978 from DATE-OBS'. [astropy.wcs.wcs]\n"
     ]
    },
    {
     "name": "stdout",
     "output_type": "stream",
     "text": [
      "HISTORY  [yfu.darkcor] Dark subtracted (DARKFRM = /mnt/Rdata/OBS_data/asteroid/RiLA600_STX-16803_-_1bin/120LACHESIS_LIGHT_-_2023-10-11_-_RiLA600_STX-16803_-_1bin/master_files_ys/master_dark_120sec.fits)\n",
      "HISTORY  ..................................(dt = 0.034 s) 2023-11-01T13:25:29.260\n",
      "HISTORY  [yfu.flatcor] Flat pixels with `value < flat_mask = 0` are replaced by `flat_fill = 1`.\n",
      "HISTORY  .................................................2023-11-01T13:25:29.283\n",
      "HISTORY  [yfu.flatcor] Flat corrected (FLATFRM = /mnt/Rdata/OBS_data/asteroid/RiLA600_STX-16803_-_1bin/120LACHESIS_LIGHT_-_2023-10-11_-_RiLA600_STX-16803_-_1bin/master_files_ys/master_flat_R_norm.fits)\n",
      "HISTORY  ..................................(dt = 0.046 s) 2023-11-01T13:25:29.308\n",
      "Writing FITS to /mnt/Rdata/OBS_data/asteroid/RiLA600_STX-16803_-_1bin/120LACHESIS_LIGHT_-_2023-10-11_-_RiLA600_STX-16803_-_1bin/reduced/120LACHESIS_LIGHT_R_2023-10-11-16-52-14_120sec_RiLA600_STX-16803_16c_1bin.fit... Saved.\n"
     ]
    },
    {
     "name": "stderr",
     "output_type": "stream",
     "text": [
      "WARNING: FITSFixedWarning: 'datfix' made the change 'Set MJD-OBS to 60228.704466 from DATE-OBS'. [astropy.wcs.wcs]\n",
      "WARNING: FITSFixedWarning: 'datfix' made the change 'Set MJD-OBS to 60235.667566 from DATE-OBS'. [astropy.wcs.wcs]\n",
      "WARNING: FITSFixedWarning: 'datfix' made the change 'Set MJD-OBS to 60181.428978 from DATE-OBS'. [astropy.wcs.wcs]\n"
     ]
    },
    {
     "name": "stdout",
     "output_type": "stream",
     "text": [
      "HISTORY  [yfu.darkcor] Dark subtracted (DARKFRM = /mnt/Rdata/OBS_data/asteroid/RiLA600_STX-16803_-_1bin/120LACHESIS_LIGHT_-_2023-10-11_-_RiLA600_STX-16803_-_1bin/master_files_ys/master_dark_180sec.fits)\n",
      "HISTORY  ..................................(dt = 0.038 s) 2023-11-01T13:25:30.162\n",
      "HISTORY  [yfu.flatcor] Flat pixels with `value < flat_mask = 0` are replaced by `flat_fill = 1`.\n",
      "HISTORY  .................................................2023-11-01T13:25:30.185\n",
      "HISTORY  [yfu.flatcor] Flat corrected (FLATFRM = /mnt/Rdata/OBS_data/asteroid/RiLA600_STX-16803_-_1bin/120LACHESIS_LIGHT_-_2023-10-11_-_RiLA600_STX-16803_-_1bin/master_files_ys/master_flat_R_norm.fits)\n",
      "HISTORY  ..................................(dt = 0.044 s) 2023-11-01T13:25:30.208\n",
      "Writing FITS to /mnt/Rdata/OBS_data/asteroid/RiLA600_STX-16803_-_1bin/120LACHESIS_LIGHT_-_2023-10-11_-_RiLA600_STX-16803_-_1bin/reduced/120LACHESIS_LIGHT_R_2023-10-11-16-54-25_180sec_RiLA600_STX-16803_16c_1bin.fit... Saved.\n"
     ]
    },
    {
     "name": "stderr",
     "output_type": "stream",
     "text": [
      "WARNING: FITSFixedWarning: 'datfix' made the change 'Set MJD-OBS to 60228.706684 from DATE-OBS'. [astropy.wcs.wcs]\n",
      "WARNING: FITSFixedWarning: 'datfix' made the change 'Set MJD-OBS to 60219.692326 from DATE-OBS'. [astropy.wcs.wcs]\n",
      "WARNING: FITSFixedWarning: 'datfix' made the change 'Set MJD-OBS to 60181.428978 from DATE-OBS'. [astropy.wcs.wcs]\n"
     ]
    },
    {
     "name": "stdout",
     "output_type": "stream",
     "text": [
      "HISTORY  [yfu.darkcor] Dark subtracted (DARKFRM = /mnt/Rdata/OBS_data/asteroid/RiLA600_STX-16803_-_1bin/120LACHESIS_LIGHT_-_2023-10-11_-_RiLA600_STX-16803_-_1bin/master_files_ys/master_dark_120sec.fits)\n",
      "HISTORY  ..................................(dt = 0.035 s) 2023-11-01T13:25:31.105\n",
      "HISTORY  [yfu.flatcor] Flat pixels with `value < flat_mask = 0` are replaced by `flat_fill = 1`.\n",
      "HISTORY  .................................................2023-11-01T13:25:31.128\n",
      "HISTORY  [yfu.flatcor] Flat corrected (FLATFRM = /mnt/Rdata/OBS_data/asteroid/RiLA600_STX-16803_-_1bin/120LACHESIS_LIGHT_-_2023-10-11_-_RiLA600_STX-16803_-_1bin/master_files_ys/master_flat_R_norm.fits)\n",
      "HISTORY  ..................................(dt = 0.043 s) 2023-11-01T13:25:31.150\n",
      "Writing FITS to /mnt/Rdata/OBS_data/asteroid/RiLA600_STX-16803_-_1bin/120LACHESIS_LIGHT_-_2023-10-11_-_RiLA600_STX-16803_-_1bin/reduced/120LACHESIS_LIGHT_R_2023-10-11-16-57-37_120sec_RiLA600_STX-16803_16c_1bin.fit... Saved.\n"
     ]
    },
    {
     "name": "stderr",
     "output_type": "stream",
     "text": [
      "WARNING: FITSFixedWarning: 'datfix' made the change 'Set MJD-OBS to 60228.708208 from DATE-OBS'. [astropy.wcs.wcs]\n",
      "WARNING: FITSFixedWarning: 'datfix' made the change 'Set MJD-OBS to 60235.667566 from DATE-OBS'. [astropy.wcs.wcs]\n",
      "WARNING: FITSFixedWarning: 'datfix' made the change 'Set MJD-OBS to 60181.428978 from DATE-OBS'. [astropy.wcs.wcs]\n"
     ]
    },
    {
     "name": "stdout",
     "output_type": "stream",
     "text": [
      "HISTORY  [yfu.darkcor] Dark subtracted (DARKFRM = /mnt/Rdata/OBS_data/asteroid/RiLA600_STX-16803_-_1bin/120LACHESIS_LIGHT_-_2023-10-11_-_RiLA600_STX-16803_-_1bin/master_files_ys/master_dark_180sec.fits)\n",
      "HISTORY  ..................................(dt = 0.038 s) 2023-11-01T13:25:32.385\n",
      "HISTORY  [yfu.flatcor] Flat pixels with `value < flat_mask = 0` are replaced by `flat_fill = 1`.\n",
      "HISTORY  .................................................2023-11-01T13:25:32.409\n",
      "HISTORY  [yfu.flatcor] Flat corrected (FLATFRM = /mnt/Rdata/OBS_data/asteroid/RiLA600_STX-16803_-_1bin/120LACHESIS_LIGHT_-_2023-10-11_-_RiLA600_STX-16803_-_1bin/master_files_ys/master_flat_R_norm.fits)\n",
      "HISTORY  ..................................(dt = 0.041 s) 2023-11-01T13:25:32.429\n",
      "Writing FITS to /mnt/Rdata/OBS_data/asteroid/RiLA600_STX-16803_-_1bin/120LACHESIS_LIGHT_-_2023-10-11_-_RiLA600_STX-16803_-_1bin/reduced/120LACHESIS_LIGHT_R_2023-10-11-16-59-49_180sec_RiLA600_STX-16803_16c_1bin.fit... Saved.\n"
     ]
    },
    {
     "name": "stderr",
     "output_type": "stream",
     "text": [
      "WARNING: FITSFixedWarning: 'datfix' made the change 'Set MJD-OBS to 60228.710426 from DATE-OBS'. [astropy.wcs.wcs]\n",
      "WARNING: FITSFixedWarning: 'datfix' made the change 'Set MJD-OBS to 60219.692326 from DATE-OBS'. [astropy.wcs.wcs]\n",
      "WARNING: FITSFixedWarning: 'datfix' made the change 'Set MJD-OBS to 60181.428978 from DATE-OBS'. [astropy.wcs.wcs]\n"
     ]
    },
    {
     "name": "stdout",
     "output_type": "stream",
     "text": [
      "HISTORY  [yfu.darkcor] Dark subtracted (DARKFRM = /mnt/Rdata/OBS_data/asteroid/RiLA600_STX-16803_-_1bin/120LACHESIS_LIGHT_-_2023-10-11_-_RiLA600_STX-16803_-_1bin/master_files_ys/master_dark_120sec.fits)\n",
      "HISTORY  ..................................(dt = 0.034 s) 2023-11-01T13:25:33.184\n",
      "HISTORY  [yfu.flatcor] Flat pixels with `value < flat_mask = 0` are replaced by `flat_fill = 1`.\n",
      "HISTORY  .................................................2023-11-01T13:25:33.209\n",
      "HISTORY  [yfu.flatcor] Flat corrected (FLATFRM = /mnt/Rdata/OBS_data/asteroid/RiLA600_STX-16803_-_1bin/120LACHESIS_LIGHT_-_2023-10-11_-_RiLA600_STX-16803_-_1bin/master_files_ys/master_flat_R_norm.fits)\n",
      "HISTORY  ..................................(dt = 0.043 s) 2023-11-01T13:25:33.231\n",
      "Writing FITS to /mnt/Rdata/OBS_data/asteroid/RiLA600_STX-16803_-_1bin/120LACHESIS_LIGHT_-_2023-10-11_-_RiLA600_STX-16803_-_1bin/reduced/120LACHESIS_LIGHT_R_2023-10-11-17-03-00_120sec_RiLA600_STX-16803_16c_1bin.fit... Saved.\n"
     ]
    },
    {
     "name": "stderr",
     "output_type": "stream",
     "text": [
      "WARNING: FITSFixedWarning: 'datfix' made the change 'Set MJD-OBS to 60228.711951 from DATE-OBS'. [astropy.wcs.wcs]\n",
      "WARNING: FITSFixedWarning: 'datfix' made the change 'Set MJD-OBS to 60235.667566 from DATE-OBS'. [astropy.wcs.wcs]\n",
      "WARNING: FITSFixedWarning: 'datfix' made the change 'Set MJD-OBS to 60181.428978 from DATE-OBS'. [astropy.wcs.wcs]\n"
     ]
    },
    {
     "name": "stdout",
     "output_type": "stream",
     "text": [
      "HISTORY  [yfu.darkcor] Dark subtracted (DARKFRM = /mnt/Rdata/OBS_data/asteroid/RiLA600_STX-16803_-_1bin/120LACHESIS_LIGHT_-_2023-10-11_-_RiLA600_STX-16803_-_1bin/master_files_ys/master_dark_180sec.fits)\n",
      "HISTORY  ..................................(dt = 0.037 s) 2023-11-01T13:25:34.145\n",
      "HISTORY  [yfu.flatcor] Flat pixels with `value < flat_mask = 0` are replaced by `flat_fill = 1`.\n",
      "HISTORY  .................................................2023-11-01T13:25:34.169\n",
      "HISTORY  [yfu.flatcor] Flat corrected (FLATFRM = /mnt/Rdata/OBS_data/asteroid/RiLA600_STX-16803_-_1bin/120LACHESIS_LIGHT_-_2023-10-11_-_RiLA600_STX-16803_-_1bin/master_files_ys/master_flat_R_norm.fits)\n",
      "HISTORY  ..................................(dt = 0.043 s) 2023-11-01T13:25:34.190\n",
      "Writing FITS to /mnt/Rdata/OBS_data/asteroid/RiLA600_STX-16803_-_1bin/120LACHESIS_LIGHT_-_2023-10-11_-_RiLA600_STX-16803_-_1bin/reduced/120LACHESIS_LIGHT_R_2023-10-11-17-05-12_180sec_RiLA600_STX-16803_16c_1bin.fit... Saved.\n"
     ]
    },
    {
     "name": "stderr",
     "output_type": "stream",
     "text": [
      "WARNING: FITSFixedWarning: 'datfix' made the change 'Set MJD-OBS to 60228.714169 from DATE-OBS'. [astropy.wcs.wcs]\n",
      "WARNING: FITSFixedWarning: 'datfix' made the change 'Set MJD-OBS to 60219.692326 from DATE-OBS'. [astropy.wcs.wcs]\n",
      "WARNING: FITSFixedWarning: 'datfix' made the change 'Set MJD-OBS to 60181.428978 from DATE-OBS'. [astropy.wcs.wcs]\n"
     ]
    },
    {
     "name": "stdout",
     "output_type": "stream",
     "text": [
      "HISTORY  [yfu.darkcor] Dark subtracted (DARKFRM = /mnt/Rdata/OBS_data/asteroid/RiLA600_STX-16803_-_1bin/120LACHESIS_LIGHT_-_2023-10-11_-_RiLA600_STX-16803_-_1bin/master_files_ys/master_dark_120sec.fits)\n",
      "HISTORY  ..................................(dt = 0.043 s) 2023-11-01T13:25:34.805\n",
      "HISTORY  [yfu.flatcor] Flat pixels with `value < flat_mask = 0` are replaced by `flat_fill = 1`.\n",
      "HISTORY  .................................................2023-11-01T13:25:34.828\n",
      "HISTORY  [yfu.flatcor] Flat corrected (FLATFRM = /mnt/Rdata/OBS_data/asteroid/RiLA600_STX-16803_-_1bin/120LACHESIS_LIGHT_-_2023-10-11_-_RiLA600_STX-16803_-_1bin/master_files_ys/master_flat_R_norm.fits)\n",
      "HISTORY  ..................................(dt = 0.041 s) 2023-11-01T13:25:34.848\n",
      "Writing FITS to /mnt/Rdata/OBS_data/asteroid/RiLA600_STX-16803_-_1bin/120LACHESIS_LIGHT_-_2023-10-11_-_RiLA600_STX-16803_-_1bin/reduced/120LACHESIS_LIGHT_R_2023-10-11-17-08-24_120sec_RiLA600_STX-16803_16c_1bin.fit... Saved.\n"
     ]
    },
    {
     "name": "stderr",
     "output_type": "stream",
     "text": [
      "WARNING: FITSFixedWarning: 'datfix' made the change 'Set MJD-OBS to 60228.715693 from DATE-OBS'. [astropy.wcs.wcs]\n",
      "WARNING: FITSFixedWarning: 'datfix' made the change 'Set MJD-OBS to 60235.667566 from DATE-OBS'. [astropy.wcs.wcs]\n",
      "WARNING: FITSFixedWarning: 'datfix' made the change 'Set MJD-OBS to 60181.428978 from DATE-OBS'. [astropy.wcs.wcs]\n"
     ]
    },
    {
     "name": "stdout",
     "output_type": "stream",
     "text": [
      "HISTORY  [yfu.darkcor] Dark subtracted (DARKFRM = /mnt/Rdata/OBS_data/asteroid/RiLA600_STX-16803_-_1bin/120LACHESIS_LIGHT_-_2023-10-11_-_RiLA600_STX-16803_-_1bin/master_files_ys/master_dark_180sec.fits)\n",
      "HISTORY  ..................................(dt = 0.034 s) 2023-11-01T13:25:35.624\n",
      "HISTORY  [yfu.flatcor] Flat pixels with `value < flat_mask = 0` are replaced by `flat_fill = 1`.\n",
      "HISTORY  .................................................2023-11-01T13:25:35.647\n",
      "HISTORY  [yfu.flatcor] Flat corrected (FLATFRM = /mnt/Rdata/OBS_data/asteroid/RiLA600_STX-16803_-_1bin/120LACHESIS_LIGHT_-_2023-10-11_-_RiLA600_STX-16803_-_1bin/master_files_ys/master_flat_R_norm.fits)\n",
      "HISTORY  ..................................(dt = 0.041 s) 2023-11-01T13:25:35.668\n",
      "Writing FITS to /mnt/Rdata/OBS_data/asteroid/RiLA600_STX-16803_-_1bin/120LACHESIS_LIGHT_-_2023-10-11_-_RiLA600_STX-16803_-_1bin/reduced/120LACHESIS_LIGHT_R_2023-10-11-17-10-35_180sec_RiLA600_STX-16803_16c_1bin.fit... Saved.\n"
     ]
    },
    {
     "name": "stderr",
     "output_type": "stream",
     "text": [
      "WARNING: FITSFixedWarning: 'datfix' made the change 'Set MJD-OBS to 60228.717911 from DATE-OBS'. [astropy.wcs.wcs]\n",
      "WARNING: FITSFixedWarning: 'datfix' made the change 'Set MJD-OBS to 60219.692326 from DATE-OBS'. [astropy.wcs.wcs]\n",
      "WARNING: FITSFixedWarning: 'datfix' made the change 'Set MJD-OBS to 60181.428978 from DATE-OBS'. [astropy.wcs.wcs]\n"
     ]
    },
    {
     "name": "stdout",
     "output_type": "stream",
     "text": [
      "HISTORY  [yfu.darkcor] Dark subtracted (DARKFRM = /mnt/Rdata/OBS_data/asteroid/RiLA600_STX-16803_-_1bin/120LACHESIS_LIGHT_-_2023-10-11_-_RiLA600_STX-16803_-_1bin/master_files_ys/master_dark_120sec.fits)\n",
      "HISTORY  ..................................(dt = 0.034 s) 2023-11-01T13:25:36.525\n",
      "HISTORY  [yfu.flatcor] Flat pixels with `value < flat_mask = 0` are replaced by `flat_fill = 1`.\n",
      "HISTORY  .................................................2023-11-01T13:25:36.548\n",
      "HISTORY  [yfu.flatcor] Flat corrected (FLATFRM = /mnt/Rdata/OBS_data/asteroid/RiLA600_STX-16803_-_1bin/120LACHESIS_LIGHT_-_2023-10-11_-_RiLA600_STX-16803_-_1bin/master_files_ys/master_flat_R_norm.fits)\n",
      "HISTORY  ..................................(dt = 0.043 s) 2023-11-01T13:25:36.571\n",
      "Writing FITS to /mnt/Rdata/OBS_data/asteroid/RiLA600_STX-16803_-_1bin/120LACHESIS_LIGHT_-_2023-10-11_-_RiLA600_STX-16803_-_1bin/reduced/120LACHESIS_LIGHT_R_2023-10-11-17-13-47_120sec_RiLA600_STX-16803_16c_1bin.fit... Saved.\n"
     ]
    },
    {
     "name": "stderr",
     "output_type": "stream",
     "text": [
      "WARNING: FITSFixedWarning: 'datfix' made the change 'Set MJD-OBS to 60228.719436 from DATE-OBS'. [astropy.wcs.wcs]\n",
      "WARNING: FITSFixedWarning: 'datfix' made the change 'Set MJD-OBS to 60235.667566 from DATE-OBS'. [astropy.wcs.wcs]\n",
      "WARNING: FITSFixedWarning: 'datfix' made the change 'Set MJD-OBS to 60181.428978 from DATE-OBS'. [astropy.wcs.wcs]\n"
     ]
    },
    {
     "name": "stdout",
     "output_type": "stream",
     "text": [
      "HISTORY  [yfu.darkcor] Dark subtracted (DARKFRM = /mnt/Rdata/OBS_data/asteroid/RiLA600_STX-16803_-_1bin/120LACHESIS_LIGHT_-_2023-10-11_-_RiLA600_STX-16803_-_1bin/master_files_ys/master_dark_180sec.fits)\n",
      "HISTORY  ..................................(dt = 0.038 s) 2023-11-01T13:25:37.552\n",
      "HISTORY  [yfu.flatcor] Flat pixels with `value < flat_mask = 0` are replaced by `flat_fill = 1`.\n",
      "HISTORY  .................................................2023-11-01T13:25:37.575\n",
      "HISTORY  [yfu.flatcor] Flat corrected (FLATFRM = /mnt/Rdata/OBS_data/asteroid/RiLA600_STX-16803_-_1bin/120LACHESIS_LIGHT_-_2023-10-11_-_RiLA600_STX-16803_-_1bin/master_files_ys/master_flat_R_norm.fits)\n",
      "HISTORY  ..................................(dt = 0.042 s) 2023-11-01T13:25:37.596\n",
      "Writing FITS to /mnt/Rdata/OBS_data/asteroid/RiLA600_STX-16803_-_1bin/120LACHESIS_LIGHT_-_2023-10-11_-_RiLA600_STX-16803_-_1bin/reduced/120LACHESIS_LIGHT_R_2023-10-11-17-15-59_180sec_RiLA600_STX-16803_16c_1bin.fit... Saved.\n"
     ]
    },
    {
     "name": "stderr",
     "output_type": "stream",
     "text": [
      "WARNING: FITSFixedWarning: 'datfix' made the change 'Set MJD-OBS to 60228.721655 from DATE-OBS'. [astropy.wcs.wcs]\n",
      "WARNING: FITSFixedWarning: 'datfix' made the change 'Set MJD-OBS to 60219.692326 from DATE-OBS'. [astropy.wcs.wcs]\n",
      "WARNING: FITSFixedWarning: 'datfix' made the change 'Set MJD-OBS to 60181.428978 from DATE-OBS'. [astropy.wcs.wcs]\n"
     ]
    },
    {
     "name": "stdout",
     "output_type": "stream",
     "text": [
      "HISTORY  [yfu.darkcor] Dark subtracted (DARKFRM = /mnt/Rdata/OBS_data/asteroid/RiLA600_STX-16803_-_1bin/120LACHESIS_LIGHT_-_2023-10-11_-_RiLA600_STX-16803_-_1bin/master_files_ys/master_dark_120sec.fits)\n",
      "HISTORY  ..................................(dt = 0.034 s) 2023-11-01T13:25:38.506\n",
      "HISTORY  [yfu.flatcor] Flat pixels with `value < flat_mask = 0` are replaced by `flat_fill = 1`.\n",
      "HISTORY  .................................................2023-11-01T13:25:38.529\n",
      "HISTORY  [yfu.flatcor] Flat corrected (FLATFRM = /mnt/Rdata/OBS_data/asteroid/RiLA600_STX-16803_-_1bin/120LACHESIS_LIGHT_-_2023-10-11_-_RiLA600_STX-16803_-_1bin/master_files_ys/master_flat_R_norm.fits)\n",
      "HISTORY  ..................................(dt = 0.046 s) 2023-11-01T13:25:38.555\n",
      "Writing FITS to /mnt/Rdata/OBS_data/asteroid/RiLA600_STX-16803_-_1bin/120LACHESIS_LIGHT_-_2023-10-11_-_RiLA600_STX-16803_-_1bin/reduced/120LACHESIS_LIGHT_R_2023-10-11-17-19-10_120sec_RiLA600_STX-16803_16c_1bin.fit... Saved.\n"
     ]
    },
    {
     "name": "stderr",
     "output_type": "stream",
     "text": [
      "WARNING: FITSFixedWarning: 'datfix' made the change 'Set MJD-OBS to 60228.723179 from DATE-OBS'. [astropy.wcs.wcs]\n",
      "WARNING: FITSFixedWarning: 'datfix' made the change 'Set MJD-OBS to 60235.667566 from DATE-OBS'. [astropy.wcs.wcs]\n",
      "WARNING: FITSFixedWarning: 'datfix' made the change 'Set MJD-OBS to 60181.428978 from DATE-OBS'. [astropy.wcs.wcs]\n"
     ]
    },
    {
     "name": "stdout",
     "output_type": "stream",
     "text": [
      "HISTORY  [yfu.darkcor] Dark subtracted (DARKFRM = /mnt/Rdata/OBS_data/asteroid/RiLA600_STX-16803_-_1bin/120LACHESIS_LIGHT_-_2023-10-11_-_RiLA600_STX-16803_-_1bin/master_files_ys/master_dark_180sec.fits)\n",
      "HISTORY  ..................................(dt = 0.039 s) 2023-11-01T13:25:39.924\n",
      "HISTORY  [yfu.flatcor] Flat pixels with `value < flat_mask = 0` are replaced by `flat_fill = 1`.\n",
      "HISTORY  .................................................2023-11-01T13:25:39.950\n",
      "HISTORY  [yfu.flatcor] Flat corrected (FLATFRM = /mnt/Rdata/OBS_data/asteroid/RiLA600_STX-16803_-_1bin/120LACHESIS_LIGHT_-_2023-10-11_-_RiLA600_STX-16803_-_1bin/master_files_ys/master_flat_R_norm.fits)\n",
      "HISTORY  ..................................(dt = 0.044 s) 2023-11-01T13:25:39.973\n",
      "Writing FITS to /mnt/Rdata/OBS_data/asteroid/RiLA600_STX-16803_-_1bin/120LACHESIS_LIGHT_-_2023-10-11_-_RiLA600_STX-16803_-_1bin/reduced/120LACHESIS_LIGHT_R_2023-10-11-17-21-22_180sec_RiLA600_STX-16803_16c_1bin.fit... Saved.\n"
     ]
    },
    {
     "name": "stderr",
     "output_type": "stream",
     "text": [
      "WARNING: FITSFixedWarning: 'datfix' made the change 'Set MJD-OBS to 60228.725397 from DATE-OBS'. [astropy.wcs.wcs]\n",
      "WARNING: FITSFixedWarning: 'datfix' made the change 'Set MJD-OBS to 60219.692326 from DATE-OBS'. [astropy.wcs.wcs]\n",
      "WARNING: FITSFixedWarning: 'datfix' made the change 'Set MJD-OBS to 60181.428978 from DATE-OBS'. [astropy.wcs.wcs]\n"
     ]
    },
    {
     "name": "stdout",
     "output_type": "stream",
     "text": [
      "HISTORY  [yfu.darkcor] Dark subtracted (DARKFRM = /mnt/Rdata/OBS_data/asteroid/RiLA600_STX-16803_-_1bin/120LACHESIS_LIGHT_-_2023-10-11_-_RiLA600_STX-16803_-_1bin/master_files_ys/master_dark_120sec.fits)\n",
      "HISTORY  ..................................(dt = 0.044 s) 2023-11-01T13:25:40.894\n",
      "HISTORY  [yfu.flatcor] Flat pixels with `value < flat_mask = 0` are replaced by `flat_fill = 1`.\n",
      "HISTORY  .................................................2023-11-01T13:25:40.923\n",
      "HISTORY  [yfu.flatcor] Flat corrected (FLATFRM = /mnt/Rdata/OBS_data/asteroid/RiLA600_STX-16803_-_1bin/120LACHESIS_LIGHT_-_2023-10-11_-_RiLA600_STX-16803_-_1bin/master_files_ys/master_flat_R_norm.fits)\n",
      "HISTORY  ..................................(dt = 0.055 s) 2023-11-01T13:25:40.952\n",
      "Writing FITS to /mnt/Rdata/OBS_data/asteroid/RiLA600_STX-16803_-_1bin/120LACHESIS_LIGHT_-_2023-10-11_-_RiLA600_STX-16803_-_1bin/reduced/120LACHESIS_LIGHT_R_2023-10-11-17-24-34_120sec_RiLA600_STX-16803_16c_1bin.fit... Saved.\n"
     ]
    },
    {
     "name": "stderr",
     "output_type": "stream",
     "text": [
      "WARNING: FITSFixedWarning: 'datfix' made the change 'Set MJD-OBS to 60228.726921 from DATE-OBS'. [astropy.wcs.wcs]\n",
      "WARNING: FITSFixedWarning: 'datfix' made the change 'Set MJD-OBS to 60235.667566 from DATE-OBS'. [astropy.wcs.wcs]\n",
      "WARNING: FITSFixedWarning: 'datfix' made the change 'Set MJD-OBS to 60181.428978 from DATE-OBS'. [astropy.wcs.wcs]\n"
     ]
    },
    {
     "name": "stdout",
     "output_type": "stream",
     "text": [
      "HISTORY  [yfu.darkcor] Dark subtracted (DARKFRM = /mnt/Rdata/OBS_data/asteroid/RiLA600_STX-16803_-_1bin/120LACHESIS_LIGHT_-_2023-10-11_-_RiLA600_STX-16803_-_1bin/master_files_ys/master_dark_180sec.fits)\n",
      "HISTORY  ..................................(dt = 0.039 s) 2023-11-01T13:25:41.696\n",
      "HISTORY  [yfu.flatcor] Flat pixels with `value < flat_mask = 0` are replaced by `flat_fill = 1`.\n",
      "HISTORY  .................................................2023-11-01T13:25:41.722\n",
      "HISTORY  [yfu.flatcor] Flat corrected (FLATFRM = /mnt/Rdata/OBS_data/asteroid/RiLA600_STX-16803_-_1bin/120LACHESIS_LIGHT_-_2023-10-11_-_RiLA600_STX-16803_-_1bin/master_files_ys/master_flat_R_norm.fits)\n",
      "HISTORY  ..................................(dt = 0.050 s) 2023-11-01T13:25:41.748\n",
      "Writing FITS to /mnt/Rdata/OBS_data/asteroid/RiLA600_STX-16803_-_1bin/120LACHESIS_LIGHT_-_2023-10-11_-_RiLA600_STX-16803_-_1bin/reduced/120LACHESIS_LIGHT_R_2023-10-11-17-26-45_180sec_RiLA600_STX-16803_16c_1bin.fit... Saved.\n"
     ]
    },
    {
     "name": "stderr",
     "output_type": "stream",
     "text": [
      "WARNING: FITSFixedWarning: 'datfix' made the change 'Set MJD-OBS to 60228.729140 from DATE-OBS'. [astropy.wcs.wcs]\n",
      "WARNING: FITSFixedWarning: 'datfix' made the change 'Set MJD-OBS to 60219.692326 from DATE-OBS'. [astropy.wcs.wcs]\n",
      "WARNING: FITSFixedWarning: 'datfix' made the change 'Set MJD-OBS to 60181.428978 from DATE-OBS'. [astropy.wcs.wcs]\n"
     ]
    },
    {
     "name": "stdout",
     "output_type": "stream",
     "text": [
      "HISTORY  [yfu.darkcor] Dark subtracted (DARKFRM = /mnt/Rdata/OBS_data/asteroid/RiLA600_STX-16803_-_1bin/120LACHESIS_LIGHT_-_2023-10-11_-_RiLA600_STX-16803_-_1bin/master_files_ys/master_dark_120sec.fits)\n",
      "HISTORY  ..................................(dt = 0.041 s) 2023-11-01T13:25:42.535\n",
      "HISTORY  [yfu.flatcor] Flat pixels with `value < flat_mask = 0` are replaced by `flat_fill = 1`.\n",
      "HISTORY  .................................................2023-11-01T13:25:42.557\n",
      "HISTORY  [yfu.flatcor] Flat corrected (FLATFRM = /mnt/Rdata/OBS_data/asteroid/RiLA600_STX-16803_-_1bin/120LACHESIS_LIGHT_-_2023-10-11_-_RiLA600_STX-16803_-_1bin/master_files_ys/master_flat_R_norm.fits)\n",
      "HISTORY  ..................................(dt = 0.048 s) 2023-11-01T13:25:42.585\n",
      "Writing FITS to /mnt/Rdata/OBS_data/asteroid/RiLA600_STX-16803_-_1bin/120LACHESIS_LIGHT_-_2023-10-11_-_RiLA600_STX-16803_-_1bin/reduced/120LACHESIS_LIGHT_R_2023-10-11-17-29-57_120sec_RiLA600_STX-16803_16c_1bin.fit... Saved.\n"
     ]
    },
    {
     "name": "stderr",
     "output_type": "stream",
     "text": [
      "WARNING: FITSFixedWarning: 'datfix' made the change 'Set MJD-OBS to 60228.730664 from DATE-OBS'. [astropy.wcs.wcs]\n",
      "WARNING: FITSFixedWarning: 'datfix' made the change 'Set MJD-OBS to 60235.667566 from DATE-OBS'. [astropy.wcs.wcs]\n",
      "WARNING: FITSFixedWarning: 'datfix' made the change 'Set MJD-OBS to 60181.428978 from DATE-OBS'. [astropy.wcs.wcs]\n"
     ]
    },
    {
     "name": "stdout",
     "output_type": "stream",
     "text": [
      "HISTORY  [yfu.darkcor] Dark subtracted (DARKFRM = /mnt/Rdata/OBS_data/asteroid/RiLA600_STX-16803_-_1bin/120LACHESIS_LIGHT_-_2023-10-11_-_RiLA600_STX-16803_-_1bin/master_files_ys/master_dark_180sec.fits)\n",
      "HISTORY  ..................................(dt = 0.044 s) 2023-11-01T13:25:43.375\n",
      "HISTORY  [yfu.flatcor] Flat pixels with `value < flat_mask = 0` are replaced by `flat_fill = 1`.\n",
      "HISTORY  .................................................2023-11-01T13:25:43.401\n",
      "HISTORY  [yfu.flatcor] Flat corrected (FLATFRM = /mnt/Rdata/OBS_data/asteroid/RiLA600_STX-16803_-_1bin/120LACHESIS_LIGHT_-_2023-10-11_-_RiLA600_STX-16803_-_1bin/master_files_ys/master_flat_R_norm.fits)\n",
      "HISTORY  ..................................(dt = 0.068 s) 2023-11-01T13:25:43.446\n",
      "Writing FITS to /mnt/Rdata/OBS_data/asteroid/RiLA600_STX-16803_-_1bin/120LACHESIS_LIGHT_-_2023-10-11_-_RiLA600_STX-16803_-_1bin/reduced/120LACHESIS_LIGHT_R_2023-10-11-17-32-09_180sec_RiLA600_STX-16803_16c_1bin.fit... Saved.\n"
     ]
    }
   ],
   "source": [
    "for DOINGDIR in DOINGDIRs[1:2] :\n",
    "    DOINGDIR = Path(DOINGDIR)\n",
    "    print(\"DOINGDIR\", DOINGDIR)\n",
    "    fits_in_dir = sorted(list(DOINGDIR.glob('*.fit*')))\n",
    "    #print(\"fits_in_dir\", fits_in_dir)\n",
    "    print(\"len(fits_in_dir)\", len(fits_in_dir))\n",
    "\n",
    "    if len(fits_in_dir) == 0 :\n",
    "        print(f\"There is no fits fils in {DOINGDIR}\")\n",
    "        pass\n",
    "    else : \n",
    "        print(f\"Starting: {str(DOINGDIR.parts[-1])}\")\n",
    "    \n",
    "        MASTERDIR = DOINGDIR / _astro_utilities.master_dir\n",
    "        REDUCEDDIR = DOINGDIR / _astro_utilities.reduced_dir\n",
    "\n",
    "        if not MASTERDIR.exists():\n",
    "            shutil.copytree(mas1, MASTERDIR)\n",
    "\n",
    "        if not REDUCEDDIR.exists():\n",
    "            os.makedirs(str(REDUCEDDIR))\n",
    "            print(\"{} is created...\".format(str(REDUCEDDIR)))\n",
    "\n",
    "        summary = yfu.make_summary(DOINGDIR/\"*.fit*\")\n",
    "        #print(summary)\n",
    "        print(\"len(summary):\", len(summary))\n",
    "        print(\"summary:\", summary)\n",
    "        #print(summary[\"file\"][0])\n",
    "\n",
    "        df_light = summary.loc[summary[\"IMAGETYP\"] == \"LIGHT\"].copy()\n",
    "        df_light = df_light.reset_index(drop=True)\n",
    "\n",
    "        for _, row in df_light.iterrows():\n",
    "\n",
    "            fpath = Path(row[\"file\"])\n",
    "            ccd = yfu.load_ccd(fpath)\n",
    "            filt = ccd.header[\"FILTER\"]\n",
    "            expt = ccd.header[\"EXPTIME\"]\n",
    "            red = yfu.ccdred(\n",
    "                ccd,\n",
    "                output=Path(f\"{REDUCEDDIR/ fpath.name}\"),\n",
    "                mdarkpath=str(MASTERDIR / \"master_dark_{:.0f}sec.fits\".format(expt)),\n",
    "                mflatpath=str(MASTERDIR / \"master_flat_{}_norm.fits\".format(filt.upper())),\n",
    "                # flat_norm_value=1,  # 1 = skip normalization, None = normalize by mean\n",
    "                overwrite=True\n",
    "            )"
   ]
  },
  {
   "cell_type": "code",
   "execution_count": null,
   "metadata": {},
   "outputs": [],
   "source": []
  }
 ],
 "metadata": {
  "kernelspec": {
   "display_name": "astro_Python_ubuntu_env",
   "language": "python",
   "name": "python3"
  },
  "language_info": {
   "codemirror_mode": {
    "name": "ipython",
    "version": 3
   },
   "file_extension": ".py",
   "mimetype": "text/x-python",
   "name": "python",
   "nbconvert_exporter": "python",
   "pygments_lexer": "ipython3",
   "version": "3.9.18"
  },
  "orig_nbformat": 4,
  "vscode": {
   "interpreter": {
    "hash": "73147851ede918c26f741c84bca6ea3575da18885c8fa4aa4a9fbe5902a3c298"
   }
  }
 },
 "nbformat": 4,
 "nbformat_minor": 2
}
